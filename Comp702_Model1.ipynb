{
  "nbformat": 4,
  "nbformat_minor": 0,
  "metadata": {
    "colab": {
      "provenance": [],
      "gpuType": "T4",
      "authorship_tag": "ABX9TyMeq+otf0HiwaSA0qYuAfCq",
      "include_colab_link": true
    },
    "kernelspec": {
      "name": "python3",
      "display_name": "Python 3"
    },
    "language_info": {
      "name": "python"
    },
    "accelerator": "GPU",
    "widgets": {
      "application/vnd.jupyter.widget-state+json": {
        "a404db86c18d408e9f30a29ba6810132": {
          "model_module": "@jupyter-widgets/controls",
          "model_name": "HBoxModel",
          "model_module_version": "1.5.0",
          "state": {
            "_dom_classes": [],
            "_model_module": "@jupyter-widgets/controls",
            "_model_module_version": "1.5.0",
            "_model_name": "HBoxModel",
            "_view_count": null,
            "_view_module": "@jupyter-widgets/controls",
            "_view_module_version": "1.5.0",
            "_view_name": "HBoxView",
            "box_style": "",
            "children": [
              "IPY_MODEL_5ab3d08ad8d24b459cf73c519f53a1fc",
              "IPY_MODEL_98e6c8b8248c458c8285fa92998d1c30",
              "IPY_MODEL_c641e9c9273b48b489214fd94ee603d9"
            ],
            "layout": "IPY_MODEL_ee37a7beeff1437294bb8ffc1f25435e"
          }
        },
        "5ab3d08ad8d24b459cf73c519f53a1fc": {
          "model_module": "@jupyter-widgets/controls",
          "model_name": "HTMLModel",
          "model_module_version": "1.5.0",
          "state": {
            "_dom_classes": [],
            "_model_module": "@jupyter-widgets/controls",
            "_model_module_version": "1.5.0",
            "_model_name": "HTMLModel",
            "_view_count": null,
            "_view_module": "@jupyter-widgets/controls",
            "_view_module_version": "1.5.0",
            "_view_name": "HTMLView",
            "description": "",
            "description_tooltip": null,
            "layout": "IPY_MODEL_bb9a8ec84e5441fba398e05163045dca",
            "placeholder": "​",
            "style": "IPY_MODEL_7579e6ace45b44c398bdc7323f54ea5a",
            "value": " 34%"
          }
        },
        "98e6c8b8248c458c8285fa92998d1c30": {
          "model_module": "@jupyter-widgets/controls",
          "model_name": "FloatProgressModel",
          "model_module_version": "1.5.0",
          "state": {
            "_dom_classes": [],
            "_model_module": "@jupyter-widgets/controls",
            "_model_module_version": "1.5.0",
            "_model_name": "FloatProgressModel",
            "_view_count": null,
            "_view_module": "@jupyter-widgets/controls",
            "_view_module_version": "1.5.0",
            "_view_name": "ProgressView",
            "bar_style": "danger",
            "description": "",
            "description_tooltip": null,
            "layout": "IPY_MODEL_72781e741b3e4d95ad8e7c463e2848d2",
            "max": 100,
            "min": 0,
            "orientation": "horizontal",
            "style": "IPY_MODEL_3f89aa4fab854effa698cce4d380d344",
            "value": 34
          }
        },
        "c641e9c9273b48b489214fd94ee603d9": {
          "model_module": "@jupyter-widgets/controls",
          "model_name": "HTMLModel",
          "model_module_version": "1.5.0",
          "state": {
            "_dom_classes": [],
            "_model_module": "@jupyter-widgets/controls",
            "_model_module_version": "1.5.0",
            "_model_name": "HTMLModel",
            "_view_count": null,
            "_view_module": "@jupyter-widgets/controls",
            "_view_module_version": "1.5.0",
            "_view_name": "HTMLView",
            "description": "",
            "description_tooltip": null,
            "layout": "IPY_MODEL_29ff5122cbfa4652bada2c3533f94d39",
            "placeholder": "​",
            "style": "IPY_MODEL_1ec4f4cd6d554679828228983c8b0ccf",
            "value": " 34/100 [06:56&lt;13:37, 12.39s/it]"
          }
        },
        "ee37a7beeff1437294bb8ffc1f25435e": {
          "model_module": "@jupyter-widgets/base",
          "model_name": "LayoutModel",
          "model_module_version": "1.2.0",
          "state": {
            "_model_module": "@jupyter-widgets/base",
            "_model_module_version": "1.2.0",
            "_model_name": "LayoutModel",
            "_view_count": null,
            "_view_module": "@jupyter-widgets/base",
            "_view_module_version": "1.2.0",
            "_view_name": "LayoutView",
            "align_content": null,
            "align_items": null,
            "align_self": null,
            "border": null,
            "bottom": null,
            "display": null,
            "flex": null,
            "flex_flow": null,
            "grid_area": null,
            "grid_auto_columns": null,
            "grid_auto_flow": null,
            "grid_auto_rows": null,
            "grid_column": null,
            "grid_gap": null,
            "grid_row": null,
            "grid_template_areas": null,
            "grid_template_columns": null,
            "grid_template_rows": null,
            "height": null,
            "justify_content": null,
            "justify_items": null,
            "left": null,
            "margin": null,
            "max_height": null,
            "max_width": null,
            "min_height": null,
            "min_width": null,
            "object_fit": null,
            "object_position": null,
            "order": null,
            "overflow": null,
            "overflow_x": null,
            "overflow_y": null,
            "padding": null,
            "right": null,
            "top": null,
            "visibility": null,
            "width": null
          }
        },
        "bb9a8ec84e5441fba398e05163045dca": {
          "model_module": "@jupyter-widgets/base",
          "model_name": "LayoutModel",
          "model_module_version": "1.2.0",
          "state": {
            "_model_module": "@jupyter-widgets/base",
            "_model_module_version": "1.2.0",
            "_model_name": "LayoutModel",
            "_view_count": null,
            "_view_module": "@jupyter-widgets/base",
            "_view_module_version": "1.2.0",
            "_view_name": "LayoutView",
            "align_content": null,
            "align_items": null,
            "align_self": null,
            "border": null,
            "bottom": null,
            "display": null,
            "flex": null,
            "flex_flow": null,
            "grid_area": null,
            "grid_auto_columns": null,
            "grid_auto_flow": null,
            "grid_auto_rows": null,
            "grid_column": null,
            "grid_gap": null,
            "grid_row": null,
            "grid_template_areas": null,
            "grid_template_columns": null,
            "grid_template_rows": null,
            "height": null,
            "justify_content": null,
            "justify_items": null,
            "left": null,
            "margin": null,
            "max_height": null,
            "max_width": null,
            "min_height": null,
            "min_width": null,
            "object_fit": null,
            "object_position": null,
            "order": null,
            "overflow": null,
            "overflow_x": null,
            "overflow_y": null,
            "padding": null,
            "right": null,
            "top": null,
            "visibility": null,
            "width": null
          }
        },
        "7579e6ace45b44c398bdc7323f54ea5a": {
          "model_module": "@jupyter-widgets/controls",
          "model_name": "DescriptionStyleModel",
          "model_module_version": "1.5.0",
          "state": {
            "_model_module": "@jupyter-widgets/controls",
            "_model_module_version": "1.5.0",
            "_model_name": "DescriptionStyleModel",
            "_view_count": null,
            "_view_module": "@jupyter-widgets/base",
            "_view_module_version": "1.2.0",
            "_view_name": "StyleView",
            "description_width": ""
          }
        },
        "72781e741b3e4d95ad8e7c463e2848d2": {
          "model_module": "@jupyter-widgets/base",
          "model_name": "LayoutModel",
          "model_module_version": "1.2.0",
          "state": {
            "_model_module": "@jupyter-widgets/base",
            "_model_module_version": "1.2.0",
            "_model_name": "LayoutModel",
            "_view_count": null,
            "_view_module": "@jupyter-widgets/base",
            "_view_module_version": "1.2.0",
            "_view_name": "LayoutView",
            "align_content": null,
            "align_items": null,
            "align_self": null,
            "border": null,
            "bottom": null,
            "display": null,
            "flex": null,
            "flex_flow": null,
            "grid_area": null,
            "grid_auto_columns": null,
            "grid_auto_flow": null,
            "grid_auto_rows": null,
            "grid_column": null,
            "grid_gap": null,
            "grid_row": null,
            "grid_template_areas": null,
            "grid_template_columns": null,
            "grid_template_rows": null,
            "height": null,
            "justify_content": null,
            "justify_items": null,
            "left": null,
            "margin": null,
            "max_height": null,
            "max_width": null,
            "min_height": null,
            "min_width": null,
            "object_fit": null,
            "object_position": null,
            "order": null,
            "overflow": null,
            "overflow_x": null,
            "overflow_y": null,
            "padding": null,
            "right": null,
            "top": null,
            "visibility": null,
            "width": null
          }
        },
        "3f89aa4fab854effa698cce4d380d344": {
          "model_module": "@jupyter-widgets/controls",
          "model_name": "ProgressStyleModel",
          "model_module_version": "1.5.0",
          "state": {
            "_model_module": "@jupyter-widgets/controls",
            "_model_module_version": "1.5.0",
            "_model_name": "ProgressStyleModel",
            "_view_count": null,
            "_view_module": "@jupyter-widgets/base",
            "_view_module_version": "1.2.0",
            "_view_name": "StyleView",
            "bar_color": null,
            "description_width": ""
          }
        },
        "29ff5122cbfa4652bada2c3533f94d39": {
          "model_module": "@jupyter-widgets/base",
          "model_name": "LayoutModel",
          "model_module_version": "1.2.0",
          "state": {
            "_model_module": "@jupyter-widgets/base",
            "_model_module_version": "1.2.0",
            "_model_name": "LayoutModel",
            "_view_count": null,
            "_view_module": "@jupyter-widgets/base",
            "_view_module_version": "1.2.0",
            "_view_name": "LayoutView",
            "align_content": null,
            "align_items": null,
            "align_self": null,
            "border": null,
            "bottom": null,
            "display": null,
            "flex": null,
            "flex_flow": null,
            "grid_area": null,
            "grid_auto_columns": null,
            "grid_auto_flow": null,
            "grid_auto_rows": null,
            "grid_column": null,
            "grid_gap": null,
            "grid_row": null,
            "grid_template_areas": null,
            "grid_template_columns": null,
            "grid_template_rows": null,
            "height": null,
            "justify_content": null,
            "justify_items": null,
            "left": null,
            "margin": null,
            "max_height": null,
            "max_width": null,
            "min_height": null,
            "min_width": null,
            "object_fit": null,
            "object_position": null,
            "order": null,
            "overflow": null,
            "overflow_x": null,
            "overflow_y": null,
            "padding": null,
            "right": null,
            "top": null,
            "visibility": null,
            "width": null
          }
        },
        "1ec4f4cd6d554679828228983c8b0ccf": {
          "model_module": "@jupyter-widgets/controls",
          "model_name": "DescriptionStyleModel",
          "model_module_version": "1.5.0",
          "state": {
            "_model_module": "@jupyter-widgets/controls",
            "_model_module_version": "1.5.0",
            "_model_name": "DescriptionStyleModel",
            "_view_count": null,
            "_view_module": "@jupyter-widgets/base",
            "_view_module_version": "1.2.0",
            "_view_name": "StyleView",
            "description_width": ""
          }
        },
        "2f7330d694c844a49bb82c385a627285": {
          "model_module": "@jupyter-widgets/controls",
          "model_name": "HBoxModel",
          "model_module_version": "1.5.0",
          "state": {
            "_dom_classes": [],
            "_model_module": "@jupyter-widgets/controls",
            "_model_module_version": "1.5.0",
            "_model_name": "HBoxModel",
            "_view_count": null,
            "_view_module": "@jupyter-widgets/controls",
            "_view_module_version": "1.5.0",
            "_view_name": "HBoxView",
            "box_style": "",
            "children": [
              "IPY_MODEL_149116465508432b96d70d28d30be15d",
              "IPY_MODEL_c04b1f5e31d4481aa7cbb1f4fbd8174c",
              "IPY_MODEL_45b0813249a049288a41ffd4123e8835"
            ],
            "layout": "IPY_MODEL_e3e4fde873f3472b8fd73cd6b89a8290"
          }
        },
        "149116465508432b96d70d28d30be15d": {
          "model_module": "@jupyter-widgets/controls",
          "model_name": "HTMLModel",
          "model_module_version": "1.5.0",
          "state": {
            "_dom_classes": [],
            "_model_module": "@jupyter-widgets/controls",
            "_model_module_version": "1.5.0",
            "_model_name": "HTMLModel",
            "_view_count": null,
            "_view_module": "@jupyter-widgets/controls",
            "_view_module_version": "1.5.0",
            "_view_name": "HTMLView",
            "description": "",
            "description_tooltip": null,
            "layout": "IPY_MODEL_1f5c24391d7942f7bdad2f4c9e1f9a1b",
            "placeholder": "​",
            "style": "IPY_MODEL_232756b5408e4578bd57117e45303135",
            "value": " 64%"
          }
        },
        "c04b1f5e31d4481aa7cbb1f4fbd8174c": {
          "model_module": "@jupyter-widgets/controls",
          "model_name": "FloatProgressModel",
          "model_module_version": "1.5.0",
          "state": {
            "_dom_classes": [],
            "_model_module": "@jupyter-widgets/controls",
            "_model_module_version": "1.5.0",
            "_model_name": "FloatProgressModel",
            "_view_count": null,
            "_view_module": "@jupyter-widgets/controls",
            "_view_module_version": "1.5.0",
            "_view_name": "ProgressView",
            "bar_style": "danger",
            "description": "",
            "description_tooltip": null,
            "layout": "IPY_MODEL_e4b8df2b55314637bddeb882857ef00a",
            "max": 100,
            "min": 0,
            "orientation": "horizontal",
            "style": "IPY_MODEL_4baad4e9f97141afa78991e9c5b015fd",
            "value": 64
          }
        },
        "45b0813249a049288a41ffd4123e8835": {
          "model_module": "@jupyter-widgets/controls",
          "model_name": "HTMLModel",
          "model_module_version": "1.5.0",
          "state": {
            "_dom_classes": [],
            "_model_module": "@jupyter-widgets/controls",
            "_model_module_version": "1.5.0",
            "_model_name": "HTMLModel",
            "_view_count": null,
            "_view_module": "@jupyter-widgets/controls",
            "_view_module_version": "1.5.0",
            "_view_name": "HTMLView",
            "description": "",
            "description_tooltip": null,
            "layout": "IPY_MODEL_f2de59f74b3f4258a19f100f5f336c18",
            "placeholder": "​",
            "style": "IPY_MODEL_0a06564f8e894194ac4910c96b01d700",
            "value": " 64/100 [13:01&lt;07:17, 12.15s/it]"
          }
        },
        "e3e4fde873f3472b8fd73cd6b89a8290": {
          "model_module": "@jupyter-widgets/base",
          "model_name": "LayoutModel",
          "model_module_version": "1.2.0",
          "state": {
            "_model_module": "@jupyter-widgets/base",
            "_model_module_version": "1.2.0",
            "_model_name": "LayoutModel",
            "_view_count": null,
            "_view_module": "@jupyter-widgets/base",
            "_view_module_version": "1.2.0",
            "_view_name": "LayoutView",
            "align_content": null,
            "align_items": null,
            "align_self": null,
            "border": null,
            "bottom": null,
            "display": null,
            "flex": null,
            "flex_flow": null,
            "grid_area": null,
            "grid_auto_columns": null,
            "grid_auto_flow": null,
            "grid_auto_rows": null,
            "grid_column": null,
            "grid_gap": null,
            "grid_row": null,
            "grid_template_areas": null,
            "grid_template_columns": null,
            "grid_template_rows": null,
            "height": null,
            "justify_content": null,
            "justify_items": null,
            "left": null,
            "margin": null,
            "max_height": null,
            "max_width": null,
            "min_height": null,
            "min_width": null,
            "object_fit": null,
            "object_position": null,
            "order": null,
            "overflow": null,
            "overflow_x": null,
            "overflow_y": null,
            "padding": null,
            "right": null,
            "top": null,
            "visibility": null,
            "width": null
          }
        },
        "1f5c24391d7942f7bdad2f4c9e1f9a1b": {
          "model_module": "@jupyter-widgets/base",
          "model_name": "LayoutModel",
          "model_module_version": "1.2.0",
          "state": {
            "_model_module": "@jupyter-widgets/base",
            "_model_module_version": "1.2.0",
            "_model_name": "LayoutModel",
            "_view_count": null,
            "_view_module": "@jupyter-widgets/base",
            "_view_module_version": "1.2.0",
            "_view_name": "LayoutView",
            "align_content": null,
            "align_items": null,
            "align_self": null,
            "border": null,
            "bottom": null,
            "display": null,
            "flex": null,
            "flex_flow": null,
            "grid_area": null,
            "grid_auto_columns": null,
            "grid_auto_flow": null,
            "grid_auto_rows": null,
            "grid_column": null,
            "grid_gap": null,
            "grid_row": null,
            "grid_template_areas": null,
            "grid_template_columns": null,
            "grid_template_rows": null,
            "height": null,
            "justify_content": null,
            "justify_items": null,
            "left": null,
            "margin": null,
            "max_height": null,
            "max_width": null,
            "min_height": null,
            "min_width": null,
            "object_fit": null,
            "object_position": null,
            "order": null,
            "overflow": null,
            "overflow_x": null,
            "overflow_y": null,
            "padding": null,
            "right": null,
            "top": null,
            "visibility": null,
            "width": null
          }
        },
        "232756b5408e4578bd57117e45303135": {
          "model_module": "@jupyter-widgets/controls",
          "model_name": "DescriptionStyleModel",
          "model_module_version": "1.5.0",
          "state": {
            "_model_module": "@jupyter-widgets/controls",
            "_model_module_version": "1.5.0",
            "_model_name": "DescriptionStyleModel",
            "_view_count": null,
            "_view_module": "@jupyter-widgets/base",
            "_view_module_version": "1.2.0",
            "_view_name": "StyleView",
            "description_width": ""
          }
        },
        "e4b8df2b55314637bddeb882857ef00a": {
          "model_module": "@jupyter-widgets/base",
          "model_name": "LayoutModel",
          "model_module_version": "1.2.0",
          "state": {
            "_model_module": "@jupyter-widgets/base",
            "_model_module_version": "1.2.0",
            "_model_name": "LayoutModel",
            "_view_count": null,
            "_view_module": "@jupyter-widgets/base",
            "_view_module_version": "1.2.0",
            "_view_name": "LayoutView",
            "align_content": null,
            "align_items": null,
            "align_self": null,
            "border": null,
            "bottom": null,
            "display": null,
            "flex": null,
            "flex_flow": null,
            "grid_area": null,
            "grid_auto_columns": null,
            "grid_auto_flow": null,
            "grid_auto_rows": null,
            "grid_column": null,
            "grid_gap": null,
            "grid_row": null,
            "grid_template_areas": null,
            "grid_template_columns": null,
            "grid_template_rows": null,
            "height": null,
            "justify_content": null,
            "justify_items": null,
            "left": null,
            "margin": null,
            "max_height": null,
            "max_width": null,
            "min_height": null,
            "min_width": null,
            "object_fit": null,
            "object_position": null,
            "order": null,
            "overflow": null,
            "overflow_x": null,
            "overflow_y": null,
            "padding": null,
            "right": null,
            "top": null,
            "visibility": null,
            "width": null
          }
        },
        "4baad4e9f97141afa78991e9c5b015fd": {
          "model_module": "@jupyter-widgets/controls",
          "model_name": "ProgressStyleModel",
          "model_module_version": "1.5.0",
          "state": {
            "_model_module": "@jupyter-widgets/controls",
            "_model_module_version": "1.5.0",
            "_model_name": "ProgressStyleModel",
            "_view_count": null,
            "_view_module": "@jupyter-widgets/base",
            "_view_module_version": "1.2.0",
            "_view_name": "StyleView",
            "bar_color": null,
            "description_width": ""
          }
        },
        "f2de59f74b3f4258a19f100f5f336c18": {
          "model_module": "@jupyter-widgets/base",
          "model_name": "LayoutModel",
          "model_module_version": "1.2.0",
          "state": {
            "_model_module": "@jupyter-widgets/base",
            "_model_module_version": "1.2.0",
            "_model_name": "LayoutModel",
            "_view_count": null,
            "_view_module": "@jupyter-widgets/base",
            "_view_module_version": "1.2.0",
            "_view_name": "LayoutView",
            "align_content": null,
            "align_items": null,
            "align_self": null,
            "border": null,
            "bottom": null,
            "display": null,
            "flex": null,
            "flex_flow": null,
            "grid_area": null,
            "grid_auto_columns": null,
            "grid_auto_flow": null,
            "grid_auto_rows": null,
            "grid_column": null,
            "grid_gap": null,
            "grid_row": null,
            "grid_template_areas": null,
            "grid_template_columns": null,
            "grid_template_rows": null,
            "height": null,
            "justify_content": null,
            "justify_items": null,
            "left": null,
            "margin": null,
            "max_height": null,
            "max_width": null,
            "min_height": null,
            "min_width": null,
            "object_fit": null,
            "object_position": null,
            "order": null,
            "overflow": null,
            "overflow_x": null,
            "overflow_y": null,
            "padding": null,
            "right": null,
            "top": null,
            "visibility": null,
            "width": null
          }
        },
        "0a06564f8e894194ac4910c96b01d700": {
          "model_module": "@jupyter-widgets/controls",
          "model_name": "DescriptionStyleModel",
          "model_module_version": "1.5.0",
          "state": {
            "_model_module": "@jupyter-widgets/controls",
            "_model_module_version": "1.5.0",
            "_model_name": "DescriptionStyleModel",
            "_view_count": null,
            "_view_module": "@jupyter-widgets/base",
            "_view_module_version": "1.2.0",
            "_view_name": "StyleView",
            "description_width": ""
          }
        }
      }
    }
  },
  "cells": [
    {
      "cell_type": "markdown",
      "metadata": {
        "id": "view-in-github",
        "colab_type": "text"
      },
      "source": [
        "<a href=\"https://colab.research.google.com/github/atanilson/Comp702/blob/main/Comp702_Model1.ipynb\" target=\"_parent\"><img src=\"https://colab.research.google.com/assets/colab-badge.svg\" alt=\"Open In Colab\"/></a>"
      ]
    },
    {
      "cell_type": "code",
      "execution_count": null,
      "metadata": {
        "id": "qam9OFxaUqTc"
      },
      "outputs": [],
      "source": [
        "# Libraries"
      ]
    },
    {
      "cell_type": "code",
      "source": [
        "import torch\n",
        "from torch import nn\n",
        "\n",
        "# To get data\n",
        "import requests\n",
        "import zipfile\n",
        "from pathlib import Path\n",
        "import os\n",
        "\n",
        "# Tranforming data\n",
        "from torch.utils.data import DataLoader, random_split\n",
        "from torchvision import datasets, transforms"
      ],
      "metadata": {
        "id": "jfR38OA9X8zZ"
      },
      "execution_count": null,
      "outputs": []
    },
    {
      "cell_type": "code",
      "source": [
        "# Device agnostic\n",
        "device = \"cuda\" if torch.cuda.is_available() else \"cpu\"\n",
        "\n",
        "# Reproducibility\n",
        "torch.manual_seed(42)\n",
        "torch.cuda.manual_seed(42)"
      ],
      "metadata": {
        "id": "AaRzA3FKYDUM"
      },
      "execution_count": null,
      "outputs": []
    },
    {
      "cell_type": "code",
      "source": [
        "device"
      ],
      "metadata": {
        "colab": {
          "base_uri": "https://localhost:8080/",
          "height": 35
        },
        "id": "-BB64NV3O30A",
        "outputId": "06a3e7b6-8b52-48dc-eb7d-986c89bbb99a"
      },
      "execution_count": null,
      "outputs": [
        {
          "output_type": "execute_result",
          "data": {
            "text/plain": [
              "'cuda'"
            ],
            "application/vnd.google.colaboratory.intrinsic+json": {
              "type": "string"
            }
          },
          "metadata": {},
          "execution_count": 3
        }
      ]
    },
    {
      "cell_type": "markdown",
      "source": [
        "# Data exploration"
      ],
      "metadata": {
        "id": "YSBQWKAfZUJk"
      }
    },
    {
      "cell_type": "markdown",
      "source": [
        "## Downlaoding the data"
      ],
      "metadata": {
        "id": "q-AikVTBZPTk"
      }
    },
    {
      "cell_type": "code",
      "source": [
        "!wget https://zenodo.org/records/7711810/files/EuroSAT_RGB.zip?download=1 -O EuroSAT_RGB.zip\n",
        "!unzip -q EuroSAT_RGB.zip -d \"data\"\n",
        "!rm EuroSAT_RGB.zip"
      ],
      "metadata": {
        "colab": {
          "base_uri": "https://localhost:8080/"
        },
        "id": "kCCiBncXZYo_",
        "outputId": "a57fadb5-8801-4e5f-b578-0b381604d9c6"
      },
      "execution_count": null,
      "outputs": [
        {
          "output_type": "stream",
          "name": "stdout",
          "text": [
            "--2025-07-02 08:23:17--  https://zenodo.org/records/7711810/files/EuroSAT_RGB.zip?download=1\n",
            "Resolving zenodo.org (zenodo.org)... 188.185.43.25, 188.185.48.194, 188.185.45.92, ...\n",
            "Connecting to zenodo.org (zenodo.org)|188.185.43.25|:443... connected.\n",
            "HTTP request sent, awaiting response... 200 OK\n",
            "Length: 94658721 (90M) [application/octet-stream]\n",
            "Saving to: ‘EuroSAT_RGB.zip’\n",
            "\n",
            "EuroSAT_RGB.zip     100%[===================>]  90.27M  2.18MB/s    in 2m 0s   \n",
            "\n",
            "2025-07-02 08:25:18 (767 KB/s) - ‘EuroSAT_RGB.zip’ saved [94658721/94658721]\n",
            "\n"
          ]
        }
      ]
    },
    {
      "cell_type": "code",
      "source": [
        "data_path = Path(\"data/\")\n",
        "#data_path.mkdir(parents=True, exist_ok=True)\n",
        "#!mv EuroSAT_RGB data/\n",
        "EuroSAT_RGB_path = data_path/\"EuroSAT_RGB\""
      ],
      "metadata": {
        "id": "p8QrOt_wcdmr"
      },
      "execution_count": null,
      "outputs": []
    },
    {
      "cell_type": "code",
      "source": [
        "def inspect_datafolder(dir_dataset):\n",
        "  \"\"\"Walks though the dataset dir and return the content\"\"\"\n",
        "  for dirpath, dirnames, filenames in os.walk(dir_dataset):\n",
        "    print(f\"There are {len(dirnames)} folders and {len(filenames)} images in {dirpath}.\")"
      ],
      "metadata": {
        "id": "j7NAcVrpazv6"
      },
      "execution_count": null,
      "outputs": []
    },
    {
      "cell_type": "code",
      "source": [
        "inspect_datafolder(EuroSAT_RGB_path)"
      ],
      "metadata": {
        "colab": {
          "base_uri": "https://localhost:8080/"
        },
        "id": "1Zjlp9Vmca3z",
        "outputId": "96c6b62c-dd7e-434a-88e8-b3b5c96d1551"
      },
      "execution_count": null,
      "outputs": [
        {
          "output_type": "stream",
          "name": "stdout",
          "text": [
            "There are 10 folders and 0 images in data/EuroSAT_RGB.\n",
            "There are 0 folders and 3000 images in data/EuroSAT_RGB/SeaLake.\n",
            "There are 0 folders and 3000 images in data/EuroSAT_RGB/AnnualCrop.\n",
            "There are 0 folders and 3000 images in data/EuroSAT_RGB/HerbaceousVegetation.\n",
            "There are 0 folders and 2500 images in data/EuroSAT_RGB/Highway.\n",
            "There are 0 folders and 2500 images in data/EuroSAT_RGB/River.\n",
            "There are 0 folders and 3000 images in data/EuroSAT_RGB/Residential.\n",
            "There are 0 folders and 2500 images in data/EuroSAT_RGB/Industrial.\n",
            "There are 0 folders and 2500 images in data/EuroSAT_RGB/PermanentCrop.\n",
            "There are 0 folders and 2000 images in data/EuroSAT_RGB/Pasture.\n",
            "There are 0 folders and 3000 images in data/EuroSAT_RGB/Forest.\n"
          ]
        }
      ]
    },
    {
      "cell_type": "markdown",
      "source": [
        "## Visualising"
      ],
      "metadata": {
        "id": "6TVsj7w8sL49"
      }
    },
    {
      "cell_type": "code",
      "source": [
        "import random\n",
        "from PIL import Image\n",
        "\n",
        "random.seed(42)\n",
        "\n",
        "# Get the list of all possible paths in the dataset\n",
        "image_path_list = list(EuroSAT_RGB_path.glob(\"*/*.jpg\"))\n",
        "\n",
        "# Picking a random image path and getting the clas\n",
        "random_image_path = random.choice(image_path_list)\n",
        "random_image_class = random_image_path.parent.stem # Parent it the path, stem is the end of the folder\n",
        "\n",
        "# Opening the image\n",
        "img = Image.open(random_image_path)\n",
        "\n",
        "# printing caracteriscs\n",
        "print(f\"Randoma image path: {random_image_path}\")\n",
        "print(f\"Image class: {random_image_class}\")\n",
        "print(f\"Image height: {img.height}\")\n",
        "print(f\"Image width: {img.width}\")"
      ],
      "metadata": {
        "colab": {
          "base_uri": "https://localhost:8080/"
        },
        "id": "y0gbQU5-sQWk",
        "outputId": "44942b33-366a-4dcc-bf68-bcbed4a6fb12"
      },
      "execution_count": null,
      "outputs": [
        {
          "output_type": "stream",
          "name": "stdout",
          "text": [
            "Randoma image path: data/EuroSAT_RGB/PermanentCrop/PermanentCrop_641.jpg\n",
            "Image class: PermanentCrop\n",
            "Image height: 64\n",
            "Image width: 64\n"
          ]
        }
      ]
    },
    {
      "cell_type": "markdown",
      "source": [
        "### Using matplotlib"
      ],
      "metadata": {
        "id": "0ldtCvH4vJhu"
      }
    },
    {
      "cell_type": "code",
      "source": [
        "import numpy as np\n",
        "import matplotlib.pyplot as plt\n",
        "\n",
        "# Turn image into an array\n",
        "img_as_array = np.asanyarray(img)\n",
        "\n",
        "plt.figure(figsize=(10,7))\n",
        "plt.imshow(img_as_array)\n",
        "plt.title(f\"Image class: {random_image_class} | Image shape: {img_as_array.shape} -> [height, width, color_channels]\")\n",
        "plt.axis(False)"
      ],
      "metadata": {
        "colab": {
          "base_uri": "https://localhost:8080/",
          "height": 615
        },
        "id": "k2_PDOPmvOR4",
        "outputId": "d70de18a-f2d4-4585-d8b7-e486775112ca"
      },
      "execution_count": null,
      "outputs": [
        {
          "output_type": "execute_result",
          "data": {
            "text/plain": [
              "(np.float64(-0.5), np.float64(63.5), np.float64(63.5), np.float64(-0.5))"
            ]
          },
          "metadata": {},
          "execution_count": 9
        },
        {
          "output_type": "display_data",
          "data": {
            "text/plain": [
              "<Figure size 1000x700 with 1 Axes>"
            ],
            "image/png": "[encoded data removed]"
          },
          "metadata": {}
        }
      ]
    },
    {
      "cell_type": "markdown",
      "source": [
        "## Tranforming\n",
        "\n",
        "Will perform transformation expermentaly as needed"
      ],
      "metadata": {
        "id": "_LDavFbCl6ic"
      }
    },
    {
      "cell_type": "code",
      "source": [
        "transform = transforms.Compose([\n",
        "    transforms.Resize((64,64)),\n",
        "    #transforms.RandomHorizontalFlip(),\n",
        "    #transforms.RandomRotation(10),\n",
        "    transforms.ToTensor(),\n",
        "    #transforms.Normalize(mean=[0.485, 0.456, 0.406], std=[0.229, 0.224, 0.225])\n",
        "])"
      ],
      "metadata": {
        "id": "AzZE2U1ne8ok"
      },
      "execution_count": null,
      "outputs": []
    },
    {
      "cell_type": "code",
      "source": [
        "transform(img).dtype"
      ],
      "metadata": {
        "colab": {
          "base_uri": "https://localhost:8080/"
        },
        "id": "4TNWgWsVxxGU",
        "outputId": "12365213-3870-4728-d4e9-d2dc404c3d7f"
      },
      "execution_count": null,
      "outputs": [
        {
          "output_type": "execute_result",
          "data": {
            "text/plain": [
              "torch.float32"
            ]
          },
          "metadata": {},
          "execution_count": 11
        }
      ]
    },
    {
      "cell_type": "code",
      "source": [
        "def plot_tranformed_images(image_path_list, transform, n=3, seed=None):\n",
        "  \"\"\"\n",
        "  Will select random image and load/Tranform\n",
        "  Then will plot the original vs Tranformed\n",
        "  \"\"\"\n",
        "\n",
        "  if seed:\n",
        "    random.seed(seed)\n",
        "\n",
        "  random_image_paths = random.sample(image_path_list, k=n)\n",
        "\n",
        "  for image_path in random_image_paths:\n",
        "    with Image.open(image_path) as f:\n",
        "      fig, ax = plt.subplots(nrows=1, ncols=2)\n",
        "      # Ploting original\n",
        "      ax[0].imshow(f)\n",
        "      ax[0].set_title(f\"Original\\n Size: {f.size}\")\n",
        "      ax[0].axis(False)\n",
        "\n",
        "      # Ploting tranfomed\n",
        "      tranformed_image = transform(f).permute(1, 2, 0) # Change shape because of matplotlib (C, H, W) -> (H, W, C)\n",
        "      ax[1].imshow(tranformed_image)\n",
        "      ax[1].set_title(f\"Transformed\\n Size: {tranformed_image.shape}\")\n",
        "      ax[1].axis(False)\n",
        "\n",
        "      fig.suptitle(f\"Class: {image_path.parent.stem}\", fontsize = 16)"
      ],
      "metadata": {
        "id": "iu2qoJKux5z1"
      },
      "execution_count": null,
      "outputs": []
    },
    {
      "cell_type": "code",
      "source": [
        "plot_tranformed_images(image_path_list=image_path_list, transform=transform, n=3, seed=None)"
      ],
      "metadata": {
        "colab": {
          "base_uri": "https://localhost:8080/",
          "height": 1000
        },
        "id": "gZWInUQ31aq1",
        "outputId": "62a777b3-3fda-4df5-a4f5-26fc73da7f6c"
      },
      "execution_count": null,
      "outputs": [
        {
          "output_type": "display_data",
          "data": {
            "text/plain": [
              "<Figure size 640x480 with 2 Axes>"
            ],
            "image/png": "[encoded data removed]"
          },
          "metadata": {}
        },
        {
          "output_type": "display_data",
          "data": {
            "text/plain": [
              "<Figure size 640x480 with 2 Axes>"
            ],
            "image/png": "[encoded data removed]"
          },
          "metadata": {}
        },
        {
          "output_type": "display_data",
          "data": {
            "text/plain": [
              "<Figure size 640x480 with 2 Axes>"
            ],
            "image/png": "[encoded data removed]"
          },
          "metadata": {}
        }
      ]
    },
    {
      "cell_type": "markdown",
      "source": [
        "### Other form of data Agmentation"
      ],
      "metadata": {
        "id": "4lJ0izqJP5h0"
      }
    },
    {
      "cell_type": "code",
      "source": [
        "# See PyTorch Documentation, e.g. TrivialAugment\n"
      ],
      "metadata": {
        "id": "7KOXTBZ7QGMk"
      },
      "execution_count": null,
      "outputs": []
    },
    {
      "cell_type": "markdown",
      "source": [
        "### Creating the datset"
      ],
      "metadata": {
        "id": "NQ2jzX_ZxRxu"
      }
    },
    {
      "cell_type": "code",
      "source": [
        "full_dataset = datasets.ImageFolder(root=EuroSAT_RGB_path, transform=transform)\n",
        "class_names = full_dataset.classes\n",
        "\n",
        "train_size = int(0.8*len(full_dataset))\n",
        "test_size = len(full_dataset) - train_size\n",
        "\n",
        "train_dataset, test_dataset = random_split(full_dataset, [train_size, test_size])"
      ],
      "metadata": {
        "id": "PpsySu6vxWDL"
      },
      "execution_count": null,
      "outputs": []
    },
    {
      "cell_type": "code",
      "source": [
        "len(train_dataset), len(test_dataset)"
      ],
      "metadata": {
        "colab": {
          "base_uri": "https://localhost:8080/"
        },
        "id": "UnwuQm5T2GTW",
        "outputId": "d23d1c00-c7db-40aa-832c-3a0ef00cd4d8"
      },
      "execution_count": null,
      "outputs": [
        {
          "output_type": "execute_result",
          "data": {
            "text/plain": [
              "(21600, 5400)"
            ]
          },
          "metadata": {},
          "execution_count": 16
        }
      ]
    },
    {
      "cell_type": "code",
      "source": [
        "full_dataset"
      ],
      "metadata": {
        "colab": {
          "base_uri": "https://localhost:8080/"
        },
        "id": "SR85tqW12M6G",
        "outputId": "09ec2625-cb21-45f1-807d-a7ef66036d64"
      },
      "execution_count": null,
      "outputs": [
        {
          "output_type": "execute_result",
          "data": {
            "text/plain": [
              "Dataset ImageFolder\n",
              "    Number of datapoints: 27000\n",
              "    Root location: data/EuroSAT_RGB\n",
              "    StandardTransform\n",
              "Transform: Compose(\n",
              "               Resize(size=(64, 64), interpolation=bilinear, max_size=None, antialias=True)\n",
              "               ToTensor()\n",
              "           )"
            ]
          },
          "metadata": {},
          "execution_count": 17
        }
      ]
    },
    {
      "cell_type": "code",
      "source": [
        "full_dataset.samples[0]"
      ],
      "metadata": {
        "colab": {
          "base_uri": "https://localhost:8080/"
        },
        "id": "WWsyF6nG2f7s",
        "outputId": "0ed71c18-86ff-4643-de48-7610d4b78539"
      },
      "execution_count": null,
      "outputs": [
        {
          "output_type": "execute_result",
          "data": {
            "text/plain": [
              "('data/EuroSAT_RGB/AnnualCrop/AnnualCrop_1.jpg', 0)"
            ]
          },
          "metadata": {},
          "execution_count": 18
        }
      ]
    },
    {
      "cell_type": "code",
      "source": [
        "# Index on the dataset to get a single image and label\n",
        "img, label = full_dataset[0][0], full_dataset[0][1]\n",
        "print(f\"Image tensor: \\n {img}\")\n",
        "print(f\"Image shape: {img.shape}\")\n",
        "print(f\"Image datatype: {img.dtype}\")\n",
        "print(f\"Image label: {label}\")\n",
        "print(f\"Lable datatype: {type(label)}\")"
      ],
      "metadata": {
        "colab": {
          "base_uri": "https://localhost:8080/"
        },
        "id": "oZSRncAH3lPJ",
        "outputId": "354e7d64-be26-4fcb-dad6-17e185eeb7b7"
      },
      "execution_count": null,
      "outputs": [
        {
          "output_type": "stream",
          "name": "stdout",
          "text": [
            "Image tensor: \n",
            " tensor([[[0.5843, 0.5843, 0.5804,  ..., 0.4000, 0.4078, 0.4039],\n",
            "         [0.5843, 0.5843, 0.5804,  ..., 0.4000, 0.4078, 0.4039],\n",
            "         [0.5608, 0.5569, 0.5725,  ..., 0.4000, 0.4000, 0.4039],\n",
            "         ...,\n",
            "         [0.5647, 0.5529, 0.5373,  ..., 0.4039, 0.3922, 0.3961],\n",
            "         [0.5176, 0.5176, 0.4980,  ..., 0.4118, 0.4118, 0.4196],\n",
            "         [0.4863, 0.4784, 0.4706,  ..., 0.4157, 0.4157, 0.4196]],\n",
            "\n",
            "        [[0.4745, 0.4745, 0.4667,  ..., 0.3529, 0.3608, 0.3569],\n",
            "         [0.4745, 0.4745, 0.4667,  ..., 0.3529, 0.3608, 0.3569],\n",
            "         [0.4588, 0.4549, 0.4588,  ..., 0.3608, 0.3529, 0.3569],\n",
            "         ...,\n",
            "         [0.4549, 0.4588, 0.4588,  ..., 0.3647, 0.3529, 0.3569],\n",
            "         [0.4314, 0.4392, 0.4314,  ..., 0.3686, 0.3647, 0.3725],\n",
            "         [0.4118, 0.4157, 0.4039,  ..., 0.3725, 0.3686, 0.3725]],\n",
            "\n",
            "        [[0.4706, 0.4706, 0.4745,  ..., 0.3922, 0.4000, 0.3961],\n",
            "         [0.4706, 0.4706, 0.4745,  ..., 0.3922, 0.4000, 0.3961],\n",
            "         [0.4627, 0.4588, 0.4745,  ..., 0.3961, 0.3922, 0.3961],\n",
            "         ...,\n",
            "         [0.4510, 0.4588, 0.4667,  ..., 0.4000, 0.3961, 0.4000],\n",
            "         [0.4431, 0.4471, 0.4549,  ..., 0.4000, 0.4039, 0.4118],\n",
            "         [0.4275, 0.4275, 0.4353,  ..., 0.4039, 0.4078, 0.4118]]])\n",
            "Image shape: torch.Size([3, 64, 64])\n",
            "Image datatype: torch.float32\n",
            "Image label: 0\n",
            "Lable datatype: <class 'int'>\n"
          ]
        }
      ]
    },
    {
      "cell_type": "code",
      "source": [
        "# Printing Image directy from te datasete\n",
        "img_permute = img.permute(1, 2, 0)\n",
        "\n",
        "plt.figure(figsize=(10,7))\n",
        "plt.imshow(img_permute)\n",
        "plt.axis(False)\n",
        "plt.title(class_names[label], fontsize=14)"
      ],
      "metadata": {
        "colab": {
          "base_uri": "https://localhost:8080/",
          "height": 616
        },
        "id": "MOlVNHyx5qFH",
        "outputId": "cd7a4140-2dc0-4134-d7c8-d99116422e6c"
      },
      "execution_count": null,
      "outputs": [
        {
          "output_type": "execute_result",
          "data": {
            "text/plain": [
              "Text(0.5, 1.0, 'AnnualCrop')"
            ]
          },
          "metadata": {},
          "execution_count": 20
        },
        {
          "output_type": "display_data",
          "data": {
            "text/plain": [
              "<Figure size 1000x700 with 1 Axes>"
            ],
            "image/png": "[encoded data removed]"
          },
          "metadata": {}
        }
      ]
    },
    {
      "cell_type": "markdown",
      "source": [
        "### Displaying random image from the dataset"
      ],
      "metadata": {
        "id": "4cWbdGpg-lT1"
      }
    },
    {
      "cell_type": "code",
      "source": [
        "from typing import List\n",
        "def display_random_images(dataset: torch.utils.data.Dataset,\n",
        "                         classes: List[str] = None,\n",
        "                         n: int = 10,\n",
        "                         display_shape: bool = True,\n",
        "                         seed: int = None):\n",
        "  # Better if is less tha 10 because of display\n",
        "  if n>10:\n",
        "    n=10\n",
        "\n",
        "  if seed:\n",
        "    random.seed(seed)\n",
        "\n",
        "  # 4. Getting random sample indexes\n",
        "  random_sample_idx = random.sample(range(len(dataset)), k=n)\n",
        "\n",
        "  # Create plot\n",
        "  plt.figure(figsize=(16, 8))\n",
        "\n",
        "  # Looping through the index and ploting them\n",
        "  for i, img_sample_idx in enumerate(random_sample_idx):\n",
        "    img_sample, label_sample = dataset[img_sample_idx][0], dataset[img_sample_idx][1]\n",
        "\n",
        "    plt.subplot(1,n, i+1)\n",
        "    plt.imshow(img_sample.permute(1,2,0))\n",
        "    plt.axis(False)\n",
        "    if classes:\n",
        "      title = (f\"Class: {classes[label_sample]}\")\n",
        "      if display_shape:\n",
        "        title = title + f\"\\nShape: {img_sample.permute(1,2,0).shape}\"\n",
        "    plt.title(title)"
      ],
      "metadata": {
        "id": "-zfbYQBO-uJi"
      },
      "execution_count": null,
      "outputs": []
    },
    {
      "cell_type": "code",
      "source": [
        "display_random_images(train_dataset.dataset, n=5, classes=class_names, seed=42)"
      ],
      "metadata": {
        "colab": {
          "base_uri": "https://localhost:8080/",
          "height": 293
        },
        "id": "o2pjhLnrCRVT",
        "outputId": "38ba2147-b314-4412-98f4-bbbf4510c200"
      },
      "execution_count": null,
      "outputs": [
        {
          "output_type": "display_data",
          "data": {
            "text/plain": [
              "<Figure size 1600x800 with 5 Axes>"
            ],
            "image/png": "[encoded data removed]"
          },
          "metadata": {}
        }
      ]
    },
    {
      "cell_type": "markdown",
      "source": [
        "### Creatind Datalaoder"
      ],
      "metadata": {
        "id": "8VWZhfml2B1R"
      }
    },
    {
      "cell_type": "code",
      "source": [
        "# Datalaoder\n",
        "BATH_SIZE = 32\n",
        "NUM_WORKERS = os.cpu_count()\n",
        "\n",
        "train_datalaoder = DataLoader(train_dataset, batch_size=BATH_SIZE, num_workers=NUM_WORKERS, shuffle=True)\n",
        "test_dataloader = DataLoader(test_dataset, batch_size=BATH_SIZE, num_workers=NUM_WORKERS, shuffle=False)"
      ],
      "metadata": {
        "id": "gWuLhPJKqxXs"
      },
      "execution_count": null,
      "outputs": []
    },
    {
      "cell_type": "code",
      "source": [
        "len(train_datalaoder), len(train_dataset)"
      ],
      "metadata": {
        "colab": {
          "base_uri": "https://localhost:8080/"
        },
        "id": "83bvulma6zmS",
        "outputId": "e86c0725-09ce-439a-9804-e0089bff8ba4"
      },
      "execution_count": null,
      "outputs": [
        {
          "output_type": "execute_result",
          "data": {
            "text/plain": [
              "(675, 21600)"
            ]
          },
          "metadata": {},
          "execution_count": 24
        }
      ]
    },
    {
      "cell_type": "code",
      "source": [
        "21600/32"
      ],
      "metadata": {
        "colab": {
          "base_uri": "https://localhost:8080/"
        },
        "id": "mR2eHvYW66lZ",
        "outputId": "184dedd0-5d5d-4e52-a82a-5ce4d0bb720c"
      },
      "execution_count": null,
      "outputs": [
        {
          "output_type": "execute_result",
          "data": {
            "text/plain": [
              "675.0"
            ]
          },
          "metadata": {},
          "execution_count": 25
        }
      ]
    },
    {
      "cell_type": "code",
      "source": [
        "# Loading from the datalaoder\n",
        "img, label = next(iter(train_datalaoder))\n",
        "print(f\"Image shape: {img.shape}-> [batch_size, color channels, height, width]\")\n",
        "print(f\"Label shape: {label.shape}\")"
      ],
      "metadata": {
        "colab": {
          "base_uri": "https://localhost:8080/"
        },
        "id": "lLqdzCIOr8bR",
        "outputId": "81507bf3-26af-46ae-dbe3-2b7ca2111712"
      },
      "execution_count": null,
      "outputs": [
        {
          "output_type": "stream",
          "name": "stdout",
          "text": [
            "Image shape: torch.Size([32, 3, 64, 64])-> [batch_size, color channels, height, width]\n",
            "Label shape: torch.Size([32])\n"
          ]
        }
      ]
    },
    {
      "cell_type": "code",
      "source": [],
      "metadata": {
        "id": "Vo4H-mtD8Fyn"
      },
      "execution_count": null,
      "outputs": []
    },
    {
      "cell_type": "markdown",
      "source": [
        "# Model 1\n",
        "\n",
        "* CNN Artiteture based on CNN explainer TinyVGG"
      ],
      "metadata": {
        "id": "1pBA9LEAQczN"
      }
    },
    {
      "cell_type": "code",
      "source": [
        "class CNN_Model1(nn.Module):\n",
        "  \"\"\"\n",
        "  Model ...\n",
        "  \"\"\"\n",
        "  def __init__(self, input_shape: int,hidden_units: int, output_shape:int):\n",
        "    super().__init__()\n",
        "    self.conv_block_1 = nn.Sequential(\n",
        "        nn.Conv2d(in_channels=input_shape,\n",
        "                  out_channels=hidden_units,\n",
        "                  kernel_size=3,\n",
        "                  stride=1,\n",
        "                  padding=0),\n",
        "        nn.ReLU(),\n",
        "        nn.Conv2d(\n",
        "            in_channels=hidden_units,\n",
        "            out_channels=hidden_units,\n",
        "            kernel_size=3,\n",
        "            stride=1,\n",
        "            padding=0\n",
        "        ),\n",
        "        nn.ReLU(),\n",
        "        nn.MaxPool2d(\n",
        "            kernel_size=2,\n",
        "            stride=2\n",
        "        )\n",
        "    )\n",
        "    self.conv_block_2 = nn.Sequential(\n",
        "        nn.Conv2d(in_channels=hidden_units,\n",
        "                  out_channels=hidden_units,\n",
        "                  kernel_size=3,\n",
        "                  stride=1,\n",
        "                  padding=0),\n",
        "        nn.ReLU(),\n",
        "        nn.Conv2d(\n",
        "            in_channels=hidden_units,\n",
        "            out_channels=hidden_units,\n",
        "            kernel_size=3,\n",
        "            stride=1,\n",
        "            padding=0\n",
        "        ),\n",
        "        nn.ReLU(),\n",
        "        nn.MaxPool2d(\n",
        "            kernel_size=2,\n",
        "            stride=2\n",
        "        )\n",
        "    )\n",
        "    self.pooling = nn.Sequential(\n",
        "        nn.Flatten(),\n",
        "        nn.Linear(\n",
        "            in_features=hidden_units*13*13,\n",
        "            out_features=output_shape\n",
        "        )\n",
        "    #self.pooling = nn.Sequential(nn.Flatten(), nn.LazyLinear(out_features=output_shape)) out maticlay get the in_fitures\n",
        "    )\n",
        "\n",
        "  def forward(self,x):\n",
        "    #print(x.shape)\n",
        "    #x=self.conv_block_1(x)\n",
        "    #print(x.shape)\n",
        "    #x=self.conv_block_2(x)\n",
        "    #print(x.shape)\n",
        "    #x=self.pooling(x)\n",
        "    #print(x.shape)\n",
        "    #return x\n",
        "    return self.pooling(self.conv_block_2(self.conv_block_1(x)))\n"
      ],
      "metadata": {
        "id": "r2rouakOQw99"
      },
      "execution_count": null,
      "outputs": []
    },
    {
      "cell_type": "code",
      "source": [
        "len(class_names)"
      ],
      "metadata": {
        "colab": {
          "base_uri": "https://localhost:8080/"
        },
        "id": "EVtRh1j3aAhH",
        "outputId": "a9791a31-d493-4363-9b4e-04f4b59bac8f"
      },
      "execution_count": null,
      "outputs": [
        {
          "output_type": "execute_result",
          "data": {
            "text/plain": [
              "10"
            ]
          },
          "metadata": {},
          "execution_count": 53
        }
      ]
    },
    {
      "cell_type": "code",
      "source": [
        "model_1 = CNN_Model1(\n",
        "    input_shape=3,\n",
        "    hidden_units=10,\n",
        "    output_shape=len(class_names)\n",
        ").to(device)\n",
        "\n",
        "model_1"
      ],
      "metadata": {
        "colab": {
          "base_uri": "https://localhost:8080/"
        },
        "id": "Vg3mkf1Ta9Rr",
        "outputId": "dfbc5475-2fa7-46c5-80b9-cebfdff2ff5b"
      },
      "execution_count": null,
      "outputs": [
        {
          "output_type": "execute_result",
          "data": {
            "text/plain": [
              "CNN_Model1(\n",
              "  (conv_block_1): Sequential(\n",
              "    (0): Conv2d(3, 10, kernel_size=(3, 3), stride=(1, 1))\n",
              "    (1): ReLU()\n",
              "    (2): Conv2d(10, 10, kernel_size=(3, 3), stride=(1, 1))\n",
              "    (3): ReLU()\n",
              "    (4): MaxPool2d(kernel_size=2, stride=2, padding=0, dilation=1, ceil_mode=False)\n",
              "  )\n",
              "  (conv_block_2): Sequential(\n",
              "    (0): Conv2d(10, 10, kernel_size=(3, 3), stride=(1, 1))\n",
              "    (1): ReLU()\n",
              "    (2): Conv2d(10, 10, kernel_size=(3, 3), stride=(1, 1))\n",
              "    (3): ReLU()\n",
              "    (4): MaxPool2d(kernel_size=2, stride=2, padding=0, dilation=1, ceil_mode=False)\n",
              "  )\n",
              "  (pooling): Sequential(\n",
              "    (0): Flatten(start_dim=1, end_dim=-1)\n",
              "    (1): Linear(in_features=1690, out_features=10, bias=True)\n",
              "  )\n",
              ")"
            ]
          },
          "metadata": {},
          "execution_count": 54
        }
      ]
    },
    {
      "cell_type": "markdown",
      "source": [
        "## Trying foward pass on a single image to test the model"
      ],
      "metadata": {
        "id": "8b7bia5ybP5M"
      }
    },
    {
      "cell_type": "code",
      "source": [
        "image_batch, label_batch = next(iter(train_datalaoder))\n",
        "image_batch.shape, label_batch.shape"
      ],
      "metadata": {
        "colab": {
          "base_uri": "https://localhost:8080/"
        },
        "id": "BzkztmGCbgIf",
        "outputId": "e23e7608-4cd1-441f-c75c-a85d8f7719db"
      },
      "execution_count": null,
      "outputs": [
        {
          "output_type": "execute_result",
          "data": {
            "text/plain": [
              "(torch.Size([32, 3, 64, 64]), torch.Size([32]))"
            ]
          },
          "metadata": {},
          "execution_count": 37
        }
      ]
    },
    {
      "cell_type": "code",
      "source": [
        "model_1(image_batch.to(device))"
      ],
      "metadata": {
        "colab": {
          "base_uri": "https://localhost:8080/"
        },
        "id": "rTzGkBlWeaBJ",
        "outputId": "9a952eeb-1493-4afd-ee70-f3b5fbb481dc"
      },
      "execution_count": null,
      "outputs": [
        {
          "output_type": "execute_result",
          "data": {
            "text/plain": [
              "tensor([[-0.0287,  0.0619,  0.0127,  0.0260,  0.0126,  0.0417, -0.0046,  0.0507,\n",
              "          0.0428, -0.0062],\n",
              "        [-0.0307,  0.0614,  0.0145,  0.0239,  0.0135,  0.0408, -0.0031,  0.0513,\n",
              "          0.0425, -0.0057],\n",
              "        [-0.0301,  0.0620,  0.0137,  0.0248,  0.0135,  0.0414, -0.0036,  0.0511,\n",
              "          0.0428, -0.0065],\n",
              "        [-0.0297,  0.0617,  0.0145,  0.0243,  0.0131,  0.0410, -0.0047,  0.0509,\n",
              "          0.0430, -0.0066],\n",
              "        [-0.0286,  0.0618,  0.0129,  0.0261,  0.0125,  0.0417, -0.0048,  0.0505,\n",
              "          0.0430, -0.0064],\n",
              "        [-0.0301,  0.0614,  0.0142,  0.0248,  0.0134,  0.0400, -0.0041,  0.0513,\n",
              "          0.0425, -0.0063],\n",
              "        [-0.0281,  0.0615,  0.0123,  0.0266,  0.0127,  0.0420, -0.0046,  0.0506,\n",
              "          0.0428, -0.0061],\n",
              "        [-0.0285,  0.0620,  0.0126,  0.0259,  0.0125,  0.0414, -0.0042,  0.0504,\n",
              "          0.0424, -0.0062],\n",
              "        [-0.0291,  0.0618,  0.0131,  0.0276,  0.0129,  0.0418, -0.0033,  0.0518,\n",
              "          0.0434, -0.0056],\n",
              "        [-0.0297,  0.0621,  0.0128,  0.0250,  0.0131,  0.0415, -0.0052,  0.0507,\n",
              "          0.0424, -0.0057],\n",
              "        [-0.0295,  0.0627,  0.0134,  0.0260,  0.0131,  0.0412, -0.0040,  0.0504,\n",
              "          0.0423, -0.0060],\n",
              "        [-0.0288,  0.0619,  0.0135,  0.0256,  0.0123,  0.0404, -0.0037,  0.0522,\n",
              "          0.0427, -0.0061],\n",
              "        [-0.0303,  0.0610,  0.0144,  0.0237,  0.0138,  0.0399, -0.0037,  0.0506,\n",
              "          0.0428, -0.0054],\n",
              "        [-0.0295,  0.0622,  0.0131,  0.0254,  0.0124,  0.0410, -0.0035,  0.0514,\n",
              "          0.0424, -0.0070],\n",
              "        [-0.0310,  0.0631,  0.0144,  0.0256,  0.0126,  0.0390, -0.0038,  0.0503,\n",
              "          0.0434, -0.0069],\n",
              "        [-0.0307,  0.0609,  0.0135,  0.0251,  0.0123,  0.0405, -0.0032,  0.0514,\n",
              "          0.0433, -0.0062],\n",
              "        [-0.0285,  0.0624,  0.0138,  0.0246,  0.0132,  0.0401, -0.0050,  0.0515,\n",
              "          0.0424, -0.0062],\n",
              "        [-0.0294,  0.0619,  0.0128,  0.0253,  0.0130,  0.0414, -0.0042,  0.0510,\n",
              "          0.0427, -0.0063],\n",
              "        [-0.0308,  0.0615,  0.0146,  0.0239,  0.0135,  0.0405, -0.0032,  0.0509,\n",
              "          0.0427, -0.0058],\n",
              "        [-0.0308,  0.0613,  0.0139,  0.0249,  0.0130,  0.0406, -0.0038,  0.0516,\n",
              "          0.0429, -0.0066],\n",
              "        [-0.0293,  0.0628,  0.0128,  0.0255,  0.0126,  0.0413, -0.0039,  0.0504,\n",
              "          0.0422, -0.0060],\n",
              "        [-0.0309,  0.0620,  0.0144,  0.0249,  0.0132,  0.0404, -0.0042,  0.0510,\n",
              "          0.0431, -0.0069],\n",
              "        [-0.0284,  0.0623,  0.0129,  0.0264,  0.0124,  0.0415, -0.0040,  0.0504,\n",
              "          0.0431, -0.0059],\n",
              "        [-0.0295,  0.0603,  0.0151,  0.0242,  0.0131,  0.0405, -0.0026,  0.0513,\n",
              "          0.0424, -0.0055],\n",
              "        [-0.0289,  0.0621,  0.0133,  0.0261,  0.0128,  0.0413, -0.0040,  0.0507,\n",
              "          0.0421, -0.0066],\n",
              "        [-0.0282,  0.0625,  0.0126,  0.0269,  0.0121,  0.0409, -0.0041,  0.0498,\n",
              "          0.0427, -0.0059],\n",
              "        [-0.0287,  0.0625,  0.0123,  0.0259,  0.0119,  0.0410, -0.0037,  0.0502,\n",
              "          0.0427, -0.0064],\n",
              "        [-0.0296,  0.0619,  0.0133,  0.0250,  0.0124,  0.0408, -0.0047,  0.0506,\n",
              "          0.0425, -0.0058],\n",
              "        [-0.0286,  0.0616,  0.0128,  0.0260,  0.0127,  0.0417, -0.0049,  0.0509,\n",
              "          0.0427, -0.0062],\n",
              "        [-0.0305,  0.0616,  0.0138,  0.0235,  0.0136,  0.0404, -0.0038,  0.0504,\n",
              "          0.0429, -0.0057],\n",
              "        [-0.0302,  0.0610,  0.0134,  0.0235,  0.0139,  0.0410, -0.0031,  0.0509,\n",
              "          0.0416, -0.0055],\n",
              "        [-0.0292,  0.0627,  0.0126,  0.0254,  0.0134,  0.0420, -0.0040,  0.0510,\n",
              "          0.0421, -0.0060]], device='cuda:0', grad_fn=<AddmmBackward0>)"
            ]
          },
          "metadata": {},
          "execution_count": 43
        }
      ]
    },
    {
      "cell_type": "code",
      "source": [
        "model_1(image_batch.to(device))"
      ],
      "metadata": {
        "colab": {
          "base_uri": "https://localhost:8080/"
        },
        "id": "xvX7CIv_bxZ-",
        "outputId": "3509a327-1950-4d5b-c30a-6e7914a3c441"
      },
      "execution_count": null,
      "outputs": [
        {
          "output_type": "stream",
          "name": "stdout",
          "text": [
            "torch.Size([32, 3, 64, 64])\n",
            "torch.Size([32, 10, 30, 30])\n",
            "torch.Size([32, 10, 13, 13])\n",
            "torch.Size([32, 10])\n"
          ]
        },
        {
          "output_type": "execute_result",
          "data": {
            "text/plain": [
              "tensor([[ 2.6208e-02,  1.9570e-02,  6.0631e-02, -2.4790e-02,  1.4526e-02,\n",
              "         -1.2239e-02, -2.4466e-04, -4.3226e-03, -1.9512e-02,  1.0321e-02],\n",
              "        [ 2.9278e-02,  1.9023e-02,  6.1152e-02, -2.2333e-02,  1.1599e-02,\n",
              "         -1.1788e-02, -1.2972e-03, -5.0179e-03, -1.8624e-02,  1.0704e-02],\n",
              "        [ 2.9158e-02,  1.8453e-02,  6.2729e-02, -2.2498e-02,  1.3283e-02,\n",
              "         -1.1148e-02, -8.7063e-04, -4.0230e-03, -1.9110e-02,  9.2031e-03],\n",
              "        [ 3.0359e-02,  2.0386e-02,  6.0226e-02, -2.3197e-02,  1.0622e-02,\n",
              "         -1.0429e-02,  4.4602e-04, -5.6673e-03, -1.8947e-02,  1.0027e-02],\n",
              "        [ 2.6220e-02,  1.9640e-02,  6.0365e-02, -2.4185e-02,  1.3837e-02,\n",
              "         -1.2069e-02, -1.2614e-04, -4.5609e-03, -1.9270e-02,  1.0187e-02],\n",
              "        [ 2.8655e-02,  1.8979e-02,  6.1924e-02, -2.3764e-02,  1.1688e-02,\n",
              "         -1.1559e-02, -8.7036e-04, -4.3172e-03, -1.7845e-02,  9.5251e-03],\n",
              "        [ 2.5323e-02,  1.9772e-02,  6.0746e-02, -2.4986e-02,  1.5245e-02,\n",
              "         -1.2468e-02, -2.1835e-04, -4.1478e-03, -1.9561e-02,  1.0738e-02],\n",
              "        [ 2.7189e-02,  1.8997e-02,  5.9944e-02, -2.3428e-02,  1.2858e-02,\n",
              "         -1.1504e-02, -6.2971e-04, -4.5314e-03, -1.8653e-02,  9.3665e-03],\n",
              "        [ 2.3757e-02,  1.8470e-02,  6.2739e-02, -2.2565e-02,  1.5273e-02,\n",
              "         -1.4880e-02,  6.3195e-04, -1.9502e-03, -2.0829e-02,  1.1117e-02],\n",
              "        [ 2.8431e-02,  1.8908e-02,  6.1144e-02, -2.2257e-02,  9.1502e-03,\n",
              "         -9.6779e-03,  1.9500e-03, -2.8587e-03, -1.7436e-02,  1.2315e-02],\n",
              "        [ 2.9364e-02,  2.0506e-02,  6.1784e-02, -2.4195e-02,  1.3214e-02,\n",
              "         -1.0748e-02, -3.6485e-04, -4.4846e-03, -1.8948e-02,  8.7404e-03],\n",
              "        [ 2.8754e-02,  1.9598e-02,  6.2856e-02, -2.3577e-02,  1.4429e-02,\n",
              "         -1.2644e-02, -2.4199e-03, -4.7351e-03, -1.6517e-02,  8.5293e-03],\n",
              "        [ 3.0554e-02,  1.7621e-02,  6.0928e-02, -2.1674e-02,  1.0198e-02,\n",
              "         -1.1383e-02, -1.4429e-03, -3.4463e-03, -1.8454e-02,  8.8031e-03],\n",
              "        [ 2.5437e-02,  2.0343e-02,  6.2788e-02, -2.6866e-02,  1.4039e-02,\n",
              "         -9.7343e-03, -8.0035e-04, -4.2502e-03, -1.9923e-02,  1.1483e-02],\n",
              "        [ 3.1976e-02,  1.6270e-02,  6.4304e-02, -2.3892e-02,  1.0388e-02,\n",
              "         -1.3182e-02, -4.3388e-05, -4.6705e-04, -1.7144e-02,  7.1592e-03],\n",
              "        [ 2.4973e-02,  2.1721e-02,  6.3908e-02, -2.3715e-02,  1.4335e-02,\n",
              "         -1.1623e-02, -1.9527e-03, -4.7626e-03, -1.8368e-02,  1.1675e-02],\n",
              "        [ 2.8024e-02,  1.8166e-02,  6.1929e-02, -2.4041e-02,  1.1567e-02,\n",
              "         -1.0230e-02, -1.2514e-03, -4.3817e-03, -1.8203e-02,  9.9909e-03],\n",
              "        [ 2.7087e-02,  1.8580e-02,  6.0953e-02, -2.4179e-02,  1.4142e-02,\n",
              "         -1.2547e-02,  5.1343e-04, -4.9539e-03, -1.9110e-02,  9.8062e-03],\n",
              "        [ 3.1353e-02,  1.8243e-02,  6.0406e-02, -2.3263e-02,  1.0798e-02,\n",
              "         -1.0998e-02, -1.4714e-03, -3.5611e-03, -1.6415e-02,  8.3640e-03],\n",
              "        [ 2.9394e-02,  1.8115e-02,  6.0003e-02, -2.0497e-02,  1.2215e-02,\n",
              "         -1.0432e-02,  3.4077e-04, -5.2392e-03, -1.6944e-02,  9.0010e-03],\n",
              "        [ 2.9262e-02,  1.8172e-02,  6.2461e-02, -2.2361e-02,  1.4132e-02,\n",
              "         -1.2738e-02, -5.4578e-04, -2.7701e-03, -1.7328e-02,  9.6098e-03],\n",
              "        [ 3.2560e-02,  1.9947e-02,  6.5651e-02, -2.8387e-02,  9.2723e-03,\n",
              "         -1.2591e-02, -6.3929e-04, -4.6827e-03, -1.7488e-02,  1.1827e-02],\n",
              "        [ 2.7719e-02,  1.9203e-02,  6.3056e-02, -2.2625e-02,  1.3199e-02,\n",
              "         -1.1044e-02, -3.8062e-04, -4.5216e-03, -1.7892e-02,  9.3894e-03],\n",
              "        [ 3.2297e-02,  1.8698e-02,  6.2792e-02, -2.2092e-02,  1.3329e-02,\n",
              "         -1.2983e-02, -9.5665e-04, -4.4245e-03, -1.8849e-02,  8.6635e-03],\n",
              "        [ 2.8442e-02,  1.9968e-02,  6.0456e-02, -2.2190e-02,  1.2241e-02,\n",
              "         -1.1149e-02, -2.7342e-05, -5.2075e-03, -1.7960e-02,  1.0726e-02],\n",
              "        [ 2.9377e-02,  1.8809e-02,  6.1116e-02, -2.1549e-02,  1.2140e-02,\n",
              "         -1.1236e-02, -7.5473e-04, -3.7485e-03, -1.7405e-02,  9.4668e-03],\n",
              "        [ 2.7129e-02,  1.9844e-02,  6.1448e-02, -2.3546e-02,  1.1955e-02,\n",
              "         -1.1612e-02,  3.6299e-05, -4.8512e-03, -1.7806e-02,  9.8255e-03],\n",
              "        [ 2.7671e-02,  1.9305e-02,  6.2228e-02, -2.4237e-02,  1.1594e-02,\n",
              "         -1.0263e-02, -2.7369e-04, -4.9189e-03, -1.9551e-02,  1.0347e-02],\n",
              "        [ 2.5314e-02,  1.9568e-02,  6.0732e-02, -2.5036e-02,  1.5057e-02,\n",
              "         -1.2239e-02, -1.6423e-04, -4.0223e-03, -1.9661e-02,  1.0759e-02],\n",
              "        [ 3.0251e-02,  1.7333e-02,  6.0721e-02, -2.1644e-02,  1.0093e-02,\n",
              "         -1.0584e-02, -6.5267e-04, -4.0854e-03, -1.8486e-02,  8.4726e-03],\n",
              "        [ 2.9325e-02,  1.9056e-02,  6.2232e-02, -2.2233e-02,  1.2904e-02,\n",
              "         -1.0824e-02, -8.2691e-04, -4.5835e-03, -1.8042e-02,  9.7444e-03],\n",
              "        [ 2.7957e-02,  2.0157e-02,  6.3553e-02, -2.4145e-02,  1.4299e-02,\n",
              "         -1.0778e-02,  6.2499e-04, -2.3877e-03, -1.9216e-02,  9.6218e-03]],\n",
              "       device='cuda:0', grad_fn=<AddmmBackward0>)"
            ]
          },
          "metadata": {},
          "execution_count": 38
        }
      ]
    },
    {
      "cell_type": "code",
      "source": [
        "13*13"
      ],
      "metadata": {
        "colab": {
          "base_uri": "https://localhost:8080/"
        },
        "id": "lUfnAs4kb4CH",
        "outputId": "54128b54-182e-40b0-ee0f-0f9386973023"
      },
      "execution_count": null,
      "outputs": [
        {
          "output_type": "execute_result",
          "data": {
            "text/plain": [
              "169"
            ]
          },
          "metadata": {},
          "execution_count": 33
        }
      ]
    },
    {
      "cell_type": "markdown",
      "source": [
        "## Check the shappes of the model\n",
        "\n",
        "Using 'torchinfo' to check the model arquiteture"
      ],
      "metadata": {
        "id": "tQ6rGp7ycLZu"
      }
    },
    {
      "cell_type": "code",
      "source": [
        "# Installing if not availble\n",
        "\n",
        "try:\n",
        "  import torchinfo\n",
        "except:\n",
        "  !pip install torchinfo\n",
        "  import torchinfo\n",
        "\n",
        "from torchinfo import summary\n",
        "summary(model_1, input_size = image_batch.shape)"
      ],
      "metadata": {
        "colab": {
          "base_uri": "https://localhost:8080/"
        },
        "id": "Qf3UDFbrfvWh",
        "outputId": "8ef13dec-4137-4f4d-83a9-381e1a969838"
      },
      "execution_count": null,
      "outputs": [
        {
          "output_type": "stream",
          "name": "stdout",
          "text": [
            "Collecting torchinfo\n",
            "  Downloading torchinfo-1.8.0-py3-none-any.whl.metadata (21 kB)\n",
            "Downloading torchinfo-1.8.0-py3-none-any.whl (23 kB)\n",
            "Installing collected packages: torchinfo\n",
            "Successfully installed torchinfo-1.8.0\n"
          ]
        },
        {
          "output_type": "execute_result",
          "data": {
            "text/plain": [
              "==========================================================================================\n",
              "Layer (type:depth-idx)                   Output Shape              Param #\n",
              "==========================================================================================\n",
              "CNN_Model1                               [32, 10]                  --\n",
              "├─Sequential: 1-1                        [32, 10, 30, 30]          --\n",
              "│    └─Conv2d: 2-1                       [32, 10, 62, 62]          280\n",
              "│    └─ReLU: 2-2                         [32, 10, 62, 62]          --\n",
              "│    └─Conv2d: 2-3                       [32, 10, 60, 60]          910\n",
              "│    └─ReLU: 2-4                         [32, 10, 60, 60]          --\n",
              "│    └─MaxPool2d: 2-5                    [32, 10, 30, 30]          --\n",
              "├─Sequential: 1-2                        [32, 10, 13, 13]          --\n",
              "│    └─Conv2d: 2-6                       [32, 10, 28, 28]          910\n",
              "│    └─ReLU: 2-7                         [32, 10, 28, 28]          --\n",
              "│    └─Conv2d: 2-8                       [32, 10, 26, 26]          910\n",
              "│    └─ReLU: 2-9                         [32, 10, 26, 26]          --\n",
              "│    └─MaxPool2d: 2-10                   [32, 10, 13, 13]          --\n",
              "├─Sequential: 1-3                        [32, 10]                  --\n",
              "│    └─Flatten: 2-11                     [32, 1690]                --\n",
              "│    └─Linear: 2-12                      [32, 10]                  16,910\n",
              "==========================================================================================\n",
              "Total params: 19,920\n",
              "Trainable params: 19,920\n",
              "Non-trainable params: 0\n",
              "Total mult-adds (Units.MEGABYTES): 182.33\n",
              "==========================================================================================\n",
              "Input size (MB): 1.57\n",
              "Forward/backward pass size (MB): 22.80\n",
              "Params size (MB): 0.08\n",
              "Estimated Total Size (MB): 24.45\n",
              "=========================================================================================="
            ]
          },
          "metadata": {},
          "execution_count": 44
        }
      ]
    },
    {
      "cell_type": "markdown",
      "source": [
        "# Training"
      ],
      "metadata": {
        "id": "9-gppkyhgZHJ"
      }
    },
    {
      "cell_type": "markdown",
      "source": [
        "## Training Step"
      ],
      "metadata": {
        "id": "wzrdeXhIgnWx"
      }
    },
    {
      "cell_type": "code",
      "source": [
        "def train_step(model: torch.nn.Module,\n",
        "               dataloader: torch.utils.data.DataLoader,\n",
        "               loss_fn: torch.nn.Module,\n",
        "               optimizer: torch.optim.Optimizer,\n",
        "               device=device):\n",
        "\n",
        "  # Putting the model in training mode\n",
        "  model.train()\n",
        "\n",
        "  # Setting the loss and accurecy value to accumate in each batch\n",
        "  train_loss, train_acc = 0,0\n",
        "\n",
        "  # Looping through datalaoder data batches\n",
        "  for batch, (X, y) in enumerate(dataloader):\n",
        "    # Sending the data to the target device\n",
        "    X, y = X.to(device), y.to(device)\n",
        "\n",
        "    # Forward pass <- logits\n",
        "    y_pred = model(X)\n",
        "\n",
        "    # Calculating the loss\n",
        "    loss = loss_fn(y_pred, y)\n",
        "\n",
        "    # Accumulating loss\n",
        "    train_loss += loss.item()\n",
        "\n",
        "    # Zero the gradient not to accumalte\n",
        "    optimizer.zero_grad()\n",
        "\n",
        "    # Back propagation - calculate the gradient\n",
        "    loss.backward()\n",
        "\n",
        "    # update the weights\n",
        "    optimizer.step()\n",
        "\n",
        "    # Calculating the accurecy logit -> pred probability -> labels\n",
        "    y_pred_class = torch.argmax(torch.softmax(y_pred, dim=1), dim=1)\n",
        "    train_acc += (y_pred_class==y).sum().item()/len(y_pred)\n",
        "\n",
        "  # Calculate the avarege training loss\n",
        "  train_loss = train_loss/len(dataloader)\n",
        "  train_acc = train_acc/len(dataloader)\n",
        "\n",
        "  # Retrun train loss and accuracy of the step to track\n",
        "  return train_loss, train_acc\n"
      ],
      "metadata": {
        "id": "Oy419d1Cguey"
      },
      "execution_count": null,
      "outputs": []
    },
    {
      "cell_type": "markdown",
      "source": [
        "## Evaluation step"
      ],
      "metadata": {
        "id": "XYt6of-ltAZX"
      }
    },
    {
      "cell_type": "code",
      "source": [
        "# Creating a testing function\n",
        "def test_step(model: torch.nn.Module,\n",
        "              dataloader: torch.utils.data.DataLoader,\n",
        "              loss_fn: torch.nn.Module,\n",
        "              device=device):\n",
        "\n",
        "  # Putting the model in eval mode\n",
        "  model.eval()\n",
        "\n",
        "  test_loss, test_acc = 0,0\n",
        "\n",
        "  with torch.inference_mode():\n",
        "    #\n",
        "    for batch, (X, y) in enumerate(dataloader):\n",
        "      X, y =  X.to(device), y.to(device)\n",
        "\n",
        "      test_pred_logit = model(X)\n",
        "\n",
        "      loss = loss_fn(test_pred_logit, y)\n",
        "\n",
        "      test_loss += loss.item()\n",
        "\n",
        "      test_pred_labels = test_pred_logit.argmax(dim=1)\n",
        "      test_acc += ((test_pred_labels==y).sum().item()/len(test_pred_labels))\n",
        "\n",
        "  test_loss /= len(dataloader)\n",
        "  test_acc /= len(dataloader)\n",
        "  return test_loss, test_acc"
      ],
      "metadata": {
        "id": "m_QqKCirk8U0"
      },
      "execution_count": null,
      "outputs": []
    },
    {
      "cell_type": "markdown",
      "source": [
        "## Training Function"
      ],
      "metadata": {
        "id": "cd8rZHO1nxSP"
      }
    },
    {
      "cell_type": "code",
      "source": [
        "from tqdm.auto import tqdm\n",
        "\n",
        "def Train(model: torch.nn.Module,\n",
        "          train_datalaoder: torch.utils.data.DataLoader,\n",
        "          test_datalaoder: torch.utils.data.DataLoader,\n",
        "          optimizer: torch.optim.Optimizer,\n",
        "          loss_fn: torch.nn.Module = nn.CrossEntropyLoss(),\n",
        "          epochs: int = 5,\n",
        "          device = device\n",
        "          ):\n",
        "\n",
        "  # Creating a result dictionary to track the metrics\n",
        "  results = {\"train_loss\":[],\n",
        "             \"train_acc\":[],\n",
        "             \"test_loss\":[],\n",
        "             \"test_acc\":[]}\n",
        "\n",
        "  # Training loo\n",
        "  for epoch in tqdm(range(epochs)):\n",
        "    train_loss, train_acc = train_step(model=model,\n",
        "                                       dataloader=train_datalaoder,\n",
        "                                       loss_fn=loss_fn,\n",
        "                                       optimizer=optimizer,\n",
        "                                       device=device)\n",
        "\n",
        "    test_loss, test_acc = test_step(model=model,\n",
        "                                    dataloader=test_dataloader,\n",
        "                                    loss_fn=loss_fn,\n",
        "                                    device=device)\n",
        "\n",
        "    # Print happening\n",
        "    print(f\"Epoch: {epoch} | Train loss: {train_loss:.4f}, Train Acc: {train_acc*100:.4f}% | Test loss:{test_loss:.4f}, Test acc: {test_acc*100:.4f}%\")\n",
        "\n",
        "    # Add parameters to the result dictionary\n",
        "    results[\"train_loss\"].append(train_loss)\n",
        "    results[\"test_acc\"].append(train_acc)\n",
        "    results[\"test_loss\"].append(test_loss)\n",
        "    results[\"test_acc\"].append(test_acc)\n",
        "\n",
        "  # Return the filled results\n",
        "  return results"
      ],
      "metadata": {
        "id": "ChGIu1mfuULK"
      },
      "execution_count": null,
      "outputs": []
    },
    {
      "cell_type": "markdown",
      "source": [
        "## Training and evaluating"
      ],
      "metadata": {
        "id": "WUtlS1gix2qM"
      }
    },
    {
      "cell_type": "code",
      "source": [
        "# Seed maybe again---\n",
        "\n",
        "NUM_EPOCHS = 100\n",
        "\n",
        "# Loss function and otmizer\n",
        "loss_fn = nn.CrossEntropyLoss()\n",
        "optimizer = torch.optim.SGD(params=model_1.parameters(), lr=0.1)\n",
        "\n",
        "# Recorigin start time\n",
        "from  timeit import default_timer as timer\n",
        "\n",
        "\n",
        "start_time = timer()\n",
        "model_1_results = Train(model=model_1,\n",
        "                        train_datalaoder=train_datalaoder,\n",
        "                        test_datalaoder=test_dataloader,\n",
        "                        loss_fn=loss_fn,\n",
        "                        optimizer=optimizer,\n",
        "                        epochs=NUM_EPOCHS,\n",
        "                        device=device)\n",
        "end_time = timer()\n",
        "\n",
        "print(f\"Total training time: {end_time-start_time:.3f} secods\")\n"
      ],
      "metadata": {
        "colab": {
          "base_uri": "https://localhost:8080/",
          "height": 978,
          "referenced_widgets": [
            "a404db86c18d408e9f30a29ba6810132",
            "5ab3d08ad8d24b459cf73c519f53a1fc",
            "98e6c8b8248c458c8285fa92998d1c30",
            "c641e9c9273b48b489214fd94ee603d9",
            "ee37a7beeff1437294bb8ffc1f25435e",
            "bb9a8ec84e5441fba398e05163045dca",
            "7579e6ace45b44c398bdc7323f54ea5a",
            "72781e741b3e4d95ad8e7c463e2848d2",
            "3f89aa4fab854effa698cce4d380d344",
            "29ff5122cbfa4652bada2c3533f94d39",
            "1ec4f4cd6d554679828228983c8b0ccf"
          ]
        },
        "id": "ep58jnmftOQH",
        "outputId": "7fb9523b-2bee-4bc5-8dd2-79e274dc4b51"
      },
      "execution_count": null,
      "outputs": [
        {
          "output_type": "display_data",
          "data": {
            "text/plain": [
              "  0%|          | 0/100 [00:00<?, ?it/s]"
            ],
            "application/vnd.jupyter.widget-view+json": {
              "version_major": 2,
              "version_minor": 0,
              "model_id": "a404db86c18d408e9f30a29ba6810132"
            }
          },
          "metadata": {}
        },
        {
          "output_type": "stream",
          "name": "stdout",
          "text": [
            "Epoch: 0 | Train loss: 2.2955, Train Acc: 0.1132 | Test loss:2.2956, Test acc: 0.1078\n",
            "Epoch: 1 | Train loss: 2.2955, Train Acc: 0.1122 | Test loss:2.2970, Test acc: 0.1038\n",
            "Epoch: 2 | Train loss: 2.2958, Train Acc: 0.1115 | Test loss:2.2950, Test acc: 0.1078\n",
            "Epoch: 3 | Train loss: 2.2957, Train Acc: 0.1088 | Test loss:2.2962, Test acc: 0.1038\n",
            "Epoch: 4 | Train loss: 2.2955, Train Acc: 0.1089 | Test loss:2.2950, Test acc: 0.1133\n",
            "Epoch: 5 | Train loss: 2.2956, Train Acc: 0.1074 | Test loss:2.2952, Test acc: 0.1078\n",
            "Epoch: 6 | Train loss: 2.2957, Train Acc: 0.1086 | Test loss:2.2958, Test acc: 0.1038\n",
            "Epoch: 7 | Train loss: 2.2955, Train Acc: 0.1085 | Test loss:2.2952, Test acc: 0.1169\n",
            "Epoch: 8 | Train loss: 2.2953, Train Acc: 0.1121 | Test loss:2.2963, Test acc: 0.1038\n",
            "Epoch: 9 | Train loss: 2.2957, Train Acc: 0.1106 | Test loss:2.2959, Test acc: 0.1133\n",
            "Epoch: 10 | Train loss: 2.2955, Train Acc: 0.1109 | Test loss:2.2956, Test acc: 0.1133\n",
            "Epoch: 11 | Train loss: 2.2957, Train Acc: 0.1071 | Test loss:2.2958, Test acc: 0.1038\n",
            "Epoch: 12 | Train loss: 2.2955, Train Acc: 0.1113 | Test loss:2.2957, Test acc: 0.1038\n",
            "Epoch: 13 | Train loss: 2.2956, Train Acc: 0.1099 | Test loss:2.2956, Test acc: 0.1124\n",
            "Epoch: 14 | Train loss: 2.2955, Train Acc: 0.1102 | Test loss:2.2956, Test acc: 0.1038\n",
            "Epoch: 15 | Train loss: 2.2955, Train Acc: 0.1136 | Test loss:2.2955, Test acc: 0.1133\n",
            "Epoch: 16 | Train loss: 2.2957, Train Acc: 0.1094 | Test loss:2.2960, Test acc: 0.1078\n",
            "Epoch: 17 | Train loss: 2.2957, Train Acc: 0.1118 | Test loss:2.2961, Test acc: 0.1038\n",
            "Epoch: 18 | Train loss: 2.2957, Train Acc: 0.1072 | Test loss:2.2960, Test acc: 0.1133\n",
            "Epoch: 19 | Train loss: 2.2956, Train Acc: 0.1090 | Test loss:2.2950, Test acc: 0.1124\n",
            "Epoch: 20 | Train loss: 2.2957, Train Acc: 0.1097 | Test loss:2.2950, Test acc: 0.1169\n",
            "Epoch: 21 | Train loss: 2.2957, Train Acc: 0.1096 | Test loss:2.2963, Test acc: 0.1038\n",
            "Epoch: 22 | Train loss: 2.2956, Train Acc: 0.1106 | Test loss:2.2953, Test acc: 0.1133\n",
            "Epoch: 23 | Train loss: 2.2957, Train Acc: 0.1107 | Test loss:2.2952, Test acc: 0.1124\n",
            "Epoch: 24 | Train loss: 2.2956, Train Acc: 0.1110 | Test loss:2.2965, Test acc: 0.1038\n",
            "Epoch: 25 | Train loss: 2.2955, Train Acc: 0.1115 | Test loss:2.2951, Test acc: 0.1133\n",
            "Epoch: 26 | Train loss: 2.2956, Train Acc: 0.1087 | Test loss:2.2951, Test acc: 0.1133\n",
            "Epoch: 27 | Train loss: 2.2957, Train Acc: 0.1130 | Test loss:2.2954, Test acc: 0.1124\n",
            "Epoch: 28 | Train loss: 2.2955, Train Acc: 0.1097 | Test loss:2.2971, Test acc: 0.1038\n",
            "Epoch: 29 | Train loss: 2.2956, Train Acc: 0.1112 | Test loss:2.2951, Test acc: 0.1169\n",
            "Epoch: 30 | Train loss: 2.2955, Train Acc: 0.1093 | Test loss:2.2956, Test acc: 0.1078\n",
            "Epoch: 31 | Train loss: 2.2957, Train Acc: 0.1099 | Test loss:2.2961, Test acc: 0.1038\n",
            "Epoch: 32 | Train loss: 2.2958, Train Acc: 0.1097 | Test loss:2.2952, Test acc: 0.1124\n",
            "Epoch: 33 | Train loss: 2.2956, Train Acc: 0.1096 | Test loss:2.2965, Test acc: 0.1124\n"
          ]
        },
        {
          "output_type": "error",
          "ename": "KeyboardInterrupt",
          "evalue": "",
          "traceback": [
            "\u001b[0;31m---------------------------------------------------------------------------\u001b[0m",
            "\u001b[0;31mKeyboardInterrupt\u001b[0m                         Traceback (most recent call last)",
            "\u001b[0;32m/tmp/ipython-input-51-3110593912.py\u001b[0m in \u001b[0;36m<cell line: 0>\u001b[0;34m()\u001b[0m\n\u001b[1;32m     12\u001b[0m \u001b[0;34m\u001b[0m\u001b[0m\n\u001b[1;32m     13\u001b[0m \u001b[0mstart_time\u001b[0m \u001b[0;34m=\u001b[0m \u001b[0mtimer\u001b[0m\u001b[0;34m(\u001b[0m\u001b[0;34m)\u001b[0m\u001b[0;34m\u001b[0m\u001b[0;34m\u001b[0m\u001b[0m\n\u001b[0;32m---> 14\u001b[0;31m model_1_results = Train(model=model_1,\n\u001b[0m\u001b[1;32m     15\u001b[0m                         \u001b[0mtrain_datalaoder\u001b[0m\u001b[0;34m=\u001b[0m\u001b[0mtrain_datalaoder\u001b[0m\u001b[0;34m,\u001b[0m\u001b[0;34m\u001b[0m\u001b[0;34m\u001b[0m\u001b[0m\n\u001b[1;32m     16\u001b[0m                         \u001b[0mtest_datalaoder\u001b[0m\u001b[0;34m=\u001b[0m\u001b[0mtest_dataloader\u001b[0m\u001b[0;34m,\u001b[0m\u001b[0;34m\u001b[0m\u001b[0;34m\u001b[0m\u001b[0m\n",
            "\u001b[0;32m/tmp/ipython-input-48-2443405565.py\u001b[0m in \u001b[0;36mTrain\u001b[0;34m(model, train_datalaoder, test_datalaoder, optimizer, loss_fn, epochs, device)\u001b[0m\n\u001b[1;32m     18\u001b[0m   \u001b[0;31m# Training loo\u001b[0m\u001b[0;34m\u001b[0m\u001b[0;34m\u001b[0m\u001b[0m\n\u001b[1;32m     19\u001b[0m   \u001b[0;32mfor\u001b[0m \u001b[0mepoch\u001b[0m \u001b[0;32min\u001b[0m \u001b[0mtqdm\u001b[0m\u001b[0;34m(\u001b[0m\u001b[0mrange\u001b[0m\u001b[0;34m(\u001b[0m\u001b[0mepochs\u001b[0m\u001b[0;34m)\u001b[0m\u001b[0;34m)\u001b[0m\u001b[0;34m:\u001b[0m\u001b[0;34m\u001b[0m\u001b[0;34m\u001b[0m\u001b[0m\n\u001b[0;32m---> 20\u001b[0;31m     train_loss, train_acc = train_step(model=model,\n\u001b[0m\u001b[1;32m     21\u001b[0m                                        \u001b[0mdataloader\u001b[0m\u001b[0;34m=\u001b[0m\u001b[0mtrain_datalaoder\u001b[0m\u001b[0;34m,\u001b[0m\u001b[0;34m\u001b[0m\u001b[0;34m\u001b[0m\u001b[0m\n\u001b[1;32m     22\u001b[0m                                        \u001b[0mloss_fn\u001b[0m\u001b[0;34m=\u001b[0m\u001b[0mloss_fn\u001b[0m\u001b[0;34m,\u001b[0m\u001b[0;34m\u001b[0m\u001b[0;34m\u001b[0m\u001b[0m\n",
            "\u001b[0;32m/tmp/ipython-input-45-2178874847.py\u001b[0m in \u001b[0;36mtrain_step\u001b[0;34m(model, dataloader, loss_fn, optimizer, device)\u001b[0m\n\u001b[1;32m     12\u001b[0m \u001b[0;34m\u001b[0m\u001b[0m\n\u001b[1;32m     13\u001b[0m   \u001b[0;31m# Looping through datalaoder data batches\u001b[0m\u001b[0;34m\u001b[0m\u001b[0;34m\u001b[0m\u001b[0m\n\u001b[0;32m---> 14\u001b[0;31m   \u001b[0;32mfor\u001b[0m \u001b[0mbatch\u001b[0m\u001b[0;34m,\u001b[0m \u001b[0;34m(\u001b[0m\u001b[0mX\u001b[0m\u001b[0;34m,\u001b[0m \u001b[0my\u001b[0m\u001b[0;34m)\u001b[0m \u001b[0;32min\u001b[0m \u001b[0menumerate\u001b[0m\u001b[0;34m(\u001b[0m\u001b[0mdataloader\u001b[0m\u001b[0;34m)\u001b[0m\u001b[0;34m:\u001b[0m\u001b[0;34m\u001b[0m\u001b[0;34m\u001b[0m\u001b[0m\n\u001b[0m\u001b[1;32m     15\u001b[0m     \u001b[0;31m# Sending the data to the target device\u001b[0m\u001b[0;34m\u001b[0m\u001b[0;34m\u001b[0m\u001b[0m\n\u001b[1;32m     16\u001b[0m     \u001b[0mX\u001b[0m\u001b[0;34m,\u001b[0m \u001b[0my\u001b[0m \u001b[0;34m=\u001b[0m \u001b[0mX\u001b[0m\u001b[0;34m.\u001b[0m\u001b[0mto\u001b[0m\u001b[0;34m(\u001b[0m\u001b[0mdevice\u001b[0m\u001b[0;34m)\u001b[0m\u001b[0;34m,\u001b[0m \u001b[0my\u001b[0m\u001b[0;34m.\u001b[0m\u001b[0mto\u001b[0m\u001b[0;34m(\u001b[0m\u001b[0mdevice\u001b[0m\u001b[0;34m)\u001b[0m\u001b[0;34m\u001b[0m\u001b[0;34m\u001b[0m\u001b[0m\n",
            "\u001b[0;32m/usr/local/lib/python3.11/dist-packages/torch/utils/data/dataloader.py\u001b[0m in \u001b[0;36m__next__\u001b[0;34m(self)\u001b[0m\n\u001b[1;32m    706\u001b[0m                 \u001b[0;31m# TODO(https://github.com/pytorch/pytorch/issues/76750)\u001b[0m\u001b[0;34m\u001b[0m\u001b[0;34m\u001b[0m\u001b[0m\n\u001b[1;32m    707\u001b[0m                 \u001b[0mself\u001b[0m\u001b[0;34m.\u001b[0m\u001b[0m_reset\u001b[0m\u001b[0;34m(\u001b[0m\u001b[0;34m)\u001b[0m  \u001b[0;31m# type: ignore[call-arg]\u001b[0m\u001b[0;34m\u001b[0m\u001b[0;34m\u001b[0m\u001b[0m\n\u001b[0;32m--> 708\u001b[0;31m             \u001b[0mdata\u001b[0m \u001b[0;34m=\u001b[0m \u001b[0mself\u001b[0m\u001b[0;34m.\u001b[0m\u001b[0m_next_data\u001b[0m\u001b[0;34m(\u001b[0m\u001b[0;34m)\u001b[0m\u001b[0;34m\u001b[0m\u001b[0;34m\u001b[0m\u001b[0m\n\u001b[0m\u001b[1;32m    709\u001b[0m             \u001b[0mself\u001b[0m\u001b[0;34m.\u001b[0m\u001b[0m_num_yielded\u001b[0m \u001b[0;34m+=\u001b[0m \u001b[0;36m1\u001b[0m\u001b[0;34m\u001b[0m\u001b[0;34m\u001b[0m\u001b[0m\n\u001b[1;32m    710\u001b[0m             if (\n",
            "\u001b[0;32m/usr/local/lib/python3.11/dist-packages/torch/utils/data/dataloader.py\u001b[0m in \u001b[0;36m_next_data\u001b[0;34m(self)\u001b[0m\n\u001b[1;32m   1456\u001b[0m \u001b[0;34m\u001b[0m\u001b[0m\n\u001b[1;32m   1457\u001b[0m             \u001b[0;32massert\u001b[0m \u001b[0;32mnot\u001b[0m \u001b[0mself\u001b[0m\u001b[0;34m.\u001b[0m\u001b[0m_shutdown\u001b[0m \u001b[0;32mand\u001b[0m \u001b[0mself\u001b[0m\u001b[0;34m.\u001b[0m\u001b[0m_tasks_outstanding\u001b[0m \u001b[0;34m>\u001b[0m \u001b[0;36m0\u001b[0m\u001b[0;34m\u001b[0m\u001b[0;34m\u001b[0m\u001b[0m\n\u001b[0;32m-> 1458\u001b[0;31m             \u001b[0midx\u001b[0m\u001b[0;34m,\u001b[0m \u001b[0mdata\u001b[0m \u001b[0;34m=\u001b[0m \u001b[0mself\u001b[0m\u001b[0;34m.\u001b[0m\u001b[0m_get_data\u001b[0m\u001b[0;34m(\u001b[0m\u001b[0;34m)\u001b[0m\u001b[0;34m\u001b[0m\u001b[0;34m\u001b[0m\u001b[0m\n\u001b[0m\u001b[1;32m   1459\u001b[0m             \u001b[0mself\u001b[0m\u001b[0;34m.\u001b[0m\u001b[0m_tasks_outstanding\u001b[0m \u001b[0;34m-=\u001b[0m \u001b[0;36m1\u001b[0m\u001b[0;34m\u001b[0m\u001b[0;34m\u001b[0m\u001b[0m\n\u001b[1;32m   1460\u001b[0m             \u001b[0;32mif\u001b[0m \u001b[0mself\u001b[0m\u001b[0;34m.\u001b[0m\u001b[0m_dataset_kind\u001b[0m \u001b[0;34m==\u001b[0m \u001b[0m_DatasetKind\u001b[0m\u001b[0;34m.\u001b[0m\u001b[0mIterable\u001b[0m\u001b[0;34m:\u001b[0m\u001b[0;34m\u001b[0m\u001b[0;34m\u001b[0m\u001b[0m\n",
            "\u001b[0;32m/usr/local/lib/python3.11/dist-packages/torch/utils/data/dataloader.py\u001b[0m in \u001b[0;36m_get_data\u001b[0;34m(self)\u001b[0m\n\u001b[1;32m   1418\u001b[0m         \u001b[0;32melse\u001b[0m\u001b[0;34m:\u001b[0m\u001b[0;34m\u001b[0m\u001b[0;34m\u001b[0m\u001b[0m\n\u001b[1;32m   1419\u001b[0m             \u001b[0;32mwhile\u001b[0m \u001b[0;32mTrue\u001b[0m\u001b[0;34m:\u001b[0m\u001b[0;34m\u001b[0m\u001b[0;34m\u001b[0m\u001b[0m\n\u001b[0;32m-> 1420\u001b[0;31m                 \u001b[0msuccess\u001b[0m\u001b[0;34m,\u001b[0m \u001b[0mdata\u001b[0m \u001b[0;34m=\u001b[0m \u001b[0mself\u001b[0m\u001b[0;34m.\u001b[0m\u001b[0m_try_get_data\u001b[0m\u001b[0;34m(\u001b[0m\u001b[0;34m)\u001b[0m\u001b[0;34m\u001b[0m\u001b[0;34m\u001b[0m\u001b[0m\n\u001b[0m\u001b[1;32m   1421\u001b[0m                 \u001b[0;32mif\u001b[0m \u001b[0msuccess\u001b[0m\u001b[0;34m:\u001b[0m\u001b[0;34m\u001b[0m\u001b[0;34m\u001b[0m\u001b[0m\n\u001b[1;32m   1422\u001b[0m                     \u001b[0;32mreturn\u001b[0m \u001b[0mdata\u001b[0m\u001b[0;34m\u001b[0m\u001b[0;34m\u001b[0m\u001b[0m\n",
            "\u001b[0;32m/usr/local/lib/python3.11/dist-packages/torch/utils/data/dataloader.py\u001b[0m in \u001b[0;36m_try_get_data\u001b[0;34m(self, timeout)\u001b[0m\n\u001b[1;32m   1249\u001b[0m         \u001b[0;31m#   (bool: whether successfully get data, any: data if successful else None)\u001b[0m\u001b[0;34m\u001b[0m\u001b[0;34m\u001b[0m\u001b[0m\n\u001b[1;32m   1250\u001b[0m         \u001b[0;32mtry\u001b[0m\u001b[0;34m:\u001b[0m\u001b[0;34m\u001b[0m\u001b[0;34m\u001b[0m\u001b[0m\n\u001b[0;32m-> 1251\u001b[0;31m             \u001b[0mdata\u001b[0m \u001b[0;34m=\u001b[0m \u001b[0mself\u001b[0m\u001b[0;34m.\u001b[0m\u001b[0m_data_queue\u001b[0m\u001b[0;34m.\u001b[0m\u001b[0mget\u001b[0m\u001b[0;34m(\u001b[0m\u001b[0mtimeout\u001b[0m\u001b[0;34m=\u001b[0m\u001b[0mtimeout\u001b[0m\u001b[0;34m)\u001b[0m\u001b[0;34m\u001b[0m\u001b[0;34m\u001b[0m\u001b[0m\n\u001b[0m\u001b[1;32m   1252\u001b[0m             \u001b[0;32mreturn\u001b[0m \u001b[0;34m(\u001b[0m\u001b[0;32mTrue\u001b[0m\u001b[0;34m,\u001b[0m \u001b[0mdata\u001b[0m\u001b[0;34m)\u001b[0m\u001b[0;34m\u001b[0m\u001b[0;34m\u001b[0m\u001b[0m\n\u001b[1;32m   1253\u001b[0m         \u001b[0;32mexcept\u001b[0m \u001b[0mException\u001b[0m \u001b[0;32mas\u001b[0m \u001b[0me\u001b[0m\u001b[0;34m:\u001b[0m\u001b[0;34m\u001b[0m\u001b[0;34m\u001b[0m\u001b[0m\n",
            "\u001b[0;32m/usr/lib/python3.11/multiprocessing/queues.py\u001b[0m in \u001b[0;36mget\u001b[0;34m(self, block, timeout)\u001b[0m\n\u001b[1;32m    111\u001b[0m                 \u001b[0;32mif\u001b[0m \u001b[0mblock\u001b[0m\u001b[0;34m:\u001b[0m\u001b[0;34m\u001b[0m\u001b[0;34m\u001b[0m\u001b[0m\n\u001b[1;32m    112\u001b[0m                     \u001b[0mtimeout\u001b[0m \u001b[0;34m=\u001b[0m \u001b[0mdeadline\u001b[0m \u001b[0;34m-\u001b[0m \u001b[0mtime\u001b[0m\u001b[0;34m.\u001b[0m\u001b[0mmonotonic\u001b[0m\u001b[0;34m(\u001b[0m\u001b[0;34m)\u001b[0m\u001b[0;34m\u001b[0m\u001b[0;34m\u001b[0m\u001b[0m\n\u001b[0;32m--> 113\u001b[0;31m                     \u001b[0;32mif\u001b[0m \u001b[0;32mnot\u001b[0m \u001b[0mself\u001b[0m\u001b[0;34m.\u001b[0m\u001b[0m_poll\u001b[0m\u001b[0;34m(\u001b[0m\u001b[0mtimeout\u001b[0m\u001b[0;34m)\u001b[0m\u001b[0;34m:\u001b[0m\u001b[0;34m\u001b[0m\u001b[0;34m\u001b[0m\u001b[0m\n\u001b[0m\u001b[1;32m    114\u001b[0m                         \u001b[0;32mraise\u001b[0m \u001b[0mEmpty\u001b[0m\u001b[0;34m\u001b[0m\u001b[0;34m\u001b[0m\u001b[0m\n\u001b[1;32m    115\u001b[0m                 \u001b[0;32melif\u001b[0m \u001b[0;32mnot\u001b[0m \u001b[0mself\u001b[0m\u001b[0;34m.\u001b[0m\u001b[0m_poll\u001b[0m\u001b[0;34m(\u001b[0m\u001b[0;34m)\u001b[0m\u001b[0;34m:\u001b[0m\u001b[0;34m\u001b[0m\u001b[0;34m\u001b[0m\u001b[0m\n",
            "\u001b[0;32m/usr/lib/python3.11/multiprocessing/connection.py\u001b[0m in \u001b[0;36mpoll\u001b[0;34m(self, timeout)\u001b[0m\n\u001b[1;32m    255\u001b[0m         \u001b[0mself\u001b[0m\u001b[0;34m.\u001b[0m\u001b[0m_check_closed\u001b[0m\u001b[0;34m(\u001b[0m\u001b[0;34m)\u001b[0m\u001b[0;34m\u001b[0m\u001b[0;34m\u001b[0m\u001b[0m\n\u001b[1;32m    256\u001b[0m         \u001b[0mself\u001b[0m\u001b[0;34m.\u001b[0m\u001b[0m_check_readable\u001b[0m\u001b[0;34m(\u001b[0m\u001b[0;34m)\u001b[0m\u001b[0;34m\u001b[0m\u001b[0;34m\u001b[0m\u001b[0m\n\u001b[0;32m--> 257\u001b[0;31m         \u001b[0;32mreturn\u001b[0m \u001b[0mself\u001b[0m\u001b[0;34m.\u001b[0m\u001b[0m_poll\u001b[0m\u001b[0;34m(\u001b[0m\u001b[0mtimeout\u001b[0m\u001b[0;34m)\u001b[0m\u001b[0;34m\u001b[0m\u001b[0;34m\u001b[0m\u001b[0m\n\u001b[0m\u001b[1;32m    258\u001b[0m \u001b[0;34m\u001b[0m\u001b[0m\n\u001b[1;32m    259\u001b[0m     \u001b[0;32mdef\u001b[0m \u001b[0m__enter__\u001b[0m\u001b[0;34m(\u001b[0m\u001b[0mself\u001b[0m\u001b[0;34m)\u001b[0m\u001b[0;34m:\u001b[0m\u001b[0;34m\u001b[0m\u001b[0;34m\u001b[0m\u001b[0m\n",
            "\u001b[0;32m/usr/lib/python3.11/multiprocessing/connection.py\u001b[0m in \u001b[0;36m_poll\u001b[0;34m(self, timeout)\u001b[0m\n\u001b[1;32m    438\u001b[0m \u001b[0;34m\u001b[0m\u001b[0m\n\u001b[1;32m    439\u001b[0m     \u001b[0;32mdef\u001b[0m \u001b[0m_poll\u001b[0m\u001b[0;34m(\u001b[0m\u001b[0mself\u001b[0m\u001b[0;34m,\u001b[0m \u001b[0mtimeout\u001b[0m\u001b[0;34m)\u001b[0m\u001b[0;34m:\u001b[0m\u001b[0;34m\u001b[0m\u001b[0;34m\u001b[0m\u001b[0m\n\u001b[0;32m--> 440\u001b[0;31m         \u001b[0mr\u001b[0m \u001b[0;34m=\u001b[0m \u001b[0mwait\u001b[0m\u001b[0;34m(\u001b[0m\u001b[0;34m[\u001b[0m\u001b[0mself\u001b[0m\u001b[0;34m]\u001b[0m\u001b[0;34m,\u001b[0m \u001b[0mtimeout\u001b[0m\u001b[0;34m)\u001b[0m\u001b[0;34m\u001b[0m\u001b[0;34m\u001b[0m\u001b[0m\n\u001b[0m\u001b[1;32m    441\u001b[0m         \u001b[0;32mreturn\u001b[0m \u001b[0mbool\u001b[0m\u001b[0;34m(\u001b[0m\u001b[0mr\u001b[0m\u001b[0;34m)\u001b[0m\u001b[0;34m\u001b[0m\u001b[0;34m\u001b[0m\u001b[0m\n\u001b[1;32m    442\u001b[0m \u001b[0;34m\u001b[0m\u001b[0m\n",
            "\u001b[0;32m/usr/lib/python3.11/multiprocessing/connection.py\u001b[0m in \u001b[0;36mwait\u001b[0;34m(object_list, timeout)\u001b[0m\n\u001b[1;32m    946\u001b[0m \u001b[0;34m\u001b[0m\u001b[0m\n\u001b[1;32m    947\u001b[0m             \u001b[0;32mwhile\u001b[0m \u001b[0;32mTrue\u001b[0m\u001b[0;34m:\u001b[0m\u001b[0;34m\u001b[0m\u001b[0;34m\u001b[0m\u001b[0m\n\u001b[0;32m--> 948\u001b[0;31m                 \u001b[0mready\u001b[0m \u001b[0;34m=\u001b[0m \u001b[0mselector\u001b[0m\u001b[0;34m.\u001b[0m\u001b[0mselect\u001b[0m\u001b[0;34m(\u001b[0m\u001b[0mtimeout\u001b[0m\u001b[0;34m)\u001b[0m\u001b[0;34m\u001b[0m\u001b[0;34m\u001b[0m\u001b[0m\n\u001b[0m\u001b[1;32m    949\u001b[0m                 \u001b[0;32mif\u001b[0m \u001b[0mready\u001b[0m\u001b[0;34m:\u001b[0m\u001b[0;34m\u001b[0m\u001b[0;34m\u001b[0m\u001b[0m\n\u001b[1;32m    950\u001b[0m                     \u001b[0;32mreturn\u001b[0m \u001b[0;34m[\u001b[0m\u001b[0mkey\u001b[0m\u001b[0;34m.\u001b[0m\u001b[0mfileobj\u001b[0m \u001b[0;32mfor\u001b[0m \u001b[0;34m(\u001b[0m\u001b[0mkey\u001b[0m\u001b[0;34m,\u001b[0m \u001b[0mevents\u001b[0m\u001b[0;34m)\u001b[0m \u001b[0;32min\u001b[0m \u001b[0mready\u001b[0m\u001b[0;34m]\u001b[0m\u001b[0;34m\u001b[0m\u001b[0;34m\u001b[0m\u001b[0m\n",
            "\u001b[0;32m/usr/lib/python3.11/selectors.py\u001b[0m in \u001b[0;36mselect\u001b[0;34m(self, timeout)\u001b[0m\n\u001b[1;32m    413\u001b[0m         \u001b[0mready\u001b[0m \u001b[0;34m=\u001b[0m \u001b[0;34m[\u001b[0m\u001b[0;34m]\u001b[0m\u001b[0;34m\u001b[0m\u001b[0;34m\u001b[0m\u001b[0m\n\u001b[1;32m    414\u001b[0m         \u001b[0;32mtry\u001b[0m\u001b[0;34m:\u001b[0m\u001b[0;34m\u001b[0m\u001b[0;34m\u001b[0m\u001b[0m\n\u001b[0;32m--> 415\u001b[0;31m             \u001b[0mfd_event_list\u001b[0m \u001b[0;34m=\u001b[0m \u001b[0mself\u001b[0m\u001b[0;34m.\u001b[0m\u001b[0m_selector\u001b[0m\u001b[0;34m.\u001b[0m\u001b[0mpoll\u001b[0m\u001b[0;34m(\u001b[0m\u001b[0mtimeout\u001b[0m\u001b[0;34m)\u001b[0m\u001b[0;34m\u001b[0m\u001b[0;34m\u001b[0m\u001b[0m\n\u001b[0m\u001b[1;32m    416\u001b[0m         \u001b[0;32mexcept\u001b[0m \u001b[0mInterruptedError\u001b[0m\u001b[0;34m:\u001b[0m\u001b[0;34m\u001b[0m\u001b[0;34m\u001b[0m\u001b[0m\n\u001b[1;32m    417\u001b[0m             \u001b[0;32mreturn\u001b[0m \u001b[0mready\u001b[0m\u001b[0;34m\u001b[0m\u001b[0;34m\u001b[0m\u001b[0m\n",
            "\u001b[0;31mKeyboardInterrupt\u001b[0m: "
          ]
        }
      ]
    },
    {
      "cell_type": "code",
      "source": [
        "len(train_datalaoder), len(test_dataloader)"
      ],
      "metadata": {
        "colab": {
          "base_uri": "https://localhost:8080/"
        },
        "id": "PEbLjWE72T-j",
        "outputId": "1be62c34-6dea-4237-ffda-22ab94f46f3c"
      },
      "execution_count": null,
      "outputs": [
        {
          "output_type": "execute_result",
          "data": {
            "text/plain": [
              "(675, 169)"
            ]
          },
          "metadata": {},
          "execution_count": 58
        }
      ]
    },
    {
      "cell_type": "code",
      "source": [
        "#Traing again\n",
        "# Seed maybe again---\n",
        "\n",
        "NUM_EPOCHS = 100\n",
        "\n",
        "# Loss function and otmizer\n",
        "loss_fn = nn.CrossEntropyLoss()\n",
        "optimizer = torch.optim.SGD(params=model_1.parameters(), lr=0.01)\n",
        "\n",
        "# Recorigin start time\n",
        "from  timeit import default_timer as timer\n",
        "\n",
        "\n",
        "start_time = timer()\n",
        "model_1_results = Train(model=model_1,\n",
        "                        train_datalaoder=train_datalaoder,\n",
        "                        test_datalaoder=test_dataloader,\n",
        "                        loss_fn=loss_fn,\n",
        "                        optimizer=optimizer,\n",
        "                        epochs=NUM_EPOCHS,\n",
        "                        device=device)\n",
        "end_time = timer()\n",
        "\n",
        "print(f\"Total training time: {end_time-start_time:.3f} secods\")"
      ],
      "metadata": {
        "colab": {
          "base_uri": "https://localhost:8080/",
          "height": 1000,
          "referenced_widgets": [
            "2f7330d694c844a49bb82c385a627285",
            "149116465508432b96d70d28d30be15d",
            "c04b1f5e31d4481aa7cbb1f4fbd8174c",
            "45b0813249a049288a41ffd4123e8835",
            "e3e4fde873f3472b8fd73cd6b89a8290",
            "1f5c24391d7942f7bdad2f4c9e1f9a1b",
            "232756b5408e4578bd57117e45303135",
            "e4b8df2b55314637bddeb882857ef00a",
            "4baad4e9f97141afa78991e9c5b015fd",
            "f2de59f74b3f4258a19f100f5f336c18",
            "0a06564f8e894194ac4910c96b01d700"
          ]
        },
        "id": "InfBIHEby96d",
        "outputId": "8a27903a-fcb3-4fee-c961-d312ccd63847"
      },
      "execution_count": null,
      "outputs": [
        {
          "output_type": "display_data",
          "data": {
            "text/plain": [
              "  0%|          | 0/100 [00:00<?, ?it/s]"
            ],
            "application/vnd.jupyter.widget-view+json": {
              "version_major": 2,
              "version_minor": 0,
              "model_id": "2f7330d694c844a49bb82c385a627285"
            }
          },
          "metadata": {}
        },
        {
          "output_type": "stream",
          "name": "stdout",
          "text": [
            "Epoch: 0 | Train loss: 2.2375, Train Acc: 15.9491% | Test loss:1.9283, Test acc: 22.8797%\n",
            "Epoch: 1 | Train loss: 1.8204, Train Acc: 28.0694% | Test loss:1.7398, Test acc: 31.6075%\n",
            "Epoch: 2 | Train loss: 1.7176, Train Acc: 33.6250% | Test loss:1.7884, Test acc: 28.4578%\n",
            "Epoch: 3 | Train loss: 1.5728, Train Acc: 39.8796% | Test loss:1.4712, Test acc: 45.1245%\n",
            "Epoch: 4 | Train loss: 1.3851, Train Acc: 48.0000% | Test loss:1.2612, Test acc: 56.3671%\n",
            "Epoch: 5 | Train loss: 1.1682, Train Acc: 58.1204% | Test loss:1.0554, Test acc: 62.2719%\n",
            "Epoch: 6 | Train loss: 1.0456, Train Acc: 63.0324% | Test loss:1.0001, Test acc: 64.8422%\n",
            "Epoch: 7 | Train loss: 0.9532, Train Acc: 66.2685% | Test loss:0.9737, Test acc: 65.9209%\n",
            "Epoch: 8 | Train loss: 0.8909, Train Acc: 68.3472% | Test loss:1.0439, Test acc: 62.1302%\n",
            "Epoch: 9 | Train loss: 0.8415, Train Acc: 70.1991% | Test loss:0.8549, Test acc: 69.2369%\n",
            "Epoch: 10 | Train loss: 0.7987, Train Acc: 72.0417% | Test loss:0.8618, Test acc: 69.6252%\n",
            "Epoch: 11 | Train loss: 0.7556, Train Acc: 72.9398% | Test loss:0.9176, Test acc: 66.8886%\n",
            "Epoch: 12 | Train loss: 0.7112, Train Acc: 74.7593% | Test loss:0.7573, Test acc: 72.9290%\n",
            "Epoch: 13 | Train loss: 0.6708, Train Acc: 76.2222% | Test loss:0.7901, Test acc: 71.2155%\n",
            "Epoch: 14 | Train loss: 0.6252, Train Acc: 77.6019% | Test loss:0.7224, Test acc: 74.4699%\n",
            "Epoch: 15 | Train loss: 0.5929, Train Acc: 78.7731% | Test loss:0.7532, Test acc: 74.7411%\n",
            "Epoch: 16 | Train loss: 0.5748, Train Acc: 79.5648% | Test loss:0.7964, Test acc: 73.8104%\n",
            "Epoch: 17 | Train loss: 0.5530, Train Acc: 80.1343% | Test loss:0.7269, Test acc: 75.4253%\n",
            "Epoch: 18 | Train loss: 0.5312, Train Acc: 81.1250% | Test loss:0.6977, Test acc: 75.6410%\n",
            "Epoch: 19 | Train loss: 0.5090, Train Acc: 82.0093% | Test loss:0.6823, Test acc: 76.7443%\n",
            "Epoch: 20 | Train loss: 0.4898, Train Acc: 82.6852% | Test loss:0.6938, Test acc: 75.7643%\n",
            "Epoch: 21 | Train loss: 0.4781, Train Acc: 82.9583% | Test loss:0.6462, Test acc: 77.9339%\n",
            "Epoch: 22 | Train loss: 0.4531, Train Acc: 83.8704% | Test loss:0.6863, Test acc: 76.7875%\n",
            "Epoch: 23 | Train loss: 0.4451, Train Acc: 84.4537% | Test loss:0.6870, Test acc: 76.7690%\n",
            "Epoch: 24 | Train loss: 0.4281, Train Acc: 84.8333% | Test loss:0.6822, Test acc: 76.8060%\n",
            "Epoch: 25 | Train loss: 0.4184, Train Acc: 85.3194% | Test loss:0.6315, Test acc: 79.1050%\n",
            "Epoch: 26 | Train loss: 0.4043, Train Acc: 85.5602% | Test loss:0.6656, Test acc: 78.2853%\n",
            "Epoch: 27 | Train loss: 0.3894, Train Acc: 86.1065% | Test loss:0.6929, Test acc: 77.5025%\n",
            "Epoch: 28 | Train loss: 0.3814, Train Acc: 86.4907% | Test loss:0.6454, Test acc: 78.1681%\n",
            "Epoch: 29 | Train loss: 0.3632, Train Acc: 87.0602% | Test loss:0.6785, Test acc: 78.4948%\n",
            "Epoch: 30 | Train loss: 0.3636, Train Acc: 87.0648% | Test loss:0.6726, Test acc: 77.1450%\n",
            "Epoch: 31 | Train loss: 0.3514, Train Acc: 87.6713% | Test loss:0.7496, Test acc: 75.7705%\n",
            "Epoch: 32 | Train loss: 0.3426, Train Acc: 87.8333% | Test loss:0.7043, Test acc: 77.6072%\n",
            "Epoch: 33 | Train loss: 0.3333, Train Acc: 88.1204% | Test loss:0.7194, Test acc: 76.7135%\n",
            "Epoch: 34 | Train loss: 0.3226, Train Acc: 88.3009% | Test loss:0.6693, Test acc: 79.5180%\n",
            "Epoch: 35 | Train loss: 0.3212, Train Acc: 88.3843% | Test loss:0.7934, Test acc: 75.4623%\n",
            "Epoch: 36 | Train loss: 0.3046, Train Acc: 89.2222% | Test loss:0.7097, Test acc: 77.9339%\n",
            "Epoch: 37 | Train loss: 0.2978, Train Acc: 89.5787% | Test loss:0.7170, Test acc: 78.6551%\n",
            "Epoch: 38 | Train loss: 0.2891, Train Acc: 89.5000% | Test loss:0.7758, Test acc: 76.9354%\n",
            "Epoch: 39 | Train loss: 0.2885, Train Acc: 89.8843% | Test loss:0.6959, Test acc: 78.9941%\n",
            "Epoch: 40 | Train loss: 0.2809, Train Acc: 89.8657% | Test loss:0.7273, Test acc: 78.4578%\n",
            "Epoch: 41 | Train loss: 0.2748, Train Acc: 90.3287% | Test loss:0.7356, Test acc: 78.9201%\n",
            "Epoch: 42 | Train loss: 0.2674, Train Acc: 90.6991% | Test loss:0.7216, Test acc: 79.7522%\n",
            "Epoch: 43 | Train loss: 0.2664, Train Acc: 90.4213% | Test loss:0.7634, Test acc: 78.6982%\n",
            "Epoch: 44 | Train loss: 0.2604, Train Acc: 90.8657% | Test loss:0.7908, Test acc: 78.3715%\n",
            "Epoch: 45 | Train loss: 0.2502, Train Acc: 91.2130% | Test loss:0.7964, Test acc: 78.1188%\n",
            "Epoch: 46 | Train loss: 0.2515, Train Acc: 91.2361% | Test loss:0.7545, Test acc: 79.0126%\n",
            "Epoch: 47 | Train loss: 0.2492, Train Acc: 91.4491% | Test loss:0.7823, Test acc: 78.8338%\n",
            "Epoch: 48 | Train loss: 0.2404, Train Acc: 91.5787% | Test loss:0.7887, Test acc: 78.8770%\n",
            "Epoch: 49 | Train loss: 0.2281, Train Acc: 91.8333% | Test loss:0.8920, Test acc: 77.4593%\n",
            "Epoch: 50 | Train loss: 0.2303, Train Acc: 91.7546% | Test loss:0.8307, Test acc: 78.1743%\n",
            "Epoch: 51 | Train loss: 0.2259, Train Acc: 92.0648% | Test loss:0.9008, Test acc: 77.2621%\n",
            "Epoch: 52 | Train loss: 0.2372, Train Acc: 91.7130% | Test loss:0.8672, Test acc: 77.2867%\n",
            "Epoch: 53 | Train loss: 0.2187, Train Acc: 92.3704% | Test loss:0.8803, Test acc: 78.6181%\n",
            "Epoch: 54 | Train loss: 0.2149, Train Acc: 92.4907% | Test loss:0.9342, Test acc: 76.6889%\n",
            "Epoch: 55 | Train loss: 0.2149, Train Acc: 92.4213% | Test loss:0.8715, Test acc: 78.6674%\n",
            "Epoch: 56 | Train loss: 0.2038, Train Acc: 93.0972% | Test loss:0.8630, Test acc: 79.3331%\n",
            "Epoch: 57 | Train loss: 0.2040, Train Acc: 92.7361% | Test loss:0.9671, Test acc: 76.3683%\n",
            "Epoch: 58 | Train loss: 0.2045, Train Acc: 92.8194% | Test loss:0.9092, Test acc: 78.4702%\n",
            "Epoch: 59 | Train loss: 0.1935, Train Acc: 93.1620% | Test loss:0.9507, Test acc: 78.5318%\n",
            "Epoch: 60 | Train loss: 0.2081, Train Acc: 92.9769% | Test loss:0.8791, Test acc: 78.6243%\n",
            "Epoch: 61 | Train loss: 0.2011, Train Acc: 93.1019% | Test loss:0.9525, Test acc: 77.7120%\n",
            "Epoch: 62 | Train loss: 0.1832, Train Acc: 93.5648% | Test loss:0.9263, Test acc: 78.7167%\n",
            "Epoch: 63 | Train loss: 0.1863, Train Acc: 93.7083% | Test loss:0.9535, Test acc: 78.2914%\n"
          ]
        },
        {
          "output_type": "error",
          "ename": "KeyboardInterrupt",
          "evalue": "",
          "traceback": [
            "\u001b[0;31m---------------------------------------------------------------------------\u001b[0m",
            "\u001b[0;31mKeyboardInterrupt\u001b[0m                         Traceback (most recent call last)",
            "\u001b[0;32m/tmp/ipython-input-59-3648318320.py\u001b[0m in \u001b[0;36m<cell line: 0>\u001b[0;34m()\u001b[0m\n\u001b[1;32m     13\u001b[0m \u001b[0;34m\u001b[0m\u001b[0m\n\u001b[1;32m     14\u001b[0m \u001b[0mstart_time\u001b[0m \u001b[0;34m=\u001b[0m \u001b[0mtimer\u001b[0m\u001b[0;34m(\u001b[0m\u001b[0;34m)\u001b[0m\u001b[0;34m\u001b[0m\u001b[0;34m\u001b[0m\u001b[0m\n\u001b[0;32m---> 15\u001b[0;31m model_1_results = Train(model=model_1,\n\u001b[0m\u001b[1;32m     16\u001b[0m                         \u001b[0mtrain_datalaoder\u001b[0m\u001b[0;34m=\u001b[0m\u001b[0mtrain_datalaoder\u001b[0m\u001b[0;34m,\u001b[0m\u001b[0;34m\u001b[0m\u001b[0;34m\u001b[0m\u001b[0m\n\u001b[1;32m     17\u001b[0m                         \u001b[0mtest_datalaoder\u001b[0m\u001b[0;34m=\u001b[0m\u001b[0mtest_dataloader\u001b[0m\u001b[0;34m,\u001b[0m\u001b[0;34m\u001b[0m\u001b[0;34m\u001b[0m\u001b[0m\n",
            "\u001b[0;32m/tmp/ipython-input-57-3429048991.py\u001b[0m in \u001b[0;36mTrain\u001b[0;34m(model, train_datalaoder, test_datalaoder, optimizer, loss_fn, epochs, device)\u001b[0m\n\u001b[1;32m     18\u001b[0m   \u001b[0;31m# Training loo\u001b[0m\u001b[0;34m\u001b[0m\u001b[0;34m\u001b[0m\u001b[0m\n\u001b[1;32m     19\u001b[0m   \u001b[0;32mfor\u001b[0m \u001b[0mepoch\u001b[0m \u001b[0;32min\u001b[0m \u001b[0mtqdm\u001b[0m\u001b[0;34m(\u001b[0m\u001b[0mrange\u001b[0m\u001b[0;34m(\u001b[0m\u001b[0mepochs\u001b[0m\u001b[0;34m)\u001b[0m\u001b[0;34m)\u001b[0m\u001b[0;34m:\u001b[0m\u001b[0;34m\u001b[0m\u001b[0;34m\u001b[0m\u001b[0m\n\u001b[0;32m---> 20\u001b[0;31m     train_loss, train_acc = train_step(model=model,\n\u001b[0m\u001b[1;32m     21\u001b[0m                                        \u001b[0mdataloader\u001b[0m\u001b[0;34m=\u001b[0m\u001b[0mtrain_datalaoder\u001b[0m\u001b[0;34m,\u001b[0m\u001b[0;34m\u001b[0m\u001b[0;34m\u001b[0m\u001b[0m\n\u001b[1;32m     22\u001b[0m                                        \u001b[0mloss_fn\u001b[0m\u001b[0;34m=\u001b[0m\u001b[0mloss_fn\u001b[0m\u001b[0;34m,\u001b[0m\u001b[0;34m\u001b[0m\u001b[0;34m\u001b[0m\u001b[0m\n",
            "\u001b[0;32m/tmp/ipython-input-55-2178874847.py\u001b[0m in \u001b[0;36mtrain_step\u001b[0;34m(model, dataloader, loss_fn, optimizer, device)\u001b[0m\n\u001b[1;32m     26\u001b[0m \u001b[0;34m\u001b[0m\u001b[0m\n\u001b[1;32m     27\u001b[0m     \u001b[0;31m# Zero the gradient not to accumalte\u001b[0m\u001b[0;34m\u001b[0m\u001b[0;34m\u001b[0m\u001b[0m\n\u001b[0;32m---> 28\u001b[0;31m     \u001b[0moptimizer\u001b[0m\u001b[0;34m.\u001b[0m\u001b[0mzero_grad\u001b[0m\u001b[0;34m(\u001b[0m\u001b[0;34m)\u001b[0m\u001b[0;34m\u001b[0m\u001b[0;34m\u001b[0m\u001b[0m\n\u001b[0m\u001b[1;32m     29\u001b[0m \u001b[0;34m\u001b[0m\u001b[0m\n\u001b[1;32m     30\u001b[0m     \u001b[0;31m# Back propagation - calculate the gradient\u001b[0m\u001b[0;34m\u001b[0m\u001b[0;34m\u001b[0m\u001b[0m\n",
            "\u001b[0;32m/usr/local/lib/python3.11/dist-packages/torch/_compile.py\u001b[0m in \u001b[0;36minner\u001b[0;34m(*args, **kwargs)\u001b[0m\n\u001b[1;32m     30\u001b[0m                 \u001b[0mfn\u001b[0m\u001b[0;34m.\u001b[0m\u001b[0m__dynamo_disable\u001b[0m \u001b[0;34m=\u001b[0m \u001b[0mdisable_fn\u001b[0m\u001b[0;34m\u001b[0m\u001b[0;34m\u001b[0m\u001b[0m\n\u001b[1;32m     31\u001b[0m \u001b[0;34m\u001b[0m\u001b[0m\n\u001b[0;32m---> 32\u001b[0;31m             \u001b[0;32mreturn\u001b[0m \u001b[0mdisable_fn\u001b[0m\u001b[0;34m(\u001b[0m\u001b[0;34m*\u001b[0m\u001b[0margs\u001b[0m\u001b[0;34m,\u001b[0m \u001b[0;34m**\u001b[0m\u001b[0mkwargs\u001b[0m\u001b[0;34m)\u001b[0m\u001b[0;34m\u001b[0m\u001b[0;34m\u001b[0m\u001b[0m\n\u001b[0m\u001b[1;32m     33\u001b[0m \u001b[0;34m\u001b[0m\u001b[0m\n\u001b[1;32m     34\u001b[0m         \u001b[0;32mreturn\u001b[0m \u001b[0minner\u001b[0m\u001b[0;34m\u001b[0m\u001b[0;34m\u001b[0m\u001b[0m\n",
            "\u001b[0;32m/usr/local/lib/python3.11/dist-packages/torch/_dynamo/eval_frame.py\u001b[0m in \u001b[0;36m_fn\u001b[0;34m(*args, **kwargs)\u001b[0m\n\u001b[1;32m    743\u001b[0m             )\n\u001b[1;32m    744\u001b[0m             \u001b[0;32mtry\u001b[0m\u001b[0;34m:\u001b[0m\u001b[0;34m\u001b[0m\u001b[0;34m\u001b[0m\u001b[0m\n\u001b[0;32m--> 745\u001b[0;31m                 \u001b[0;32mreturn\u001b[0m \u001b[0mfn\u001b[0m\u001b[0;34m(\u001b[0m\u001b[0;34m*\u001b[0m\u001b[0margs\u001b[0m\u001b[0;34m,\u001b[0m \u001b[0;34m**\u001b[0m\u001b[0mkwargs\u001b[0m\u001b[0;34m)\u001b[0m\u001b[0;34m\u001b[0m\u001b[0;34m\u001b[0m\u001b[0m\n\u001b[0m\u001b[1;32m    746\u001b[0m             \u001b[0;32mfinally\u001b[0m\u001b[0;34m:\u001b[0m\u001b[0;34m\u001b[0m\u001b[0;34m\u001b[0m\u001b[0m\n\u001b[1;32m    747\u001b[0m                 \u001b[0m_maybe_set_eval_frame\u001b[0m\u001b[0;34m(\u001b[0m\u001b[0mprior\u001b[0m\u001b[0;34m)\u001b[0m\u001b[0;34m\u001b[0m\u001b[0;34m\u001b[0m\u001b[0m\n",
            "\u001b[0;32m/usr/local/lib/python3.11/dist-packages/torch/optim/optimizer.py\u001b[0m in \u001b[0;36mzero_grad\u001b[0;34m(self, set_to_none)\u001b[0m\n\u001b[1;32m    973\u001b[0m                     \u001b[0;32mif\u001b[0m \u001b[0mp\u001b[0m\u001b[0;34m.\u001b[0m\u001b[0mgrad\u001b[0m \u001b[0;32mis\u001b[0m \u001b[0;32mnot\u001b[0m \u001b[0;32mNone\u001b[0m\u001b[0;34m:\u001b[0m\u001b[0;34m\u001b[0m\u001b[0;34m\u001b[0m\u001b[0m\n\u001b[1;32m    974\u001b[0m                         \u001b[0;32mif\u001b[0m \u001b[0mset_to_none\u001b[0m\u001b[0;34m:\u001b[0m\u001b[0;34m\u001b[0m\u001b[0;34m\u001b[0m\u001b[0m\n\u001b[0;32m--> 975\u001b[0;31m                             \u001b[0mp\u001b[0m\u001b[0;34m.\u001b[0m\u001b[0mgrad\u001b[0m \u001b[0;34m=\u001b[0m \u001b[0;32mNone\u001b[0m\u001b[0;34m\u001b[0m\u001b[0;34m\u001b[0m\u001b[0m\n\u001b[0m\u001b[1;32m    976\u001b[0m                         \u001b[0;32melse\u001b[0m\u001b[0;34m:\u001b[0m\u001b[0;34m\u001b[0m\u001b[0;34m\u001b[0m\u001b[0m\n\u001b[1;32m    977\u001b[0m                             \u001b[0;32mif\u001b[0m \u001b[0mp\u001b[0m\u001b[0;34m.\u001b[0m\u001b[0mgrad\u001b[0m\u001b[0;34m.\u001b[0m\u001b[0mgrad_fn\u001b[0m \u001b[0;32mis\u001b[0m \u001b[0;32mnot\u001b[0m \u001b[0;32mNone\u001b[0m\u001b[0;34m:\u001b[0m\u001b[0;34m\u001b[0m\u001b[0;34m\u001b[0m\u001b[0m\n",
            "\u001b[0;31mKeyboardInterrupt\u001b[0m: "
          ]
        }
      ]
    },
    {
      "cell_type": "code",
      "source": [],
      "metadata": {
        "id": "wT-InNDu3wyk"
      },
      "execution_count": null,
      "outputs": []
    }
  ]
}