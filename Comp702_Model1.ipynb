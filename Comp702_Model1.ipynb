{
  "nbformat": 4,
  "nbformat_minor": 0,
  "metadata": {
    "colab": {
      "provenance": [],
      "gpuType": "T4",
      "toc_visible": true,
      "include_colab_link": true
    },
    "kernelspec": {
      "name": "python3",
      "display_name": "Python 3"
    },
    "language_info": {
      "name": "python"
    },
    "accelerator": "GPU",
    "widgets": {
      "application/vnd.jupyter.widget-state+json": {
        "2361641dbeb44be6a078f4a126dae3a5": {
          "model_module": "@jupyter-widgets/controls",
          "model_name": "HBoxModel",
          "model_module_version": "1.5.0",
          "state": {
            "_dom_classes": [],
            "_model_module": "@jupyter-widgets/controls",
            "_model_module_version": "1.5.0",
            "_model_name": "HBoxModel",
            "_view_count": null,
            "_view_module": "@jupyter-widgets/controls",
            "_view_module_version": "1.5.0",
            "_view_name": "HBoxView",
            "box_style": "",
            "children": [
              "IPY_MODEL_7a746c55e2014a82a35e8ed91c23e765",
              "IPY_MODEL_acaf7d8903f0422e9a0dd32f9b075903",
              "IPY_MODEL_6d77444802724b82b349a713ac2fec31"
            ],
            "layout": "IPY_MODEL_2217b89399a44d428ccbee722e513755"
          }
        },
        "7a746c55e2014a82a35e8ed91c23e765": {
          "model_module": "@jupyter-widgets/controls",
          "model_name": "HTMLModel",
          "model_module_version": "1.5.0",
          "state": {
            "_dom_classes": [],
            "_model_module": "@jupyter-widgets/controls",
            "_model_module_version": "1.5.0",
            "_model_name": "HTMLModel",
            "_view_count": null,
            "_view_module": "@jupyter-widgets/controls",
            "_view_module_version": "1.5.0",
            "_view_name": "HTMLView",
            "description": "",
            "description_tooltip": null,
            "layout": "IPY_MODEL_408085bf9c9a487390889a089f64365a",
            "placeholder": "​",
            "style": "IPY_MODEL_cb6132047e8a4638b530459cbeffece2",
            "value": "100%"
          }
        },
        "acaf7d8903f0422e9a0dd32f9b075903": {
          "model_module": "@jupyter-widgets/controls",
          "model_name": "FloatProgressModel",
          "model_module_version": "1.5.0",
          "state": {
            "_dom_classes": [],
            "_model_module": "@jupyter-widgets/controls",
            "_model_module_version": "1.5.0",
            "_model_name": "FloatProgressModel",
            "_view_count": null,
            "_view_module": "@jupyter-widgets/controls",
            "_view_module_version": "1.5.0",
            "_view_name": "ProgressView",
            "bar_style": "success",
            "description": "",
            "description_tooltip": null,
            "layout": "IPY_MODEL_ca0a96cc97a44d98882ff92399c631fa",
            "max": 100,
            "min": 0,
            "orientation": "horizontal",
            "style": "IPY_MODEL_ff6143df2f6048558424fdd1bcb10909",
            "value": 100
          }
        },
        "6d77444802724b82b349a713ac2fec31": {
          "model_module": "@jupyter-widgets/controls",
          "model_name": "HTMLModel",
          "model_module_version": "1.5.0",
          "state": {
            "_dom_classes": [],
            "_model_module": "@jupyter-widgets/controls",
            "_model_module_version": "1.5.0",
            "_model_name": "HTMLModel",
            "_view_count": null,
            "_view_module": "@jupyter-widgets/controls",
            "_view_module_version": "1.5.0",
            "_view_name": "HTMLView",
            "description": "",
            "description_tooltip": null,
            "layout": "IPY_MODEL_19218762ad974c97b92e297c70c71c56",
            "placeholder": "​",
            "style": "IPY_MODEL_c2347c6229b54f159279538749e6d04b",
            "value": " 100/100 [20:21&lt;00:00, 12.12s/it]"
          }
        },
        "2217b89399a44d428ccbee722e513755": {
          "model_module": "@jupyter-widgets/base",
          "model_name": "LayoutModel",
          "model_module_version": "1.2.0",
          "state": {
            "_model_module": "@jupyter-widgets/base",
            "_model_module_version": "1.2.0",
            "_model_name": "LayoutModel",
            "_view_count": null,
            "_view_module": "@jupyter-widgets/base",
            "_view_module_version": "1.2.0",
            "_view_name": "LayoutView",
            "align_content": null,
            "align_items": null,
            "align_self": null,
            "border": null,
            "bottom": null,
            "display": null,
            "flex": null,
            "flex_flow": null,
            "grid_area": null,
            "grid_auto_columns": null,
            "grid_auto_flow": null,
            "grid_auto_rows": null,
            "grid_column": null,
            "grid_gap": null,
            "grid_row": null,
            "grid_template_areas": null,
            "grid_template_columns": null,
            "grid_template_rows": null,
            "height": null,
            "justify_content": null,
            "justify_items": null,
            "left": null,
            "margin": null,
            "max_height": null,
            "max_width": null,
            "min_height": null,
            "min_width": null,
            "object_fit": null,
            "object_position": null,
            "order": null,
            "overflow": null,
            "overflow_x": null,
            "overflow_y": null,
            "padding": null,
            "right": null,
            "top": null,
            "visibility": null,
            "width": null
          }
        },
        "408085bf9c9a487390889a089f64365a": {
          "model_module": "@jupyter-widgets/base",
          "model_name": "LayoutModel",
          "model_module_version": "1.2.0",
          "state": {
            "_model_module": "@jupyter-widgets/base",
            "_model_module_version": "1.2.0",
            "_model_name": "LayoutModel",
            "_view_count": null,
            "_view_module": "@jupyter-widgets/base",
            "_view_module_version": "1.2.0",
            "_view_name": "LayoutView",
            "align_content": null,
            "align_items": null,
            "align_self": null,
            "border": null,
            "bottom": null,
            "display": null,
            "flex": null,
            "flex_flow": null,
            "grid_area": null,
            "grid_auto_columns": null,
            "grid_auto_flow": null,
            "grid_auto_rows": null,
            "grid_column": null,
            "grid_gap": null,
            "grid_row": null,
            "grid_template_areas": null,
            "grid_template_columns": null,
            "grid_template_rows": null,
            "height": null,
            "justify_content": null,
            "justify_items": null,
            "left": null,
            "margin": null,
            "max_height": null,
            "max_width": null,
            "min_height": null,
            "min_width": null,
            "object_fit": null,
            "object_position": null,
            "order": null,
            "overflow": null,
            "overflow_x": null,
            "overflow_y": null,
            "padding": null,
            "right": null,
            "top": null,
            "visibility": null,
            "width": null
          }
        },
        "cb6132047e8a4638b530459cbeffece2": {
          "model_module": "@jupyter-widgets/controls",
          "model_name": "DescriptionStyleModel",
          "model_module_version": "1.5.0",
          "state": {
            "_model_module": "@jupyter-widgets/controls",
            "_model_module_version": "1.5.0",
            "_model_name": "DescriptionStyleModel",
            "_view_count": null,
            "_view_module": "@jupyter-widgets/base",
            "_view_module_version": "1.2.0",
            "_view_name": "StyleView",
            "description_width": ""
          }
        },
        "ca0a96cc97a44d98882ff92399c631fa": {
          "model_module": "@jupyter-widgets/base",
          "model_name": "LayoutModel",
          "model_module_version": "1.2.0",
          "state": {
            "_model_module": "@jupyter-widgets/base",
            "_model_module_version": "1.2.0",
            "_model_name": "LayoutModel",
            "_view_count": null,
            "_view_module": "@jupyter-widgets/base",
            "_view_module_version": "1.2.0",
            "_view_name": "LayoutView",
            "align_content": null,
            "align_items": null,
            "align_self": null,
            "border": null,
            "bottom": null,
            "display": null,
            "flex": null,
            "flex_flow": null,
            "grid_area": null,
            "grid_auto_columns": null,
            "grid_auto_flow": null,
            "grid_auto_rows": null,
            "grid_column": null,
            "grid_gap": null,
            "grid_row": null,
            "grid_template_areas": null,
            "grid_template_columns": null,
            "grid_template_rows": null,
            "height": null,
            "justify_content": null,
            "justify_items": null,
            "left": null,
            "margin": null,
            "max_height": null,
            "max_width": null,
            "min_height": null,
            "min_width": null,
            "object_fit": null,
            "object_position": null,
            "order": null,
            "overflow": null,
            "overflow_x": null,
            "overflow_y": null,
            "padding": null,
            "right": null,
            "top": null,
            "visibility": null,
            "width": null
          }
        },
        "ff6143df2f6048558424fdd1bcb10909": {
          "model_module": "@jupyter-widgets/controls",
          "model_name": "ProgressStyleModel",
          "model_module_version": "1.5.0",
          "state": {
            "_model_module": "@jupyter-widgets/controls",
            "_model_module_version": "1.5.0",
            "_model_name": "ProgressStyleModel",
            "_view_count": null,
            "_view_module": "@jupyter-widgets/base",
            "_view_module_version": "1.2.0",
            "_view_name": "StyleView",
            "bar_color": null,
            "description_width": ""
          }
        },
        "19218762ad974c97b92e297c70c71c56": {
          "model_module": "@jupyter-widgets/base",
          "model_name": "LayoutModel",
          "model_module_version": "1.2.0",
          "state": {
            "_model_module": "@jupyter-widgets/base",
            "_model_module_version": "1.2.0",
            "_model_name": "LayoutModel",
            "_view_count": null,
            "_view_module": "@jupyter-widgets/base",
            "_view_module_version": "1.2.0",
            "_view_name": "LayoutView",
            "align_content": null,
            "align_items": null,
            "align_self": null,
            "border": null,
            "bottom": null,
            "display": null,
            "flex": null,
            "flex_flow": null,
            "grid_area": null,
            "grid_auto_columns": null,
            "grid_auto_flow": null,
            "grid_auto_rows": null,
            "grid_column": null,
            "grid_gap": null,
            "grid_row": null,
            "grid_template_areas": null,
            "grid_template_columns": null,
            "grid_template_rows": null,
            "height": null,
            "justify_content": null,
            "justify_items": null,
            "left": null,
            "margin": null,
            "max_height": null,
            "max_width": null,
            "min_height": null,
            "min_width": null,
            "object_fit": null,
            "object_position": null,
            "order": null,
            "overflow": null,
            "overflow_x": null,
            "overflow_y": null,
            "padding": null,
            "right": null,
            "top": null,
            "visibility": null,
            "width": null
          }
        },
        "c2347c6229b54f159279538749e6d04b": {
          "model_module": "@jupyter-widgets/controls",
          "model_name": "DescriptionStyleModel",
          "model_module_version": "1.5.0",
          "state": {
            "_model_module": "@jupyter-widgets/controls",
            "_model_module_version": "1.5.0",
            "_model_name": "DescriptionStyleModel",
            "_view_count": null,
            "_view_module": "@jupyter-widgets/base",
            "_view_module_version": "1.2.0",
            "_view_name": "StyleView",
            "description_width": ""
          }
        }
      }
    }
  },
  "cells": [
    {
      "cell_type": "markdown",
      "metadata": {
        "id": "view-in-github",
        "colab_type": "text"
      },
      "source": [
        "<a href=\"https://colab.research.google.com/github/atanilson/Comp702/blob/main/Comp702_Model1.ipynb\" target=\"_parent\"><img src=\"https://colab.research.google.com/assets/colab-badge.svg\" alt=\"Open In Colab\"/></a>"
      ]
    },
    {
      "cell_type": "code",
      "execution_count": 1,
      "metadata": {
        "id": "qam9OFxaUqTc"
      },
      "outputs": [],
      "source": [
        "# Libraries"
      ]
    },
    {
      "cell_type": "code",
      "source": [
        "import torch\n",
        "from torch import nn\n",
        "\n",
        "# To get data\n",
        "import requests\n",
        "import zipfile\n",
        "from pathlib import Path\n",
        "import os\n",
        "\n",
        "# Tranforming data\n",
        "from torch.utils.data import DataLoader, random_split\n",
        "from torchvision import datasets, transforms"
      ],
      "metadata": {
        "id": "jfR38OA9X8zZ"
      },
      "execution_count": 2,
      "outputs": []
    },
    {
      "cell_type": "code",
      "source": [
        "# Device agnostic\n",
        "device = \"cuda\" if torch.cuda.is_available() else \"cpu\"\n",
        "\n",
        "# Reproducibility\n",
        "torch.manual_seed(42)\n",
        "torch.cuda.manual_seed(42)"
      ],
      "metadata": {
        "id": "AaRzA3FKYDUM"
      },
      "execution_count": 3,
      "outputs": []
    },
    {
      "cell_type": "code",
      "source": [
        "device"
      ],
      "metadata": {
        "colab": {
          "base_uri": "https://localhost:8080/",
          "height": 35
        },
        "id": "-BB64NV3O30A",
        "outputId": "fdfe6dd5-1117-4aab-fb05-336f900b88aa"
      },
      "execution_count": 4,
      "outputs": [
        {
          "output_type": "execute_result",
          "data": {
            "text/plain": [
              "'cpu'"
            ],
            "application/vnd.google.colaboratory.intrinsic+json": {
              "type": "string"
            }
          },
          "metadata": {},
          "execution_count": 4
        }
      ]
    },
    {
      "cell_type": "markdown",
      "source": [
        "# Data exploration"
      ],
      "metadata": {
        "id": "YSBQWKAfZUJk"
      }
    },
    {
      "cell_type": "markdown",
      "source": [
        "## Downlaoding the data"
      ],
      "metadata": {
        "id": "q-AikVTBZPTk"
      }
    },
    {
      "cell_type": "code",
      "source": [
        "!wget https://zenodo.org/records/7711810/files/EuroSAT_RGB.zip?download=1 -O EuroSAT_RGB.zip\n",
        "!unzip -q EuroSAT_RGB.zip -d \"data\"\n",
        "!rm EuroSAT_RGB.zip"
      ],
      "metadata": {
        "colab": {
          "base_uri": "https://localhost:8080/"
        },
        "id": "kCCiBncXZYo_",
        "outputId": "5cec30f1-ad35-43a0-b81c-e33c81b513ad"
      },
      "execution_count": 5,
      "outputs": [
        {
          "output_type": "stream",
          "name": "stdout",
          "text": [
            "--2025-07-03 08:07:55--  https://zenodo.org/records/7711810/files/EuroSAT_RGB.zip?download=1\n",
            "Resolving zenodo.org (zenodo.org)... 188.185.43.25, 188.185.45.92, 188.185.48.194, ...\n",
            "Connecting to zenodo.org (zenodo.org)|188.185.43.25|:443... connected.\n",
            "HTTP request sent, awaiting response... 200 OK\n",
            "Length: 94658721 (90M) [application/octet-stream]\n",
            "Saving to: ‘EuroSAT_RGB.zip’\n",
            "\n",
            "EuroSAT_RGB.zip     100%[===================>]  90.27M  4.88MB/s    in 26s     \n",
            "\n",
            "2025-07-03 08:08:22 (3.44 MB/s) - ‘EuroSAT_RGB.zip’ saved [94658721/94658721]\n",
            "\n"
          ]
        }
      ]
    },
    {
      "cell_type": "code",
      "source": [
        "data_path = Path(\"data/\")\n",
        "#data_path.mkdir(parents=True, exist_ok=True)\n",
        "#!mv EuroSAT_RGB data/\n",
        "EuroSAT_RGB_path = data_path/\"EuroSAT_RGB\""
      ],
      "metadata": {
        "id": "p8QrOt_wcdmr"
      },
      "execution_count": 6,
      "outputs": []
    },
    {
      "cell_type": "code",
      "source": [
        "def inspect_datafolder(dir_dataset):\n",
        "  \"\"\"Walks though the dataset dir and return the content\"\"\"\n",
        "  for dirpath, dirnames, filenames in os.walk(dir_dataset):\n",
        "    print(f\"There are {len(dirnames)} folders and {len(filenames)} images in {dirpath}.\")"
      ],
      "metadata": {
        "id": "j7NAcVrpazv6"
      },
      "execution_count": 7,
      "outputs": []
    },
    {
      "cell_type": "code",
      "source": [
        "inspect_datafolder(EuroSAT_RGB_path)"
      ],
      "metadata": {
        "colab": {
          "base_uri": "https://localhost:8080/"
        },
        "id": "1Zjlp9Vmca3z",
        "outputId": "6cd310ac-a935-459b-f272-cce40320e5e1"
      },
      "execution_count": 8,
      "outputs": [
        {
          "output_type": "stream",
          "name": "stdout",
          "text": [
            "There are 10 folders and 0 images in data/EuroSAT_RGB.\n",
            "There are 0 folders and 2000 images in data/EuroSAT_RGB/Pasture.\n",
            "There are 0 folders and 2500 images in data/EuroSAT_RGB/River.\n",
            "There are 0 folders and 3000 images in data/EuroSAT_RGB/Forest.\n",
            "There are 0 folders and 3000 images in data/EuroSAT_RGB/SeaLake.\n",
            "There are 0 folders and 3000 images in data/EuroSAT_RGB/AnnualCrop.\n",
            "There are 0 folders and 3000 images in data/EuroSAT_RGB/HerbaceousVegetation.\n",
            "There are 0 folders and 3000 images in data/EuroSAT_RGB/Residential.\n",
            "There are 0 folders and 2500 images in data/EuroSAT_RGB/PermanentCrop.\n",
            "There are 0 folders and 2500 images in data/EuroSAT_RGB/Highway.\n",
            "There are 0 folders and 2500 images in data/EuroSAT_RGB/Industrial.\n"
          ]
        }
      ]
    },
    {
      "cell_type": "markdown",
      "source": [
        "## Visualising"
      ],
      "metadata": {
        "id": "6TVsj7w8sL49"
      }
    },
    {
      "cell_type": "code",
      "source": [
        "import random\n",
        "from PIL import Image\n",
        "\n",
        "random.seed(42)\n",
        "\n",
        "# Get the list of all possible paths in the dataset\n",
        "image_path_list = list(EuroSAT_RGB_path.glob(\"*/*.jpg\"))\n",
        "\n",
        "# Picking a random image path and getting the clas\n",
        "random_image_path = random.choice(image_path_list)\n",
        "random_image_class = random_image_path.parent.stem # Parent it the path, stem is the end of the folder\n",
        "\n",
        "# Opening the image\n",
        "img = Image.open(random_image_path)\n",
        "\n",
        "# printing caracteriscs\n",
        "print(f\"Randoma image path: {random_image_path}\")\n",
        "print(f\"Image class: {random_image_class}\")\n",
        "print(f\"Image height: {img.height}\")\n",
        "print(f\"Image width: {img.width}\")"
      ],
      "metadata": {
        "colab": {
          "base_uri": "https://localhost:8080/"
        },
        "id": "y0gbQU5-sQWk",
        "outputId": "d4595cc6-714b-48b8-b1cc-5de09ce3a9c9"
      },
      "execution_count": 9,
      "outputs": [
        {
          "output_type": "stream",
          "name": "stdout",
          "text": [
            "Randoma image path: data/EuroSAT_RGB/PermanentCrop/PermanentCrop_552.jpg\n",
            "Image class: PermanentCrop\n",
            "Image height: 64\n",
            "Image width: 64\n"
          ]
        }
      ]
    },
    {
      "cell_type": "markdown",
      "source": [
        "### Using matplotlib"
      ],
      "metadata": {
        "id": "0ldtCvH4vJhu"
      }
    },
    {
      "cell_type": "code",
      "source": [
        "import numpy as np\n",
        "import matplotlib.pyplot as plt\n",
        "\n",
        "# Turn image into an array\n",
        "img_as_array = np.asanyarray(img)\n",
        "\n",
        "plt.figure(figsize=(10,7))\n",
        "plt.imshow(img_as_array)\n",
        "plt.title(f\"Image class: {random_image_class} | Image shape: {img_as_array.shape} -> [height, width, color_channels]\")\n",
        "plt.axis(False)"
      ],
      "metadata": {
        "colab": {
          "base_uri": "https://localhost:8080/",
          "height": 615
        },
        "id": "k2_PDOPmvOR4",
        "outputId": "7c696677-a1d6-4014-8a24-33c7972d1c0b"
      },
      "execution_count": 10,
      "outputs": [
        {
          "output_type": "execute_result",
          "data": {
            "text/plain": [
              "(np.float64(-0.5), np.float64(63.5), np.float64(63.5), np.float64(-0.5))"
            ]
          },
          "metadata": {},
          "execution_count": 10
        },
        {
          "output_type": "display_data",
          "data": {
            "text/plain": [
              "<Figure size 1000x700 with 1 Axes>"
            ],
            "image/png": "[encoded data removed]"
          },
          "metadata": {}
        }
      ]
    },
    {
      "cell_type": "markdown",
      "source": [
        "## Tranforming\n",
        "\n",
        "Will perform transformation expermentaly as needed"
      ],
      "metadata": {
        "id": "_LDavFbCl6ic"
      }
    },
    {
      "cell_type": "code",
      "source": [
        "transform = transforms.Compose([\n",
        "    transforms.Resize((64,64)),\n",
        "    #transforms.RandomHorizontalFlip(),\n",
        "    #transforms.RandomRotation(10),\n",
        "    transforms.ToTensor(),\n",
        "    #transforms.Normalize(mean=[0.485, 0.456, 0.406], std=[0.229, 0.224, 0.225])\n",
        "])"
      ],
      "metadata": {
        "id": "AzZE2U1ne8ok"
      },
      "execution_count": 11,
      "outputs": []
    },
    {
      "cell_type": "code",
      "source": [
        "transform(img).dtype"
      ],
      "metadata": {
        "colab": {
          "base_uri": "https://localhost:8080/"
        },
        "id": "4TNWgWsVxxGU",
        "outputId": "7c940e81-f188-4260-9c83-6674c3113c46"
      },
      "execution_count": 12,
      "outputs": [
        {
          "output_type": "execute_result",
          "data": {
            "text/plain": [
              "torch.float32"
            ]
          },
          "metadata": {},
          "execution_count": 12
        }
      ]
    },
    {
      "cell_type": "code",
      "source": [
        "def plot_tranformed_images(image_path_list, transform, n=3, seed=None):\n",
        "  \"\"\"\n",
        "  Will select random image and load/Tranform\n",
        "  Then will plot the original vs Tranformed\n",
        "  \"\"\"\n",
        "\n",
        "  if seed:\n",
        "    random.seed(seed)\n",
        "\n",
        "  random_image_paths = random.sample(image_path_list, k=n)\n",
        "\n",
        "  for image_path in random_image_paths:\n",
        "    with Image.open(image_path) as f:\n",
        "      fig, ax = plt.subplots(nrows=1, ncols=2)\n",
        "      # Ploting original\n",
        "      ax[0].imshow(f)\n",
        "      ax[0].set_title(f\"Original\\n Size: {f.size}\")\n",
        "      ax[0].axis(False)\n",
        "\n",
        "      # Ploting tranfomed\n",
        "      tranformed_image = transform(f).permute(1, 2, 0) # Change shape because of matplotlib (C, H, W) -> (H, W, C)\n",
        "      ax[1].imshow(tranformed_image)\n",
        "      ax[1].set_title(f\"Transformed\\n Size: {tranformed_image.shape}\")\n",
        "      ax[1].axis(False)\n",
        "\n",
        "      fig.suptitle(f\"Class: {image_path.parent.stem}\", fontsize = 16)"
      ],
      "metadata": {
        "id": "iu2qoJKux5z1"
      },
      "execution_count": 13,
      "outputs": []
    },
    {
      "cell_type": "code",
      "source": [
        "plot_tranformed_images(image_path_list=image_path_list, transform=transform, n=3, seed=None)"
      ],
      "metadata": {
        "colab": {
          "base_uri": "https://localhost:8080/",
          "height": 1000
        },
        "id": "gZWInUQ31aq1",
        "outputId": "12366123-1a79-422c-8ae2-8d53ce8afde5"
      },
      "execution_count": 14,
      "outputs": [
        {
          "output_type": "display_data",
          "data": {
            "text/plain": [
              "<Figure size 640x480 with 2 Axes>"
            ],
            "image/png": "[encoded data removed]"
          },
          "metadata": {}
        },
        {
          "output_type": "display_data",
          "data": {
            "text/plain": [
              "<Figure size 640x480 with 2 Axes>"
            ],
            "image/png": "[encoded data removed]"
          },
          "metadata": {}
        },
        {
          "output_type": "display_data",
          "data": {
            "text/plain": [
              "<Figure size 640x480 with 2 Axes>"
            ],
            "image/png": "[encoded data removed]"
          },
          "metadata": {}
        }
      ]
    },
    {
      "cell_type": "markdown",
      "source": [
        "### Other form of data Agmentation"
      ],
      "metadata": {
        "id": "4lJ0izqJP5h0"
      }
    },
    {
      "cell_type": "code",
      "source": [
        "# See PyTorch Documentation, e.g. TrivialAugment\n"
      ],
      "metadata": {
        "id": "7KOXTBZ7QGMk"
      },
      "execution_count": 15,
      "outputs": []
    },
    {
      "cell_type": "markdown",
      "source": [
        "### Creating the datset"
      ],
      "metadata": {
        "id": "NQ2jzX_ZxRxu"
      }
    },
    {
      "cell_type": "code",
      "source": [
        "full_dataset = datasets.ImageFolder(root=EuroSAT_RGB_path, transform=transform)\n",
        "class_names = full_dataset.classes\n",
        "\n",
        "train_size = int(0.8*len(full_dataset))\n",
        "test_size = len(full_dataset) - train_size\n",
        "\n",
        "train_dataset, test_dataset = random_split(full_dataset, [train_size, test_size])"
      ],
      "metadata": {
        "id": "PpsySu6vxWDL"
      },
      "execution_count": 16,
      "outputs": []
    },
    {
      "cell_type": "code",
      "source": [
        "len(train_dataset), len(test_dataset)"
      ],
      "metadata": {
        "colab": {
          "base_uri": "https://localhost:8080/"
        },
        "id": "UnwuQm5T2GTW",
        "outputId": "d9acc113-d665-45ee-ec53-c0575367123a"
      },
      "execution_count": 17,
      "outputs": [
        {
          "output_type": "execute_result",
          "data": {
            "text/plain": [
              "(21600, 5400)"
            ]
          },
          "metadata": {},
          "execution_count": 17
        }
      ]
    },
    {
      "cell_type": "code",
      "source": [
        "full_dataset"
      ],
      "metadata": {
        "colab": {
          "base_uri": "https://localhost:8080/"
        },
        "id": "SR85tqW12M6G",
        "outputId": "7f594d31-86f2-4fd7-ddc9-f642806a712d"
      },
      "execution_count": 18,
      "outputs": [
        {
          "output_type": "execute_result",
          "data": {
            "text/plain": [
              "Dataset ImageFolder\n",
              "    Number of datapoints: 27000\n",
              "    Root location: data/EuroSAT_RGB\n",
              "    StandardTransform\n",
              "Transform: Compose(\n",
              "               Resize(size=(64, 64), interpolation=bilinear, max_size=None, antialias=True)\n",
              "               ToTensor()\n",
              "           )"
            ]
          },
          "metadata": {},
          "execution_count": 18
        }
      ]
    },
    {
      "cell_type": "code",
      "source": [
        "full_dataset.samples[0]"
      ],
      "metadata": {
        "colab": {
          "base_uri": "https://localhost:8080/"
        },
        "id": "WWsyF6nG2f7s",
        "outputId": "f053d75f-4fa0-4e65-c184-3ce0a4dc51b8"
      },
      "execution_count": 19,
      "outputs": [
        {
          "output_type": "execute_result",
          "data": {
            "text/plain": [
              "('data/EuroSAT_RGB/AnnualCrop/AnnualCrop_1.jpg', 0)"
            ]
          },
          "metadata": {},
          "execution_count": 19
        }
      ]
    },
    {
      "cell_type": "code",
      "source": [
        "# Index on the dataset to get a single image and label\n",
        "img, label = full_dataset[0][0], full_dataset[0][1]\n",
        "print(f\"Image tensor: \\n {img}\")\n",
        "print(f\"Image shape: {img.shape}\")\n",
        "print(f\"Image datatype: {img.dtype}\")\n",
        "print(f\"Image label: {label}\")\n",
        "print(f\"Lable datatype: {type(label)}\")"
      ],
      "metadata": {
        "colab": {
          "base_uri": "https://localhost:8080/"
        },
        "id": "oZSRncAH3lPJ",
        "outputId": "738ef84b-e81a-4ffa-bdbc-9b37c8a56460"
      },
      "execution_count": 20,
      "outputs": [
        {
          "output_type": "stream",
          "name": "stdout",
          "text": [
            "Image tensor: \n",
            " tensor([[[0.5843, 0.5843, 0.5804,  ..., 0.4000, 0.4078, 0.4039],\n",
            "         [0.5843, 0.5843, 0.5804,  ..., 0.4000, 0.4078, 0.4039],\n",
            "         [0.5608, 0.5569, 0.5725,  ..., 0.4000, 0.4000, 0.4039],\n",
            "         ...,\n",
            "         [0.5647, 0.5529, 0.5373,  ..., 0.4039, 0.3922, 0.3961],\n",
            "         [0.5176, 0.5176, 0.4980,  ..., 0.4118, 0.4118, 0.4196],\n",
            "         [0.4863, 0.4784, 0.4706,  ..., 0.4157, 0.4157, 0.4196]],\n",
            "\n",
            "        [[0.4745, 0.4745, 0.4667,  ..., 0.3529, 0.3608, 0.3569],\n",
            "         [0.4745, 0.4745, 0.4667,  ..., 0.3529, 0.3608, 0.3569],\n",
            "         [0.4588, 0.4549, 0.4588,  ..., 0.3608, 0.3529, 0.3569],\n",
            "         ...,\n",
            "         [0.4549, 0.4588, 0.4588,  ..., 0.3647, 0.3529, 0.3569],\n",
            "         [0.4314, 0.4392, 0.4314,  ..., 0.3686, 0.3647, 0.3725],\n",
            "         [0.4118, 0.4157, 0.4039,  ..., 0.3725, 0.3686, 0.3725]],\n",
            "\n",
            "        [[0.4706, 0.4706, 0.4745,  ..., 0.3922, 0.4000, 0.3961],\n",
            "         [0.4706, 0.4706, 0.4745,  ..., 0.3922, 0.4000, 0.3961],\n",
            "         [0.4627, 0.4588, 0.4745,  ..., 0.3961, 0.3922, 0.3961],\n",
            "         ...,\n",
            "         [0.4510, 0.4588, 0.4667,  ..., 0.4000, 0.3961, 0.4000],\n",
            "         [0.4431, 0.4471, 0.4549,  ..., 0.4000, 0.4039, 0.4118],\n",
            "         [0.4275, 0.4275, 0.4353,  ..., 0.4039, 0.4078, 0.4118]]])\n",
            "Image shape: torch.Size([3, 64, 64])\n",
            "Image datatype: torch.float32\n",
            "Image label: 0\n",
            "Lable datatype: <class 'int'>\n"
          ]
        }
      ]
    },
    {
      "cell_type": "code",
      "source": [
        "# Printing Image directy from te datasete\n",
        "img_permute = img.permute(1, 2, 0)\n",
        "\n",
        "plt.figure(figsize=(10,7))\n",
        "plt.imshow(img_permute)\n",
        "plt.axis(False)\n",
        "plt.title(class_names[label], fontsize=14)"
      ],
      "metadata": {
        "colab": {
          "base_uri": "https://localhost:8080/",
          "height": 616
        },
        "id": "MOlVNHyx5qFH",
        "outputId": "6f69b849-e5fb-4d18-9549-1a5026c03ca9"
      },
      "execution_count": 21,
      "outputs": [
        {
          "output_type": "execute_result",
          "data": {
            "text/plain": [
              "Text(0.5, 1.0, 'AnnualCrop')"
            ]
          },
          "metadata": {},
          "execution_count": 21
        },
        {
          "output_type": "display_data",
          "data": {
            "text/plain": [
              "<Figure size 1000x700 with 1 Axes>"
            ],
            "image/png": "[encoded data removed]"
          },
          "metadata": {}
        }
      ]
    },
    {
      "cell_type": "markdown",
      "source": [
        "### Displaying random image from the dataset"
      ],
      "metadata": {
        "id": "4cWbdGpg-lT1"
      }
    },
    {
      "cell_type": "code",
      "source": [
        "from typing import List\n",
        "def display_random_images(dataset: torch.utils.data.Dataset,\n",
        "                         classes: List[str] = None,\n",
        "                         n: int = 10,\n",
        "                         display_shape: bool = True,\n",
        "                         seed: int = None):\n",
        "  # Better if is less tha 10 because of display\n",
        "  if n>10:\n",
        "    n=10\n",
        "\n",
        "  if seed:\n",
        "    random.seed(seed)\n",
        "\n",
        "  # 4. Getting random sample indexes\n",
        "  random_sample_idx = random.sample(range(len(dataset)), k=n)\n",
        "\n",
        "  # Create plot\n",
        "  plt.figure(figsize=(16, 8))\n",
        "\n",
        "  # Looping through the index and ploting them\n",
        "  for i, img_sample_idx in enumerate(random_sample_idx):\n",
        "    img_sample, label_sample = dataset[img_sample_idx][0], dataset[img_sample_idx][1]\n",
        "\n",
        "    plt.subplot(1,n, i+1)\n",
        "    plt.imshow(img_sample.permute(1,2,0))\n",
        "    plt.axis(False)\n",
        "    if classes:\n",
        "      title = (f\"Class: {classes[label_sample]}\")\n",
        "      if display_shape:\n",
        "        title = title + f\"\\nShape: {img_sample.permute(1,2,0).shape}\"\n",
        "    plt.title(title)"
      ],
      "metadata": {
        "id": "-zfbYQBO-uJi"
      },
      "execution_count": 22,
      "outputs": []
    },
    {
      "cell_type": "code",
      "source": [
        "display_random_images(train_dataset.dataset, n=5, classes=class_names, seed=42)"
      ],
      "metadata": {
        "colab": {
          "base_uri": "https://localhost:8080/",
          "height": 200
        },
        "id": "o2pjhLnrCRVT",
        "outputId": "aeaabd3d-82ce-4a35-c658-dc8605430d80"
      },
      "execution_count": 23,
      "outputs": [
        {
          "output_type": "display_data",
          "data": {
            "text/plain": [
              "<Figure size 1600x800 with 5 Axes>"
            ],
            "image/png": "[encoded data removed]"
          },
          "metadata": {}
        }
      ]
    },
    {
      "cell_type": "markdown",
      "source": [
        "### Creatind Datalaoder"
      ],
      "metadata": {
        "id": "8VWZhfml2B1R"
      }
    },
    {
      "cell_type": "code",
      "source": [
        "# Datalaoder\n",
        "BATH_SIZE = 32\n",
        "NUM_WORKERS = os.cpu_count()\n",
        "\n",
        "train_datalaoder = DataLoader(train_dataset, batch_size=BATH_SIZE, num_workers=NUM_WORKERS, shuffle=True)\n",
        "test_dataloader = DataLoader(test_dataset, batch_size=BATH_SIZE, num_workers=NUM_WORKERS, shuffle=False)"
      ],
      "metadata": {
        "id": "gWuLhPJKqxXs"
      },
      "execution_count": 24,
      "outputs": []
    },
    {
      "cell_type": "code",
      "source": [
        "len(train_datalaoder), len(train_dataset)"
      ],
      "metadata": {
        "colab": {
          "base_uri": "https://localhost:8080/"
        },
        "id": "83bvulma6zmS",
        "outputId": "d01c5ce6-c9fc-41b8-f18e-157a4e0e9fd5"
      },
      "execution_count": 25,
      "outputs": [
        {
          "output_type": "execute_result",
          "data": {
            "text/plain": [
              "(675, 21600)"
            ]
          },
          "metadata": {},
          "execution_count": 25
        }
      ]
    },
    {
      "cell_type": "code",
      "source": [
        "21600/32"
      ],
      "metadata": {
        "colab": {
          "base_uri": "https://localhost:8080/"
        },
        "id": "mR2eHvYW66lZ",
        "outputId": "f634c4e2-4cc3-4a84-98d5-df7cc4d8dd67"
      },
      "execution_count": 26,
      "outputs": [
        {
          "output_type": "execute_result",
          "data": {
            "text/plain": [
              "675.0"
            ]
          },
          "metadata": {},
          "execution_count": 26
        }
      ]
    },
    {
      "cell_type": "code",
      "source": [
        "# Loading from the datalaoder\n",
        "img, label = next(iter(train_datalaoder))\n",
        "print(f\"Image shape: {img.shape}-> [batch_size, color channels, height, width]\")\n",
        "print(f\"Label shape: {label.shape}\")"
      ],
      "metadata": {
        "colab": {
          "base_uri": "https://localhost:8080/"
        },
        "id": "lLqdzCIOr8bR",
        "outputId": "497ed937-629e-43b3-bd6f-e672a94924b4"
      },
      "execution_count": 27,
      "outputs": [
        {
          "output_type": "stream",
          "name": "stdout",
          "text": [
            "Image shape: torch.Size([32, 3, 64, 64])-> [batch_size, color channels, height, width]\n",
            "Label shape: torch.Size([32])\n"
          ]
        }
      ]
    },
    {
      "cell_type": "code",
      "source": [],
      "metadata": {
        "id": "Vo4H-mtD8Fyn"
      },
      "execution_count": 27,
      "outputs": []
    },
    {
      "cell_type": "markdown",
      "source": [
        "# Model 1\n",
        "\n",
        "* CNN Artiteture based on CNN explainer TinyVGG"
      ],
      "metadata": {
        "id": "1pBA9LEAQczN"
      }
    },
    {
      "cell_type": "code",
      "source": [
        "class CNN_Model1(nn.Module):\n",
        "  \"\"\"\n",
        "  Model ...\n",
        "  \"\"\"\n",
        "  def __init__(self, input_shape: int,hidden_units: int, output_shape:int):\n",
        "    super().__init__()\n",
        "    self.conv_block_1 = nn.Sequential(\n",
        "        nn.Conv2d(in_channels=input_shape,\n",
        "                  out_channels=hidden_units,\n",
        "                  kernel_size=3,\n",
        "                  stride=1,\n",
        "                  padding=0),\n",
        "        nn.ReLU(),\n",
        "        nn.Conv2d(\n",
        "            in_channels=hidden_units,\n",
        "            out_channels=hidden_units,\n",
        "            kernel_size=3,\n",
        "            stride=1,\n",
        "            padding=0\n",
        "        ),\n",
        "        nn.ReLU(),\n",
        "        nn.MaxPool2d(\n",
        "            kernel_size=2,\n",
        "            stride=2\n",
        "        )\n",
        "    )\n",
        "    self.conv_block_2 = nn.Sequential(\n",
        "        nn.Conv2d(in_channels=hidden_units,\n",
        "                  out_channels=hidden_units,\n",
        "                  kernel_size=3,\n",
        "                  stride=1,\n",
        "                  padding=0),\n",
        "        nn.ReLU(),\n",
        "        nn.Conv2d(\n",
        "            in_channels=hidden_units,\n",
        "            out_channels=hidden_units,\n",
        "            kernel_size=3,\n",
        "            stride=1,\n",
        "            padding=0\n",
        "        ),\n",
        "        nn.ReLU(),\n",
        "        nn.MaxPool2d(\n",
        "            kernel_size=2,\n",
        "            stride=2\n",
        "        )\n",
        "    )\n",
        "    self.pooling = nn.Sequential(\n",
        "        nn.Flatten(),\n",
        "        nn.Linear(\n",
        "            in_features=hidden_units*13*13,\n",
        "            out_features=output_shape\n",
        "        )\n",
        "    #self.pooling = nn.Sequential(nn.Flatten(), nn.LazyLinear(out_features=output_shape)) out maticlay get the in_fitures\n",
        "    )\n",
        "\n",
        "  def forward(self,x):\n",
        "    #print(x.shape)\n",
        "    #x=self.conv_block_1(x)\n",
        "    #print(x.shape)\n",
        "    #x=self.conv_block_2(x)\n",
        "    #print(x.shape)\n",
        "    #x=self.pooling(x)\n",
        "    #print(x.shape)\n",
        "    #return x\n",
        "    return self.pooling(self.conv_block_2(self.conv_block_1(x)))\n"
      ],
      "metadata": {
        "id": "r2rouakOQw99"
      },
      "execution_count": 28,
      "outputs": []
    },
    {
      "cell_type": "code",
      "source": [
        "len(class_names)"
      ],
      "metadata": {
        "colab": {
          "base_uri": "https://localhost:8080/"
        },
        "id": "EVtRh1j3aAhH",
        "outputId": "6f1c76bb-21e9-4450-8fe9-12286efa5576"
      },
      "execution_count": 29,
      "outputs": [
        {
          "output_type": "execute_result",
          "data": {
            "text/plain": [
              "10"
            ]
          },
          "metadata": {},
          "execution_count": 29
        }
      ]
    },
    {
      "cell_type": "code",
      "source": [
        "model_1 = CNN_Model1(\n",
        "    input_shape=3,\n",
        "    hidden_units=10,\n",
        "    output_shape=len(class_names)\n",
        ").to(device)\n",
        "\n",
        "model_1"
      ],
      "metadata": {
        "colab": {
          "base_uri": "https://localhost:8080/"
        },
        "id": "Vg3mkf1Ta9Rr",
        "outputId": "479377c3-2124-47bb-ae7a-ef22d4374751"
      },
      "execution_count": 30,
      "outputs": [
        {
          "output_type": "execute_result",
          "data": {
            "text/plain": [
              "CNN_Model1(\n",
              "  (conv_block_1): Sequential(\n",
              "    (0): Conv2d(3, 10, kernel_size=(3, 3), stride=(1, 1))\n",
              "    (1): ReLU()\n",
              "    (2): Conv2d(10, 10, kernel_size=(3, 3), stride=(1, 1))\n",
              "    (3): ReLU()\n",
              "    (4): MaxPool2d(kernel_size=2, stride=2, padding=0, dilation=1, ceil_mode=False)\n",
              "  )\n",
              "  (conv_block_2): Sequential(\n",
              "    (0): Conv2d(10, 10, kernel_size=(3, 3), stride=(1, 1))\n",
              "    (1): ReLU()\n",
              "    (2): Conv2d(10, 10, kernel_size=(3, 3), stride=(1, 1))\n",
              "    (3): ReLU()\n",
              "    (4): MaxPool2d(kernel_size=2, stride=2, padding=0, dilation=1, ceil_mode=False)\n",
              "  )\n",
              "  (pooling): Sequential(\n",
              "    (0): Flatten(start_dim=1, end_dim=-1)\n",
              "    (1): Linear(in_features=1690, out_features=10, bias=True)\n",
              "  )\n",
              ")"
            ]
          },
          "metadata": {},
          "execution_count": 30
        }
      ]
    },
    {
      "cell_type": "markdown",
      "source": [
        "## Trying foward pass on a single image to test the model"
      ],
      "metadata": {
        "id": "8b7bia5ybP5M"
      }
    },
    {
      "cell_type": "code",
      "source": [
        "image_batch, label_batch = next(iter(train_datalaoder))\n",
        "image_batch.shape, label_batch.shape"
      ],
      "metadata": {
        "colab": {
          "base_uri": "https://localhost:8080/"
        },
        "id": "BzkztmGCbgIf",
        "outputId": "76ebf6d2-bbb1-47a9-dc24-e6b1fe9b5d0b"
      },
      "execution_count": 31,
      "outputs": [
        {
          "output_type": "execute_result",
          "data": {
            "text/plain": [
              "(torch.Size([32, 3, 64, 64]), torch.Size([32]))"
            ]
          },
          "metadata": {},
          "execution_count": 31
        }
      ]
    },
    {
      "cell_type": "code",
      "source": [
        "model_1(image_batch.to(device))"
      ],
      "metadata": {
        "colab": {
          "base_uri": "https://localhost:8080/"
        },
        "id": "rTzGkBlWeaBJ",
        "outputId": "0a3e7aa2-73cf-4637-8f2b-554c95037962"
      },
      "execution_count": 32,
      "outputs": [
        {
          "output_type": "execute_result",
          "data": {
            "text/plain": [
              "tensor([[-8.5121e-03, -7.0773e-03, -3.3466e-03,  4.2917e-02,  1.7458e-04,\n",
              "         -1.8853e-02,  1.9143e-02, -1.1874e-02, -4.0510e-02,  1.2709e-02],\n",
              "        [-8.6106e-03, -7.4658e-03, -5.1807e-03,  4.4399e-02,  7.0402e-04,\n",
              "         -2.0196e-02,  2.1302e-02, -1.4282e-02, -4.1829e-02,  1.1275e-02],\n",
              "        [-8.1258e-03, -7.5032e-03, -3.8269e-03,  4.3262e-02, -9.1553e-04,\n",
              "         -1.9340e-02,  1.8543e-02, -1.0886e-02, -3.8727e-02,  1.2300e-02],\n",
              "        [-7.3409e-03, -7.5012e-03, -4.7893e-03,  4.3983e-02, -6.1195e-04,\n",
              "         -1.9891e-02,  1.9219e-02, -1.1845e-02, -4.0002e-02,  1.2236e-02],\n",
              "        [-8.5998e-03, -7.6277e-03, -4.5390e-03,  4.3900e-02,  3.7936e-04,\n",
              "         -2.0097e-02,  2.0045e-02, -1.2963e-02, -4.0371e-02,  1.1296e-02],\n",
              "        [-8.0522e-03, -7.5547e-03, -3.7011e-03,  4.2853e-02, -1.0595e-03,\n",
              "         -1.9094e-02,  1.8320e-02, -1.0511e-02, -3.8368e-02,  1.2343e-02],\n",
              "        [-8.4033e-03, -7.5236e-03, -3.8180e-03,  4.3641e-02, -5.9148e-04,\n",
              "         -1.9422e-02,  1.9192e-02, -1.1830e-02, -3.9705e-02,  1.1372e-02],\n",
              "        [-7.7783e-03, -6.6924e-03, -4.2274e-03,  4.4129e-02, -1.2459e-03,\n",
              "         -2.0596e-02,  1.9009e-02, -1.1202e-02, -3.9062e-02,  1.2731e-02],\n",
              "        [-8.2649e-03, -7.4426e-03, -4.1055e-03,  4.3785e-02, -4.0374e-04,\n",
              "         -1.9975e-02,  1.9402e-02, -1.1320e-02, -3.9956e-02,  1.1945e-02],\n",
              "        [-8.2783e-03, -7.8965e-03, -4.2262e-03,  4.4542e-02,  5.1671e-04,\n",
              "         -1.9875e-02,  1.9970e-02, -1.2642e-02, -4.0187e-02,  1.2162e-02],\n",
              "        [-8.5026e-03, -7.3996e-03, -4.2816e-03,  4.4195e-02, -2.1178e-04,\n",
              "         -2.0265e-02,  1.9646e-02, -1.2769e-02, -4.0512e-02,  1.2076e-02],\n",
              "        [-8.2679e-03, -7.6648e-03, -4.1663e-03,  4.4774e-02,  6.7951e-05,\n",
              "         -1.9861e-02,  1.9452e-02, -1.1997e-02, -4.0534e-02,  1.2029e-02],\n",
              "        [-8.1010e-03, -6.4134e-03, -4.2368e-03,  4.4947e-02, -1.2891e-03,\n",
              "         -2.0765e-02,  1.9064e-02, -1.3489e-02, -4.0315e-02,  1.2735e-02],\n",
              "        [-8.2479e-03, -7.4992e-03, -4.4759e-03,  4.4358e-02, -1.0509e-04,\n",
              "         -1.9612e-02,  1.9736e-02, -1.2042e-02, -4.0553e-02,  1.1849e-02],\n",
              "        [-8.0117e-03, -7.5639e-03, -3.9646e-03,  4.3473e-02, -5.8615e-04,\n",
              "         -1.9549e-02,  1.8834e-02, -1.1294e-02, -3.9473e-02,  1.2159e-02],\n",
              "        [-8.0459e-03, -7.5011e-03, -3.5821e-03,  4.2493e-02, -1.3115e-03,\n",
              "         -1.8988e-02,  1.7988e-02, -1.0151e-02, -3.7831e-02,  1.2525e-02],\n",
              "        [-7.9728e-03, -7.4233e-03, -3.5931e-03,  4.3496e-02, -8.7918e-04,\n",
              "         -1.9225e-02,  1.8667e-02, -1.0670e-02, -3.8792e-02,  1.2253e-02],\n",
              "        [-8.3681e-03, -7.4543e-03, -4.3726e-03,  4.4079e-02, -1.6388e-05,\n",
              "         -1.9845e-02,  1.9447e-02, -1.2517e-02, -4.0758e-02,  1.1981e-02],\n",
              "        [-7.9773e-03, -7.5109e-03, -3.8634e-03,  4.3346e-02, -8.5988e-04,\n",
              "         -1.9333e-02,  1.8651e-02, -1.0569e-02, -3.8767e-02,  1.2304e-02],\n",
              "        [-7.9694e-03, -7.1534e-03, -4.0207e-03,  4.4073e-02, -3.2909e-04,\n",
              "         -1.9982e-02,  1.9339e-02, -1.1833e-02, -4.0685e-02,  1.2234e-02],\n",
              "        [-8.0441e-03, -7.3162e-03, -3.9068e-03,  4.3835e-02, -2.7294e-04,\n",
              "         -1.9741e-02,  1.9503e-02, -1.1931e-02, -3.9972e-02,  1.2402e-02],\n",
              "        [-7.0117e-03, -8.4428e-03, -2.7736e-03,  4.5141e-02,  2.1743e-03,\n",
              "         -2.2033e-02,  2.1086e-02, -1.4890e-02, -3.7655e-02,  1.3577e-02],\n",
              "        [-8.0739e-03, -6.8362e-03, -4.3024e-03,  4.3679e-02, -9.3840e-04,\n",
              "         -2.0490e-02,  1.8669e-02, -1.1595e-02, -3.9486e-02,  1.2637e-02],\n",
              "        [-7.9719e-03, -8.4866e-03, -3.8122e-03,  4.4211e-02, -3.1643e-04,\n",
              "         -1.9753e-02,  1.8539e-02, -1.2020e-02, -3.9098e-02,  1.2381e-02],\n",
              "        [-8.3808e-03, -7.5967e-03, -3.9262e-03,  4.4245e-02, -2.6589e-04,\n",
              "         -1.9661e-02,  1.9004e-02, -1.1831e-02, -3.9953e-02,  1.2212e-02],\n",
              "        [-8.3640e-03, -7.5898e-03, -4.5315e-03,  4.3673e-02,  4.1204e-04,\n",
              "         -1.9648e-02,  2.0093e-02, -1.2082e-02, -4.0710e-02,  1.2295e-02],\n",
              "        [-8.0718e-03, -7.6469e-03, -3.8762e-03,  4.2881e-02, -8.7100e-04,\n",
              "         -1.9296e-02,  1.9019e-02, -1.0949e-02, -3.9011e-02,  1.1950e-02],\n",
              "        [-7.8735e-03, -7.6112e-03, -4.1785e-03,  4.3994e-02,  2.3533e-04,\n",
              "         -2.0247e-02,  2.0054e-02, -1.3779e-02, -4.0756e-02,  1.3109e-02],\n",
              "        [-8.5417e-03, -7.4629e-03, -4.1391e-03,  4.4784e-02,  3.8323e-05,\n",
              "         -1.9900e-02,  1.9956e-02, -1.2661e-02, -4.1334e-02,  1.1885e-02],\n",
              "        [-7.4581e-03, -7.0631e-03, -4.3365e-03,  4.3854e-02, -3.9120e-04,\n",
              "         -1.9016e-02,  2.0038e-02, -1.1485e-02, -4.0024e-02,  1.1510e-02],\n",
              "        [-8.4335e-03, -7.7418e-03, -4.5471e-03,  4.3993e-02, -2.1482e-04,\n",
              "         -1.9776e-02,  1.9510e-02, -1.2444e-02, -4.0421e-02,  1.1970e-02],\n",
              "        [-8.4176e-03, -7.8505e-03, -4.5946e-03,  4.3854e-02,  3.5472e-04,\n",
              "         -2.0029e-02,  1.9529e-02, -1.2453e-02, -3.9764e-02,  1.2237e-02]],\n",
              "       grad_fn=<AddmmBackward0>)"
            ]
          },
          "metadata": {},
          "execution_count": 32
        }
      ]
    },
    {
      "cell_type": "code",
      "source": [
        "model_1(image_batch.to(device))"
      ],
      "metadata": {
        "colab": {
          "base_uri": "https://localhost:8080/"
        },
        "id": "xvX7CIv_bxZ-",
        "outputId": "462a5e2a-ca5f-4a9c-80af-06f91392628f"
      },
      "execution_count": 33,
      "outputs": [
        {
          "output_type": "execute_result",
          "data": {
            "text/plain": [
              "tensor([[-8.5121e-03, -7.0773e-03, -3.3466e-03,  4.2917e-02,  1.7458e-04,\n",
              "         -1.8853e-02,  1.9143e-02, -1.1874e-02, -4.0510e-02,  1.2709e-02],\n",
              "        [-8.6106e-03, -7.4658e-03, -5.1807e-03,  4.4399e-02,  7.0402e-04,\n",
              "         -2.0196e-02,  2.1302e-02, -1.4282e-02, -4.1829e-02,  1.1275e-02],\n",
              "        [-8.1258e-03, -7.5032e-03, -3.8269e-03,  4.3262e-02, -9.1553e-04,\n",
              "         -1.9340e-02,  1.8543e-02, -1.0886e-02, -3.8727e-02,  1.2300e-02],\n",
              "        [-7.3409e-03, -7.5012e-03, -4.7893e-03,  4.3983e-02, -6.1195e-04,\n",
              "         -1.9891e-02,  1.9219e-02, -1.1845e-02, -4.0002e-02,  1.2236e-02],\n",
              "        [-8.5998e-03, -7.6277e-03, -4.5390e-03,  4.3900e-02,  3.7936e-04,\n",
              "         -2.0097e-02,  2.0045e-02, -1.2963e-02, -4.0371e-02,  1.1296e-02],\n",
              "        [-8.0522e-03, -7.5547e-03, -3.7011e-03,  4.2853e-02, -1.0595e-03,\n",
              "         -1.9094e-02,  1.8320e-02, -1.0511e-02, -3.8368e-02,  1.2343e-02],\n",
              "        [-8.4033e-03, -7.5236e-03, -3.8180e-03,  4.3641e-02, -5.9148e-04,\n",
              "         -1.9422e-02,  1.9192e-02, -1.1830e-02, -3.9705e-02,  1.1372e-02],\n",
              "        [-7.7783e-03, -6.6924e-03, -4.2274e-03,  4.4129e-02, -1.2459e-03,\n",
              "         -2.0596e-02,  1.9009e-02, -1.1202e-02, -3.9062e-02,  1.2731e-02],\n",
              "        [-8.2649e-03, -7.4426e-03, -4.1055e-03,  4.3785e-02, -4.0374e-04,\n",
              "         -1.9975e-02,  1.9402e-02, -1.1320e-02, -3.9956e-02,  1.1945e-02],\n",
              "        [-8.2783e-03, -7.8965e-03, -4.2262e-03,  4.4542e-02,  5.1671e-04,\n",
              "         -1.9875e-02,  1.9970e-02, -1.2642e-02, -4.0187e-02,  1.2162e-02],\n",
              "        [-8.5026e-03, -7.3996e-03, -4.2816e-03,  4.4195e-02, -2.1178e-04,\n",
              "         -2.0265e-02,  1.9646e-02, -1.2769e-02, -4.0512e-02,  1.2076e-02],\n",
              "        [-8.2679e-03, -7.6648e-03, -4.1663e-03,  4.4774e-02,  6.7951e-05,\n",
              "         -1.9861e-02,  1.9452e-02, -1.1997e-02, -4.0534e-02,  1.2029e-02],\n",
              "        [-8.1010e-03, -6.4134e-03, -4.2368e-03,  4.4947e-02, -1.2891e-03,\n",
              "         -2.0765e-02,  1.9064e-02, -1.3489e-02, -4.0315e-02,  1.2735e-02],\n",
              "        [-8.2479e-03, -7.4992e-03, -4.4759e-03,  4.4358e-02, -1.0509e-04,\n",
              "         -1.9612e-02,  1.9736e-02, -1.2042e-02, -4.0553e-02,  1.1849e-02],\n",
              "        [-8.0117e-03, -7.5639e-03, -3.9646e-03,  4.3473e-02, -5.8615e-04,\n",
              "         -1.9549e-02,  1.8834e-02, -1.1294e-02, -3.9473e-02,  1.2159e-02],\n",
              "        [-8.0459e-03, -7.5011e-03, -3.5821e-03,  4.2493e-02, -1.3115e-03,\n",
              "         -1.8988e-02,  1.7988e-02, -1.0151e-02, -3.7831e-02,  1.2525e-02],\n",
              "        [-7.9728e-03, -7.4233e-03, -3.5931e-03,  4.3496e-02, -8.7918e-04,\n",
              "         -1.9225e-02,  1.8667e-02, -1.0670e-02, -3.8792e-02,  1.2253e-02],\n",
              "        [-8.3681e-03, -7.4543e-03, -4.3726e-03,  4.4079e-02, -1.6388e-05,\n",
              "         -1.9845e-02,  1.9447e-02, -1.2517e-02, -4.0758e-02,  1.1981e-02],\n",
              "        [-7.9773e-03, -7.5109e-03, -3.8634e-03,  4.3346e-02, -8.5988e-04,\n",
              "         -1.9333e-02,  1.8651e-02, -1.0569e-02, -3.8767e-02,  1.2304e-02],\n",
              "        [-7.9694e-03, -7.1534e-03, -4.0207e-03,  4.4073e-02, -3.2909e-04,\n",
              "         -1.9982e-02,  1.9339e-02, -1.1833e-02, -4.0685e-02,  1.2234e-02],\n",
              "        [-8.0441e-03, -7.3162e-03, -3.9068e-03,  4.3835e-02, -2.7294e-04,\n",
              "         -1.9741e-02,  1.9503e-02, -1.1931e-02, -3.9972e-02,  1.2402e-02],\n",
              "        [-7.0117e-03, -8.4428e-03, -2.7736e-03,  4.5141e-02,  2.1743e-03,\n",
              "         -2.2033e-02,  2.1086e-02, -1.4890e-02, -3.7655e-02,  1.3577e-02],\n",
              "        [-8.0739e-03, -6.8362e-03, -4.3024e-03,  4.3679e-02, -9.3840e-04,\n",
              "         -2.0490e-02,  1.8669e-02, -1.1595e-02, -3.9486e-02,  1.2637e-02],\n",
              "        [-7.9719e-03, -8.4866e-03, -3.8122e-03,  4.4211e-02, -3.1643e-04,\n",
              "         -1.9753e-02,  1.8539e-02, -1.2020e-02, -3.9098e-02,  1.2381e-02],\n",
              "        [-8.3808e-03, -7.5967e-03, -3.9262e-03,  4.4245e-02, -2.6589e-04,\n",
              "         -1.9661e-02,  1.9004e-02, -1.1831e-02, -3.9953e-02,  1.2212e-02],\n",
              "        [-8.3640e-03, -7.5898e-03, -4.5315e-03,  4.3673e-02,  4.1204e-04,\n",
              "         -1.9648e-02,  2.0093e-02, -1.2082e-02, -4.0710e-02,  1.2295e-02],\n",
              "        [-8.0718e-03, -7.6469e-03, -3.8762e-03,  4.2881e-02, -8.7100e-04,\n",
              "         -1.9296e-02,  1.9019e-02, -1.0949e-02, -3.9011e-02,  1.1950e-02],\n",
              "        [-7.8735e-03, -7.6112e-03, -4.1785e-03,  4.3994e-02,  2.3533e-04,\n",
              "         -2.0247e-02,  2.0054e-02, -1.3779e-02, -4.0756e-02,  1.3109e-02],\n",
              "        [-8.5417e-03, -7.4629e-03, -4.1391e-03,  4.4784e-02,  3.8323e-05,\n",
              "         -1.9900e-02,  1.9956e-02, -1.2661e-02, -4.1334e-02,  1.1885e-02],\n",
              "        [-7.4581e-03, -7.0631e-03, -4.3365e-03,  4.3854e-02, -3.9120e-04,\n",
              "         -1.9016e-02,  2.0038e-02, -1.1485e-02, -4.0024e-02,  1.1510e-02],\n",
              "        [-8.4335e-03, -7.7418e-03, -4.5471e-03,  4.3993e-02, -2.1482e-04,\n",
              "         -1.9776e-02,  1.9510e-02, -1.2444e-02, -4.0421e-02,  1.1970e-02],\n",
              "        [-8.4176e-03, -7.8505e-03, -4.5946e-03,  4.3854e-02,  3.5472e-04,\n",
              "         -2.0029e-02,  1.9529e-02, -1.2453e-02, -3.9764e-02,  1.2237e-02]],\n",
              "       grad_fn=<AddmmBackward0>)"
            ]
          },
          "metadata": {},
          "execution_count": 33
        }
      ]
    },
    {
      "cell_type": "code",
      "source": [
        "13*13"
      ],
      "metadata": {
        "colab": {
          "base_uri": "https://localhost:8080/"
        },
        "id": "lUfnAs4kb4CH",
        "outputId": "8bf89b53-9ff8-4be5-dcaa-90ed29470573"
      },
      "execution_count": 34,
      "outputs": [
        {
          "output_type": "execute_result",
          "data": {
            "text/plain": [
              "169"
            ]
          },
          "metadata": {},
          "execution_count": 34
        }
      ]
    },
    {
      "cell_type": "markdown",
      "source": [
        "## Check the shappes of the model\n",
        "\n",
        "Using 'torchinfo' to check the model arquiteture"
      ],
      "metadata": {
        "id": "tQ6rGp7ycLZu"
      }
    },
    {
      "cell_type": "code",
      "source": [
        "# Installing if not availble\n",
        "\n",
        "try:\n",
        "  import torchinfo\n",
        "except:\n",
        "  !pip install torchinfo\n",
        "  import torchinfo\n",
        "\n",
        "from torchinfo import summary\n",
        "summary(model_1, input_size = image_batch.shape)"
      ],
      "metadata": {
        "colab": {
          "base_uri": "https://localhost:8080/"
        },
        "id": "Qf3UDFbrfvWh",
        "outputId": "5835651f-2026-478c-e65b-8b2a0a982666"
      },
      "execution_count": 35,
      "outputs": [
        {
          "output_type": "stream",
          "name": "stdout",
          "text": [
            "Collecting torchinfo\n",
            "  Downloading torchinfo-1.8.0-py3-none-any.whl.metadata (21 kB)\n",
            "Downloading torchinfo-1.8.0-py3-none-any.whl (23 kB)\n",
            "Installing collected packages: torchinfo\n",
            "Successfully installed torchinfo-1.8.0\n"
          ]
        },
        {
          "output_type": "execute_result",
          "data": {
            "text/plain": [
              "==========================================================================================\n",
              "Layer (type:depth-idx)                   Output Shape              Param #\n",
              "==========================================================================================\n",
              "CNN_Model1                               [32, 10]                  --\n",
              "├─Sequential: 1-1                        [32, 10, 30, 30]          --\n",
              "│    └─Conv2d: 2-1                       [32, 10, 62, 62]          280\n",
              "│    └─ReLU: 2-2                         [32, 10, 62, 62]          --\n",
              "│    └─Conv2d: 2-3                       [32, 10, 60, 60]          910\n",
              "│    └─ReLU: 2-4                         [32, 10, 60, 60]          --\n",
              "│    └─MaxPool2d: 2-5                    [32, 10, 30, 30]          --\n",
              "├─Sequential: 1-2                        [32, 10, 13, 13]          --\n",
              "│    └─Conv2d: 2-6                       [32, 10, 28, 28]          910\n",
              "│    └─ReLU: 2-7                         [32, 10, 28, 28]          --\n",
              "│    └─Conv2d: 2-8                       [32, 10, 26, 26]          910\n",
              "│    └─ReLU: 2-9                         [32, 10, 26, 26]          --\n",
              "│    └─MaxPool2d: 2-10                   [32, 10, 13, 13]          --\n",
              "├─Sequential: 1-3                        [32, 10]                  --\n",
              "│    └─Flatten: 2-11                     [32, 1690]                --\n",
              "│    └─Linear: 2-12                      [32, 10]                  16,910\n",
              "==========================================================================================\n",
              "Total params: 19,920\n",
              "Trainable params: 19,920\n",
              "Non-trainable params: 0\n",
              "Total mult-adds (Units.MEGABYTES): 182.33\n",
              "==========================================================================================\n",
              "Input size (MB): 1.57\n",
              "Forward/backward pass size (MB): 22.80\n",
              "Params size (MB): 0.08\n",
              "Estimated Total Size (MB): 24.45\n",
              "=========================================================================================="
            ]
          },
          "metadata": {},
          "execution_count": 35
        }
      ]
    },
    {
      "cell_type": "markdown",
      "source": [
        "# Training"
      ],
      "metadata": {
        "id": "9-gppkyhgZHJ"
      }
    },
    {
      "cell_type": "markdown",
      "source": [
        "## Training Step"
      ],
      "metadata": {
        "id": "wzrdeXhIgnWx"
      }
    },
    {
      "cell_type": "code",
      "source": [
        "def train_step(model: torch.nn.Module,\n",
        "               dataloader: torch.utils.data.DataLoader,\n",
        "               loss_fn: torch.nn.Module,\n",
        "               optimizer: torch.optim.Optimizer,\n",
        "               device=device):\n",
        "\n",
        "  # Putting the model in training mode\n",
        "  model.train()\n",
        "\n",
        "  # Setting the loss and accurecy value to accumate in each batch\n",
        "  train_loss, train_acc = 0,0\n",
        "\n",
        "  # Looping through datalaoder data batches\n",
        "  for batch, (X, y) in enumerate(dataloader):\n",
        "    # Sending the data to the target device\n",
        "    X, y = X.to(device), y.to(device)\n",
        "\n",
        "    # Forward pass <- logits\n",
        "    y_pred = model(X)\n",
        "\n",
        "    # Calculating the loss\n",
        "    loss = loss_fn(y_pred, y)\n",
        "\n",
        "    # Accumulating loss\n",
        "    train_loss += loss.item()\n",
        "\n",
        "    # Zero the gradient not to accumalte\n",
        "    optimizer.zero_grad()\n",
        "\n",
        "    # Back propagation - calculate the gradient\n",
        "    loss.backward()\n",
        "\n",
        "    # update the weights\n",
        "    optimizer.step()\n",
        "\n",
        "    # Calculating the accurecy logit -> pred probability -> labels\n",
        "    y_pred_class = torch.argmax(torch.softmax(y_pred, dim=1), dim=1)\n",
        "    train_acc += (y_pred_class==y).sum().item()/len(y_pred)\n",
        "\n",
        "  # Calculate the avarege training loss\n",
        "  train_loss = train_loss/len(dataloader)\n",
        "  train_acc = train_acc/len(dataloader)\n",
        "\n",
        "  # Retrun train loss and accuracy of the step to track\n",
        "  return train_loss, train_acc\n"
      ],
      "metadata": {
        "id": "Oy419d1Cguey"
      },
      "execution_count": 36,
      "outputs": []
    },
    {
      "cell_type": "markdown",
      "source": [
        "## Evaluation step"
      ],
      "metadata": {
        "id": "XYt6of-ltAZX"
      }
    },
    {
      "cell_type": "code",
      "source": [
        "# Creating a testing function\n",
        "def test_step(model: torch.nn.Module,\n",
        "              dataloader: torch.utils.data.DataLoader,\n",
        "              loss_fn: torch.nn.Module,\n",
        "              device=device):\n",
        "\n",
        "  # Putting the model in eval mode\n",
        "  model.eval()\n",
        "\n",
        "  test_loss, test_acc = 0,0\n",
        "\n",
        "  with torch.inference_mode():\n",
        "    #\n",
        "    for batch, (X, y) in enumerate(dataloader):\n",
        "      X, y =  X.to(device), y.to(device)\n",
        "\n",
        "      test_pred_logit = model(X)\n",
        "\n",
        "      loss = loss_fn(test_pred_logit, y)\n",
        "\n",
        "      test_loss += loss.item()\n",
        "\n",
        "      test_pred_labels = test_pred_logit.argmax(dim=1)\n",
        "      test_acc += ((test_pred_labels==y).sum().item()/len(test_pred_labels))\n",
        "\n",
        "  test_loss /= len(dataloader)\n",
        "  test_acc /= len(dataloader)\n",
        "  return test_loss, test_acc"
      ],
      "metadata": {
        "id": "m_QqKCirk8U0"
      },
      "execution_count": 37,
      "outputs": []
    },
    {
      "cell_type": "markdown",
      "source": [
        "## Training Function"
      ],
      "metadata": {
        "id": "cd8rZHO1nxSP"
      }
    },
    {
      "cell_type": "code",
      "source": [
        "from tqdm.auto import tqdm\n",
        "\n",
        "def Train(model: torch.nn.Module,\n",
        "          train_datalaoder: torch.utils.data.DataLoader,\n",
        "          test_datalaoder: torch.utils.data.DataLoader,\n",
        "          optimizer: torch.optim.Optimizer,\n",
        "          loss_fn: torch.nn.Module = nn.CrossEntropyLoss(),\n",
        "          epochs: int = 5,\n",
        "          device = device\n",
        "          ):\n",
        "\n",
        "  # Creating a result dictionary to track the metrics\n",
        "  results = {\"train_loss\":[],\n",
        "             \"train_acc\":[],\n",
        "             \"test_loss\":[],\n",
        "             \"test_acc\":[]}\n",
        "\n",
        "  # Training loo\n",
        "  for epoch in tqdm(range(epochs)):\n",
        "    train_loss, train_acc = train_step(model=model,\n",
        "                                       dataloader=train_datalaoder,\n",
        "                                       loss_fn=loss_fn,\n",
        "                                       optimizer=optimizer,\n",
        "                                       device=device)\n",
        "\n",
        "    test_loss, test_acc = test_step(model=model,\n",
        "                                    dataloader=test_dataloader,\n",
        "                                    loss_fn=loss_fn,\n",
        "                                    device=device)\n",
        "\n",
        "    # Print happening\n",
        "    print(f\"Epoch: {epoch} | Train loss: {train_loss:.4f}, Train Acc: {train_acc*100:.4f}% | Test loss:{test_loss:.4f}, Test acc: {test_acc*100:.4f}%\")\n",
        "\n",
        "    # Add parameters to the result dictionary\n",
        "    results[\"train_loss\"].append(train_loss)\n",
        "    results[\"test_acc\"].append(train_acc)\n",
        "    results[\"test_loss\"].append(test_loss)\n",
        "    results[\"test_acc\"].append(test_acc)\n",
        "\n",
        "  # Return the filled results\n",
        "  return results"
      ],
      "metadata": {
        "id": "ChGIu1mfuULK"
      },
      "execution_count": 38,
      "outputs": []
    },
    {
      "cell_type": "markdown",
      "source": [
        "## Training and evaluating"
      ],
      "metadata": {
        "id": "WUtlS1gix2qM"
      }
    },
    {
      "cell_type": "code",
      "source": [
        "# Seed maybe again---\n",
        "\n",
        "NUM_EPOCHS = 100\n",
        "\n",
        "# Loss function and otmizer\n",
        "loss_fn = nn.CrossEntropyLoss()\n",
        "optimizer = torch.optim.SGD(params=model_1.parameters(), lr=0.1)\n",
        "\n",
        "# Recorigin start time\n",
        "from  timeit import default_timer as timer\n",
        "\n",
        "\n",
        "start_time = timer()\n",
        "model_1_results = Train(model=model_1,\n",
        "                        train_datalaoder=train_datalaoder,\n",
        "                        test_datalaoder=test_dataloader,\n",
        "                        loss_fn=loss_fn,\n",
        "                        optimizer=optimizer,\n",
        "                        epochs=NUM_EPOCHS,\n",
        "                        device=device)\n",
        "end_time = timer()\n",
        "\n",
        "print(f\"Total training time: {end_time-start_time:.3f} secods\")\n"
      ],
      "metadata": {
        "colab": {
          "base_uri": "https://localhost:8080/",
          "height": 1000,
          "referenced_widgets": [
            "2361641dbeb44be6a078f4a126dae3a5",
            "7a746c55e2014a82a35e8ed91c23e765",
            "acaf7d8903f0422e9a0dd32f9b075903",
            "6d77444802724b82b349a713ac2fec31",
            "2217b89399a44d428ccbee722e513755",
            "408085bf9c9a487390889a089f64365a",
            "cb6132047e8a4638b530459cbeffece2",
            "ca0a96cc97a44d98882ff92399c631fa",
            "ff6143df2f6048558424fdd1bcb10909",
            "19218762ad974c97b92e297c70c71c56",
            "c2347c6229b54f159279538749e6d04b"
          ]
        },
        "id": "ep58jnmftOQH",
        "outputId": "2b3b2ea1-6bb6-4d23-d824-f1ef34e3ba41"
      },
      "execution_count": null,
      "outputs": [
        {
          "output_type": "display_data",
          "data": {
            "text/plain": [
              "  0%|          | 0/100 [00:00<?, ?it/s]"
            ],
            "application/vnd.jupyter.widget-view+json": {
              "version_major": 2,
              "version_minor": 0,
              "model_id": "2361641dbeb44be6a078f4a126dae3a5"
            }
          },
          "metadata": {}
        },
        {
          "output_type": "stream",
          "name": "stdout",
          "text": [
            "Epoch: 0 | Train loss: 2.2955, Train Acc: 11.1296% | Test loss:2.2970, Test acc: 10.7803%\n",
            "Epoch: 1 | Train loss: 2.2957, Train Acc: 11.1991% | Test loss:2.2962, Test acc: 10.3797%\n",
            "Epoch: 2 | Train loss: 2.2957, Train Acc: 11.2269% | Test loss:2.2955, Test acc: 10.7803%\n",
            "Epoch: 3 | Train loss: 2.2956, Train Acc: 10.9491% | Test loss:2.2964, Test acc: 10.3797%\n",
            "Epoch: 4 | Train loss: 2.2958, Train Acc: 10.7130% | Test loss:2.2956, Test acc: 11.2364%\n",
            "Epoch: 5 | Train loss: 2.2956, Train Acc: 10.9028% | Test loss:2.2962, Test acc: 10.3797%\n",
            "Epoch: 6 | Train loss: 2.2954, Train Acc: 11.3611% | Test loss:2.2966, Test acc: 10.7803%\n",
            "Epoch: 7 | Train loss: 2.2956, Train Acc: 11.0417% | Test loss:2.2958, Test acc: 11.6864%\n",
            "Epoch: 8 | Train loss: 2.2944, Train Acc: 11.1296% | Test loss:2.2953, Test acc: 10.7803%\n",
            "Epoch: 9 | Train loss: 2.2954, Train Acc: 10.8519% | Test loss:2.2964, Test acc: 11.6864%\n",
            "Epoch: 10 | Train loss: 2.2958, Train Acc: 10.9167% | Test loss:2.2953, Test acc: 10.3797%\n",
            "Epoch: 11 | Train loss: 2.2956, Train Acc: 10.9537% | Test loss:2.2954, Test acc: 11.3289%\n",
            "Epoch: 12 | Train loss: 2.2956, Train Acc: 10.8750% | Test loss:2.2951, Test acc: 10.7803%\n",
            "Epoch: 13 | Train loss: 2.2956, Train Acc: 10.8472% | Test loss:2.2971, Test acc: 10.3797%\n",
            "Epoch: 14 | Train loss: 2.2955, Train Acc: 11.0833% | Test loss:2.2957, Test acc: 11.2364%\n",
            "Epoch: 15 | Train loss: 2.2956, Train Acc: 11.0000% | Test loss:2.2953, Test acc: 11.3289%\n",
            "Epoch: 16 | Train loss: 2.2955, Train Acc: 11.1667% | Test loss:2.2960, Test acc: 10.3797%\n",
            "Epoch: 17 | Train loss: 2.2957, Train Acc: 11.0602% | Test loss:2.2957, Test acc: 11.2364%\n",
            "Epoch: 18 | Train loss: 2.2955, Train Acc: 10.9074% | Test loss:2.2963, Test acc: 10.7803%\n",
            "Epoch: 19 | Train loss: 2.2954, Train Acc: 10.9028% | Test loss:2.2959, Test acc: 11.2364%\n",
            "Epoch: 20 | Train loss: 2.2955, Train Acc: 10.9722% | Test loss:2.2958, Test acc: 10.3797%\n",
            "Epoch: 21 | Train loss: 2.2955, Train Acc: 11.1019% | Test loss:2.2956, Test acc: 11.3289%\n",
            "Epoch: 22 | Train loss: 2.2957, Train Acc: 11.0417% | Test loss:2.2956, Test acc: 11.2364%\n",
            "Epoch: 23 | Train loss: 2.2955, Train Acc: 11.3333% | Test loss:2.2954, Test acc: 11.2364%\n",
            "Epoch: 24 | Train loss: 2.2954, Train Acc: 10.9491% | Test loss:2.2955, Test acc: 11.3289%\n",
            "Epoch: 25 | Train loss: 2.2957, Train Acc: 11.1204% | Test loss:2.2965, Test acc: 10.3797%\n",
            "Epoch: 26 | Train loss: 2.2956, Train Acc: 10.7731% | Test loss:2.2955, Test acc: 11.3289%\n",
            "Epoch: 27 | Train loss: 2.2956, Train Acc: 11.1296% | Test loss:2.2960, Test acc: 10.3797%\n",
            "Epoch: 28 | Train loss: 2.2956, Train Acc: 11.1157% | Test loss:2.2960, Test acc: 10.3797%\n",
            "Epoch: 29 | Train loss: 2.2957, Train Acc: 11.1852% | Test loss:2.2954, Test acc: 10.3797%\n",
            "Epoch: 30 | Train loss: 2.2956, Train Acc: 10.9074% | Test loss:2.2958, Test acc: 11.2364%\n",
            "Epoch: 31 | Train loss: 2.2956, Train Acc: 11.3750% | Test loss:2.2961, Test acc: 10.3797%\n",
            "Epoch: 32 | Train loss: 2.2957, Train Acc: 10.9398% | Test loss:2.2959, Test acc: 11.3289%\n",
            "Epoch: 33 | Train loss: 2.2953, Train Acc: 11.0509% | Test loss:2.2958, Test acc: 11.3289%\n",
            "Epoch: 34 | Train loss: 2.2957, Train Acc: 10.6806% | Test loss:2.2957, Test acc: 10.3797%\n",
            "Epoch: 35 | Train loss: 2.2956, Train Acc: 11.0139% | Test loss:2.2958, Test acc: 10.7803%\n",
            "Epoch: 36 | Train loss: 2.2956, Train Acc: 11.0509% | Test loss:2.2962, Test acc: 10.3797%\n",
            "Epoch: 37 | Train loss: 2.2957, Train Acc: 10.7685% | Test loss:2.2952, Test acc: 10.3797%\n",
            "Epoch: 38 | Train loss: 2.2956, Train Acc: 11.0972% | Test loss:2.2960, Test acc: 11.3289%\n",
            "Epoch: 39 | Train loss: 2.2957, Train Acc: 11.1620% | Test loss:2.2951, Test acc: 11.3289%\n",
            "Epoch: 40 | Train loss: 2.2956, Train Acc: 11.0602% | Test loss:2.2973, Test acc: 10.3797%\n",
            "Epoch: 41 | Train loss: 2.2955, Train Acc: 11.4120% | Test loss:2.2970, Test acc: 10.3797%\n",
            "Epoch: 42 | Train loss: 2.2955, Train Acc: 10.8657% | Test loss:2.2964, Test acc: 10.7803%\n",
            "Epoch: 43 | Train loss: 2.2957, Train Acc: 10.8843% | Test loss:2.2958, Test acc: 10.3797%\n",
            "Epoch: 44 | Train loss: 2.2956, Train Acc: 11.4491% | Test loss:2.2964, Test acc: 10.7803%\n",
            "Epoch: 45 | Train loss: 2.2957, Train Acc: 11.0139% | Test loss:2.2960, Test acc: 10.7803%\n",
            "Epoch: 46 | Train loss: 2.2955, Train Acc: 11.0787% | Test loss:2.2950, Test acc: 10.7803%\n",
            "Epoch: 47 | Train loss: 2.2956, Train Acc: 11.2269% | Test loss:2.2950, Test acc: 10.7803%\n",
            "Epoch: 48 | Train loss: 2.2956, Train Acc: 11.1991% | Test loss:2.2957, Test acc: 10.3797%\n",
            "Epoch: 49 | Train loss: 2.2955, Train Acc: 11.1343% | Test loss:2.2958, Test acc: 10.7803%\n",
            "Epoch: 50 | Train loss: 2.2957, Train Acc: 10.7176% | Test loss:2.2958, Test acc: 11.2364%\n",
            "Epoch: 51 | Train loss: 2.2958, Train Acc: 10.9769% | Test loss:2.2958, Test acc: 10.7803%\n",
            "Epoch: 52 | Train loss: 2.2956, Train Acc: 11.1204% | Test loss:2.2949, Test acc: 11.3289%\n",
            "Epoch: 53 | Train loss: 2.2957, Train Acc: 10.7546% | Test loss:2.2962, Test acc: 10.7803%\n",
            "Epoch: 54 | Train loss: 2.2955, Train Acc: 10.9630% | Test loss:2.2967, Test acc: 10.3797%\n",
            "Epoch: 55 | Train loss: 2.2957, Train Acc: 11.3102% | Test loss:2.2954, Test acc: 11.2364%\n",
            "Epoch: 56 | Train loss: 2.2957, Train Acc: 11.1620% | Test loss:2.2951, Test acc: 11.6864%\n",
            "Epoch: 57 | Train loss: 2.2956, Train Acc: 11.1806% | Test loss:2.2956, Test acc: 11.2364%\n",
            "Epoch: 58 | Train loss: 2.2954, Train Acc: 11.4398% | Test loss:2.2962, Test acc: 10.3797%\n",
            "Epoch: 59 | Train loss: 2.2956, Train Acc: 11.2546% | Test loss:2.2951, Test acc: 10.7803%\n",
            "Epoch: 60 | Train loss: 2.2955, Train Acc: 11.3102% | Test loss:2.2960, Test acc: 10.3797%\n",
            "Epoch: 61 | Train loss: 2.2955, Train Acc: 11.4074% | Test loss:2.2952, Test acc: 11.2364%\n",
            "Epoch: 62 | Train loss: 2.2957, Train Acc: 11.0463% | Test loss:2.2949, Test acc: 11.2364%\n",
            "Epoch: 63 | Train loss: 2.2956, Train Acc: 10.9722% | Test loss:2.2951, Test acc: 11.6864%\n",
            "Epoch: 64 | Train loss: 2.2954, Train Acc: 10.8194% | Test loss:2.2977, Test acc: 10.3797%\n",
            "Epoch: 65 | Train loss: 2.2957, Train Acc: 11.0463% | Test loss:2.2960, Test acc: 10.3797%\n",
            "Epoch: 66 | Train loss: 2.2956, Train Acc: 11.0046% | Test loss:2.2956, Test acc: 11.2364%\n",
            "Epoch: 67 | Train loss: 2.2955, Train Acc: 10.8611% | Test loss:2.2955, Test acc: 11.6864%\n",
            "Epoch: 68 | Train loss: 2.2955, Train Acc: 11.3889% | Test loss:2.2961, Test acc: 10.3797%\n",
            "Epoch: 69 | Train loss: 2.2957, Train Acc: 11.0833% | Test loss:2.2961, Test acc: 10.3797%\n",
            "Epoch: 70 | Train loss: 2.2956, Train Acc: 11.1435% | Test loss:2.2955, Test acc: 11.3289%\n",
            "Epoch: 71 | Train loss: 2.2956, Train Acc: 11.0417% | Test loss:2.2981, Test acc: 10.3797%\n",
            "Epoch: 72 | Train loss: 2.2957, Train Acc: 11.0509% | Test loss:2.2961, Test acc: 10.3797%\n",
            "Epoch: 73 | Train loss: 2.2956, Train Acc: 11.2037% | Test loss:2.2962, Test acc: 10.7803%\n",
            "Epoch: 74 | Train loss: 2.2957, Train Acc: 11.1574% | Test loss:2.2958, Test acc: 11.2364%\n",
            "Epoch: 75 | Train loss: 2.2955, Train Acc: 11.1620% | Test loss:2.2968, Test acc: 10.3797%\n",
            "Epoch: 76 | Train loss: 2.2957, Train Acc: 11.1574% | Test loss:2.2959, Test acc: 10.3797%\n",
            "Epoch: 77 | Train loss: 2.2956, Train Acc: 11.1713% | Test loss:2.2954, Test acc: 11.2364%\n",
            "Epoch: 78 | Train loss: 2.2956, Train Acc: 10.8519% | Test loss:2.2963, Test acc: 10.3797%\n",
            "Epoch: 79 | Train loss: 2.2956, Train Acc: 10.9583% | Test loss:2.2953, Test acc: 10.7803%\n",
            "Epoch: 80 | Train loss: 2.2957, Train Acc: 10.8241% | Test loss:2.2953, Test acc: 10.3797%\n",
            "Epoch: 81 | Train loss: 2.2955, Train Acc: 10.8889% | Test loss:2.2966, Test acc: 11.3289%\n",
            "Epoch: 82 | Train loss: 2.2955, Train Acc: 10.9537% | Test loss:2.2969, Test acc: 10.3797%\n",
            "Epoch: 83 | Train loss: 2.2956, Train Acc: 11.1204% | Test loss:2.2959, Test acc: 10.3797%\n",
            "Epoch: 84 | Train loss: 2.2956, Train Acc: 10.9815% | Test loss:2.2954, Test acc: 10.7803%\n",
            "Epoch: 85 | Train loss: 2.2956, Train Acc: 10.6898% | Test loss:2.2953, Test acc: 11.6864%\n",
            "Epoch: 86 | Train loss: 2.2957, Train Acc: 10.5509% | Test loss:2.2957, Test acc: 10.7803%\n",
            "Epoch: 87 | Train loss: 2.2956, Train Acc: 11.0926% | Test loss:2.2964, Test acc: 10.3797%\n",
            "Epoch: 88 | Train loss: 2.2956, Train Acc: 11.0139% | Test loss:2.2966, Test acc: 10.7803%\n",
            "Epoch: 89 | Train loss: 2.2957, Train Acc: 10.9583% | Test loss:2.2966, Test acc: 10.7803%\n",
            "Epoch: 90 | Train loss: 2.2957, Train Acc: 11.1667% | Test loss:2.2959, Test acc: 11.2364%\n",
            "Epoch: 91 | Train loss: 2.2957, Train Acc: 10.8889% | Test loss:2.2952, Test acc: 11.3289%\n",
            "Epoch: 92 | Train loss: 2.2956, Train Acc: 11.3333% | Test loss:2.2952, Test acc: 11.6864%\n",
            "Epoch: 93 | Train loss: 2.2957, Train Acc: 10.9583% | Test loss:2.2957, Test acc: 11.3289%\n",
            "Epoch: 94 | Train loss: 2.2957, Train Acc: 10.7778% | Test loss:2.2952, Test acc: 11.3289%\n",
            "Epoch: 95 | Train loss: 2.2955, Train Acc: 10.8333% | Test loss:2.2959, Test acc: 10.3797%\n",
            "Epoch: 96 | Train loss: 2.2957, Train Acc: 10.9630% | Test loss:2.2952, Test acc: 11.6864%\n",
            "Epoch: 97 | Train loss: 2.2955, Train Acc: 11.0093% | Test loss:2.2960, Test acc: 10.3797%\n",
            "Epoch: 98 | Train loss: 2.2957, Train Acc: 11.3380% | Test loss:2.2950, Test acc: 11.6864%\n",
            "Epoch: 99 | Train loss: 2.2953, Train Acc: 11.2963% | Test loss:2.2961, Test acc: 11.2364%\n",
            "Total training time: 1221.796 secods\n"
          ]
        }
      ]
    },
    {
      "cell_type": "code",
      "source": [
        "len(train_datalaoder), len(test_dataloader)"
      ],
      "metadata": {
        "colab": {
          "base_uri": "https://localhost:8080/"
        },
        "id": "PEbLjWE72T-j",
        "outputId": "1be62c34-6dea-4237-ffda-22ab94f46f3c"
      },
      "execution_count": null,
      "outputs": [
        {
          "output_type": "execute_result",
          "data": {
            "text/plain": [
              "(675, 169)"
            ]
          },
          "metadata": {},
          "execution_count": 58
        }
      ]
    },
    {
      "cell_type": "code",
      "source": [
        "#Traing again\n",
        "# Seed maybe again---\n",
        "\n",
        "NUM_EPOCHS = 100\n",
        "\n",
        "# Loss function and otmizer\n",
        "loss_fn = nn.CrossEntropyLoss()\n",
        "optimizer = torch.optim.SGD(params=model_1.parameters(), lr=0.01)\n",
        "\n",
        "# Recorigin start time\n",
        "from  timeit import default_timer as timer\n",
        "\n",
        "\n",
        "start_time = timer()\n",
        "model_1_results = Train(model=model_1,\n",
        "                        train_datalaoder=train_datalaoder,\n",
        "                        test_datalaoder=test_dataloader,\n",
        "                        loss_fn=loss_fn,\n",
        "                        optimizer=optimizer,\n",
        "                        epochs=NUM_EPOCHS,\n",
        "                        device=device)\n",
        "end_time = timer()\n",
        "\n",
        "print(f\"Total training time: {end_time-start_time:.3f} secods\")"
      ],
      "metadata": {
        "id": "InfBIHEby96d"
      },
      "execution_count": null,
      "outputs": []
    },
    {
      "cell_type": "code",
      "source": [],
      "metadata": {
        "id": "wT-InNDu3wyk"
      },
      "execution_count": null,
      "outputs": []
    }
  ]
}