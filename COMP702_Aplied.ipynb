{
  "nbformat": 4,
  "nbformat_minor": 0,
  "metadata": {
    "colab": {
      "provenance": [],
      "authorship_tag": "ABX9TyMYFf08VySrs/e7iw44te3C",
      "include_colab_link": true
    },
    "kernelspec": {
      "name": "python3",
      "display_name": "Python 3"
    },
    "language_info": {
      "name": "python"
    }
  },
  "cells": [
    {
      "cell_type": "markdown",
      "metadata": {
        "id": "view-in-github",
        "colab_type": "text"
      },
      "source": [
        "<a href=\"https://colab.research.google.com/github/atanilson/Comp702/blob/main/COMP702_Aplied.ipynb\" target=\"_parent\"><img src=\"https://colab.research.google.com/assets/colab-badge.svg\" alt=\"Open In Colab\"/></a>"
      ]
    },
    {
      "cell_type": "markdown",
      "source": [
        "# Geospacial Data Processing Tools\n",
        "\n",
        "* Google Earth Engine, Python Earth Engine Application\n",
        "* GeoPanda Geospacial Analysis\n",
        "* Rasterio\n",
        "* Foliom"
      ],
      "metadata": {
        "id": "3RY6GSNVZBSs"
      }
    },
    {
      "cell_type": "code",
      "source": [
        "%%capture\n",
        "!pip -q install --upgrade folium\n",
        "!apt install libspatialindex-dev\n",
        "!pip -q install rtree\n",
        "!pip -q install geopandas\n",
        "!pip -q install geojson\n",
        "!pip -q install geemap==0.17.3\n",
        "!pip -q uninstall tornado -y\n",
        "!yes | pip install tornado==5.1.0\n",
        "!pip -q install rasterio\n",
        "!pip -q install tqdm\n",
        "!pip -q install eeconvert"
      ],
      "metadata": {
        "id": "S5Sq_C7JZLrv"
      },
      "execution_count": null,
      "outputs": []
    },
    {
      "cell_type": "code",
      "source": [
        "# Standard imports\n",
        "import os\n",
        "from tqdm.auto import tqdm\n",
        "import requests\n",
        "import json\n",
        "\n",
        "import pandas as pd\n",
        "import numpy as np\n",
        "from PIL import Image\n",
        "\n",
        "# Geospacial processing packages\n",
        "import geopandas as gpd\n",
        "import geojson\n",
        "\n",
        "import shapely\n",
        "import rasterio as rio\n",
        "from rasterio.plot import show\n",
        "import rasterio.mask\n",
        "from shapely.geometry import box\n",
        "\n",
        "# Mapping and plotting libraries\n",
        "import matplotlib.pyplot as plt\n",
        "import matplotlib.colors as cl\n",
        "import ee\n",
        "import eeconvert as eec\n",
        "import geemap\n",
        "import geemap.eefolium as emap\n",
        "import folium\n",
        "\n",
        "# Model\n",
        "import torch\n",
        "from torchvision import datasets, models, transforms"
      ],
      "metadata": {
        "id": "XPrr-CQmed03"
      },
      "execution_count": null,
      "outputs": []
    },
    {
      "cell_type": "code",
      "source": [],
      "metadata": {
        "id": "-M28HyYOgZ8y"
      },
      "execution_count": null,
      "outputs": []
    }
  ]
}